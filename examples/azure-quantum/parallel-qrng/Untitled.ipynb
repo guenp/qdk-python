{
 "cells": [
  {
   "cell_type": "code",
   "execution_count": 1,
   "id": "greater-television",
   "metadata": {},
   "outputs": [
    {
     "name": "stdout",
     "output_type": "stream",
     "text": [
      "Preparing Q# environment...\n",
      "....['Microsoft.Quantum.Samples.SampleRandomNumber']\n"
     ]
    },
    {
     "data": {
      "application/json": "{\"LastUpdated\":\"2021-02-23T02:58:49.776249-08:00\",\"IsCompleted\":false,\"Description\":\"Reloading workspace\",\"Subtask\":null}",
      "text/plain": [
       "Reloading workspace."
      ]
     },
     "metadata": {},
     "output_type": "display_data"
    }
   ],
   "source": [
    "# Copyright (c) Microsoft Corporation.\n",
    "# Licensed under the MIT License.\n",
    "\n",
    "import sys\n",
    "\n",
    "import qsharp\n",
    "import qsharp.azure\n",
    "\n",
    "# Print a list of Q# operations that are available to simulate or execute\n",
    "# from Python.\n",
    "print(qsharp.get_available_operations())\n",
    "\n",
    "qsharp.reload()\n",
    "\n",
    "from Microsoft.Quantum.Samples import SampleRandomNumber"
   ]
  },
  {
   "cell_type": "code",
   "execution_count": 2,
   "id": "monthly-document",
   "metadata": {},
   "outputs": [
    {
     "name": "stdout",
     "output_type": "stream",
     "text": [
      "Local simulation result: [0, 0, 0]\n"
     ]
    },
    {
     "data": {
      "application/json": "{\"UserCode\":\"FZZJDY3YL\",\"DeviceCode\":\"FAQABAAEAAAD--DLA3VO7QrddgJg7WevrfyMfKmXTSM4-FRGHTfFEfD0n9n8GDFPLsoxEl26xwhNfOqWlx2-p5Slq2tb9RdRsuRh8iImXd9T64NtayA94UDpjMIIteEcfhV5cBA-0xae3EsfEaK6Anz6l_nkEV3q9K40mEtJox8TtqNSMqZgYtr8_1hygVUNbMjC8eZQWXQEgAA\",\"VerificationUrl\":\"https://microsoft.com/devicelogin\",\"ExpiresOn\":\"2021-02-23T11:16:17.035009+00:00\",\"Interval\":5,\"Message\":\"To sign in, use a web browser to open the page https://microsoft.com/devicelogin and enter the code FZZJDY3YL to authenticate.\",\"ClientId\":\"84ba0947-6c53-4dd2-9ca9-b3694761521b\",\"Scopes\":[\"https://quantum.microsoft.com/Jobs.ReadWrite\",\"offline_access\",\"profile\",\"openid\"]}",
      "text/html": [
       "To sign in, use a web browser to open the page <a href=\"https://microsoft.com/devicelogin\"><code>https://microsoft.com/devicelogin</code></a> and enter the code <span id=\"a16c6809-5a51-4429-bb32-cb54e81dad9e\" style=\"background-color: #e0e0e0;\">\r\n",
       "                            <i class=\"fa fa-clipboard\" aria-hidden=\"true\"></i>\r\n",
       "                            <strong style=\"padding-right: 0.2em\">FZZJDY3YL</strong></span> to authenticate.\n",
       "<script>\r\n",
       "                    window.iqsharp.addCopyListener(\"a16c6809-5a51-4429-bb32-cb54e81dad9e\", \"FZZJDY3YL\");\r\n",
       "                </script>"
      ],
      "text/plain": [
       "To sign in, use a web browser to open the page https://microsoft.com/devicelogin and enter the code FZZJDY3YL to authenticate."
      ]
     },
     "metadata": {},
     "output_type": "display_data"
    },
    {
     "name": "stdout",
     "output_type": "stream",
     "text": [
      "Connected to Azure Quantum workspace azure-quantum-01 in location westus.\n"
     ]
    },
    {
     "data": {
      "application/json": "{\"UserCode\":\"RC7LC6CP9\",\"DeviceCode\":\"RAQABAAEAAAD--DLA3VO7QrddgJg7WevrKVdzeQYkHqCejWBpMsGQZpcidQCLbW82NmURECRvtuHPC7VCAQ8TpozqQoin75y0eq66cYV7x3_LDV2gmX_pB0c72yeSsd_KPcy0TNSwuYXs1ZOZfDRDXXsILsaHOIx8DEEMLsT-dNEUwGeDUQQnCmxqPo8dC_B2r0y85WE5JtAgAA\",\"VerificationUrl\":\"https://microsoft.com/devicelogin\",\"ExpiresOn\":\"2021-02-23T11:16:34.110326+00:00\",\"Interval\":5,\"Message\":\"To sign in, use a web browser to open the page https://microsoft.com/devicelogin and enter the code RC7LC6CP9 to authenticate.\",\"ClientId\":\"84ba0947-6c53-4dd2-9ca9-b3694761521b\",\"Scopes\":[\"https://quantum.microsoft.com/Jobs.ReadWrite\",\"offline_access\",\"profile\",\"openid\"]}",
      "text/html": [
       "To sign in, use a web browser to open the page <a href=\"https://microsoft.com/devicelogin\"><code>https://microsoft.com/devicelogin</code></a> and enter the code <span id=\"1a1fc5b6-d7f8-4440-9c43-5da4dce10b47\" style=\"background-color: #e0e0e0;\">\r\n",
       "                            <i class=\"fa fa-clipboard\" aria-hidden=\"true\"></i>\r\n",
       "                            <strong style=\"padding-right: 0.2em\">RC7LC6CP9</strong></span> to authenticate.\n",
       "<script>\r\n",
       "                    window.iqsharp.addCopyListener(\"1a1fc5b6-d7f8-4440-9c43-5da4dce10b47\", \"RC7LC6CP9\");\r\n",
       "                </script>"
      ],
      "text/plain": [
       "To sign in, use a web browser to open the page https://microsoft.com/devicelogin and enter the code RC7LC6CP9 to authenticate."
      ]
     },
     "metadata": {},
     "output_type": "display_data"
    },
    {
     "name": "stdout",
     "output_type": "stream",
     "text": [
      "Loading package Microsoft.Quantum.Providers.IonQ and dependencies...\n",
      "Active target is now ionq.simulator\n"
     ]
    },
    {
     "data": {
      "application/json": "{\"UserCode\":\"R6MN7ENYV\",\"DeviceCode\":\"RAQABAAEAAAD--DLA3VO7QrddgJg7WevrfuYftOHgd_OcZfZ_HK1ZYJ2lkZoU1Rl7oZF7LxDSpHX42NzNAn4jxGUr5EEX3g4Rul3ZNd8STp5vpmy9OAZVpuYHjEFXh-8gMyi-xeikz7DvpGsarseJlOt4qZKSNeZ8Ukn33lTG594XdD7rV4HTYs7uUJI6VwLU7lki4mcosD4gAA\",\"VerificationUrl\":\"https://microsoft.com/devicelogin\",\"ExpiresOn\":\"2021-02-23T11:16:58.624233+00:00\",\"Interval\":5,\"Message\":\"To sign in, use a web browser to open the page https://microsoft.com/devicelogin and enter the code R6MN7ENYV to authenticate.\",\"ClientId\":\"84ba0947-6c53-4dd2-9ca9-b3694761521b\",\"Scopes\":[\"https://quantum.microsoft.com/Jobs.ReadWrite\",\"offline_access\",\"profile\",\"openid\"]}",
      "text/html": [
       "To sign in, use a web browser to open the page <a href=\"https://microsoft.com/devicelogin\"><code>https://microsoft.com/devicelogin</code></a> and enter the code <span id=\"2b192649-e207-4928-a023-4130f88a9289\" style=\"background-color: #e0e0e0;\">\r\n",
       "                            <i class=\"fa fa-clipboard\" aria-hidden=\"true\"></i>\r\n",
       "                            <strong style=\"padding-right: 0.2em\">R6MN7ENYV</strong></span> to authenticate.\n",
       "<script>\r\n",
       "                    window.iqsharp.addCopyListener(\"2b192649-e207-4928-a023-4130f88a9289\", \"R6MN7ENYV\");\r\n",
       "                </script>"
      ],
      "text/plain": [
       "To sign in, use a web browser to open the page https://microsoft.com/devicelogin and enter the code R6MN7ENYV to authenticate."
      ]
     },
     "metadata": {},
     "output_type": "display_data"
    },
    {
     "name": "stdout",
     "output_type": "stream",
     "text": [
      "Submitting Microsoft.Quantum.Samples.SampleRandomNumber to target ionq.simulator...\n",
      "Job successfully submitted for 1000 shots.\n",
      "   Job name: Generate 3-bit random number\n",
      "   Job ID: 81acc979-b2ef-4c53-a891-6a3e1f609350\n",
      "Waiting up to 30 seconds for Azure Quantum job to complete...\n",
      "[3:02:26 AM] Current job status: Succeeded\n"
     ]
    },
    {
     "data": {
      "application/json": "{\"UserCode\":\"RHA6M6JYR\",\"DeviceCode\":\"RAQABAAEAAAD--DLA3VO7QrddgJg7WevrnqWMtd2NzNyyifKTEx3-I0Utr1y45NBPiNaHgvL2VCqUdETsFyOxjHrc8UzduZpRKfzM1cU3EotyqLuZez6wjJchfAVF-fHFGWBBJlqDHW3puFuevQsg1oWyaPsJe0Jo6qE8m-Srd7V2KWK_vKetJf_J6QpB0ba1Gah2xbPFay4gAA\",\"VerificationUrl\":\"https://microsoft.com/devicelogin\",\"ExpiresOn\":\"2021-02-23T11:17:27.3507+00:00\",\"Interval\":5,\"Message\":\"To sign in, use a web browser to open the page https://microsoft.com/devicelogin and enter the code RHA6M6JYR to authenticate.\",\"ClientId\":\"84ba0947-6c53-4dd2-9ca9-b3694761521b\",\"Scopes\":[\"https://quantum.microsoft.com/Jobs.ReadWrite\",\"offline_access\",\"profile\",\"openid\"]}",
      "text/html": [
       "To sign in, use a web browser to open the page <a href=\"https://microsoft.com/devicelogin\"><code>https://microsoft.com/devicelogin</code></a> and enter the code <span id=\"f0a97749-1374-46d6-a1f7-cc0a7e452360\" style=\"background-color: #e0e0e0;\">\r\n",
       "                            <i class=\"fa fa-clipboard\" aria-hidden=\"true\"></i>\r\n",
       "                            <strong style=\"padding-right: 0.2em\">RHA6M6JYR</strong></span> to authenticate.\n",
       "<script>\r\n",
       "                    window.iqsharp.addCopyListener(\"f0a97749-1374-46d6-a1f7-cc0a7e452360\", \"RHA6M6JYR\");\r\n",
       "                </script>"
      ],
      "text/plain": [
       "To sign in, use a web browser to open the page https://microsoft.com/devicelogin and enter the code RHA6M6JYR to authenticate."
      ]
     },
     "metadata": {},
     "output_type": "display_data"
    },
    {
     "name": "stdout",
     "output_type": "stream",
     "text": [
      "Azure Quantum service execution result: {'[0,0,0]': 0.1249999999999999, '[1,0,0]': 0.1249999999999999, '[0,1,0]': 0.1249999999999999, '[1,1,0]': 0.1249999999999999, '[0,0,1]': 0.1249999999999999, '[1,0,1]': 0.1249999999999999, '[0,1,1]': 0.1249999999999999, '[1,1,1]': 0.1249999999999999}\n"
     ]
    }
   ],
   "source": [
    "# Simulate the operation locally.\n",
    "result = SampleRandomNumber.simulate(nQubits=3)\n",
    "print(f'Local simulation result: {result}')\n",
    "\n",
    "\n",
    "resource_id = \"/subscriptions/9006b025-1a81-4f7c-9111-582e121509ac/resourcegroups/azure-quantum-guenp/providers/Microsoft.Quantum/Workspaces/azure-quantum-01\"\n",
    "qsharp.azure.connect(resourceId=resource_id)\n",
    "qsharp.azure.target(\"ionq.simulator\")\n",
    "result = qsharp.azure.execute(SampleRandomNumber, nQubits=3, shots=1000, jobName=\"Generate 3-bit random number\")\n",
    "print(f'Azure Quantum service execution result: {result}')"
   ]
  },
  {
   "cell_type": "code",
   "execution_count": null,
   "id": "positive-nigeria",
   "metadata": {},
   "outputs": [],
   "source": []
  }
 ],
 "metadata": {
  "kernelspec": {
   "display_name": "Python 3",
   "language": "python",
   "name": "python3"
  },
  "language_info": {
   "codemirror_mode": {
    "name": "ipython",
    "version": 3
   },
   "file_extension": ".py",
   "mimetype": "text/x-python",
   "name": "python",
   "nbconvert_exporter": "python",
   "pygments_lexer": "ipython3",
   "version": "3.7.9"
  }
 },
 "nbformat": 4,
 "nbformat_minor": 5
}
