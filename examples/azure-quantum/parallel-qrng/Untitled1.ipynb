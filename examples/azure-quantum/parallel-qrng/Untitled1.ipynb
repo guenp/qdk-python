{
 "cells": [
  {
   "cell_type": "code",
   "execution_count": 1,
   "id": "blessed-communications",
   "metadata": {},
   "outputs": [
    {
     "name": "stdout",
     "output_type": "stream",
     "text": [
      "Preparing Q# environment...\n"
     ]
    }
   ],
   "source": [
    "import qsharp"
   ]
  },
  {
   "cell_type": "code",
   "execution_count": 2,
   "id": "beneficial-privacy",
   "metadata": {},
   "outputs": [
    {
     "data": {
      "application/json": "{\"LastUpdated\":\"2021-02-23T04:07:05.446576-08:00\",\"IsCompleted\":false,\"Description\":\"Reloading workspace\",\"Subtask\":null}",
      "text/plain": [
       "Reloading workspace."
      ]
     },
     "metadata": {},
     "output_type": "display_data"
    }
   ],
   "source": [
    "qsharp.reload()"
   ]
  },
  {
   "cell_type": "code",
   "execution_count": 3,
   "id": "south-valentine",
   "metadata": {},
   "outputs": [],
   "source": [
    "from Microsoft.Quantum.Samples import SampleRandomNumber"
   ]
  },
  {
   "cell_type": "code",
   "execution_count": 5,
   "id": "greatest-conjunction",
   "metadata": {},
   "outputs": [
    {
     "data": {
      "text/plain": [
       "[1]"
      ]
     },
     "execution_count": 5,
     "metadata": {},
     "output_type": "execute_result"
    }
   ],
   "source": [
    "SampleRandomNumber.simulate(nQubits=1)"
   ]
  },
  {
   "cell_type": "code",
   "execution_count": 6,
   "id": "incoming-intensity",
   "metadata": {},
   "outputs": [],
   "source": [
    "import qsharp.azure"
   ]
  },
  {
   "cell_type": "code",
   "execution_count": 7,
   "id": "bottom-update",
   "metadata": {},
   "outputs": [
    {
     "name": "stdout",
     "output_type": "stream",
     "text": [
      "Connected to Azure Quantum workspace azure-quantum-01 in location westus.\n"
     ]
    },
    {
     "data": {
      "text/plain": [
       "[{'id': 'ionq.qpu', 'current_availability': 'Available', 'average_queue_time': 287},\n",
       " {'id': 'ionq.simulator', 'current_availability': 'Available', 'average_queue_time': 0},\n",
       " {'id': 'honeywell.hqs-lt-1.0', 'current_availability': 'Unavailable', 'average_queue_time': 0},\n",
       " {'id': 'honeywell.hqs-lt-1.0-apival', 'current_availability': 'Available', 'average_queue_time': 0}]"
      ]
     },
     "execution_count": 7,
     "metadata": {},
     "output_type": "execute_result"
    }
   ],
   "source": [
    "resource_id = \"/subscriptions/9006b025-1a81-4f7c-9111-582e121509ac/resourcegroups/azure-quantum-guenp/providers/Microsoft.Quantum/Workspaces/azure-quantum-01\"\n",
    "qsharp.azure.connect(resourceId=resource_id)"
   ]
  },
  {
   "cell_type": "code",
   "execution_count": 8,
   "id": "early-murder",
   "metadata": {},
   "outputs": [
    {
     "name": "stdout",
     "output_type": "stream",
     "text": [
      "Loading package Microsoft.Quantum.Providers.IonQ and dependencies...\n",
      "Active target is now ionq.simulator\n"
     ]
    },
    {
     "data": {
      "text/plain": [
       "{'id': 'ionq.simulator', 'current_availability': 'Available', 'average_queue_time': 0}"
      ]
     },
     "execution_count": 8,
     "metadata": {},
     "output_type": "execute_result"
    }
   ],
   "source": [
    "qsharp.azure.target(\"ionq.simulator\")"
   ]
  },
  {
   "cell_type": "code",
   "execution_count": 9,
   "id": "competent-hollow",
   "metadata": {},
   "outputs": [
    {
     "name": "stdout",
     "output_type": "stream",
     "text": [
      "Submitting Microsoft.Quantum.Samples.SampleRandomNumber to target ionq.simulator...\n",
      "Job successfully submitted for 500 shots.\n",
      "   Job name: Random number\n",
      "   Job ID: 8be0a94c-fe0f-4444-9ac6-cf35ed55e614\n",
      "Waiting up to 30 seconds for Azure Quantum job to complete...\n",
      "[4:08:21 AM] Current job status: Succeeded\n",
      "Azure Quantum service execution result: {'[0]': 0.4999999999999999, '[1]': 0.4999999999999999}\n"
     ]
    }
   ],
   "source": [
    "result = qsharp.azure.execute(SampleRandomNumber, nQubits=1, jobName=\"Random number\")\n",
    "print(f'Azure Quantum service execution result: {result}')"
   ]
  },
  {
   "cell_type": "code",
   "execution_count": null,
   "id": "single-colonial",
   "metadata": {},
   "outputs": [],
   "source": []
  }
 ],
 "metadata": {
  "kernelspec": {
   "display_name": "Python 3",
   "language": "python",
   "name": "python3"
  },
  "language_info": {
   "codemirror_mode": {
    "name": "ipython",
    "version": 3
   },
   "file_extension": ".py",
   "mimetype": "text/x-python",
   "name": "python",
   "nbconvert_exporter": "python",
   "pygments_lexer": "ipython3",
   "version": "3.7.9"
  }
 },
 "nbformat": 4,
 "nbformat_minor": 5
}
