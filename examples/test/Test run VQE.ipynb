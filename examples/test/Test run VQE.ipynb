{
 "cells": [
  {
   "cell_type": "code",
   "execution_count": 19,
   "id": "architectural-malta",
   "metadata": {},
   "outputs": [],
   "source": [
    "import subprocess\n",
    "import json\n",
    "\n",
    "def run_vqe(theta1, theta2, theta3, term_type=0, n_ham=0, n_op=0, shots=1, target=\"ionq.simulator\"):\n",
    "    cmd = f\"az quantum execute --target-id {target} -- --theta1 {theta1} --theta2 {theta2} --theta3 {theta3} --term-type {term_type} --n-ham {n_ham} --n-op {n_op} --shots {shots}\"\n",
    "    print(cmd)\n",
    "    run_cmd = subprocess.run([cmd], check=True, shell=True, capture_output=True)\n",
    "    result = run_cmd.stdout\n",
    "    result = json.loads(run_cmd.stdout.lstrip(b\".\"))\n",
    "    return result, run_cmd"
   ]
  },
  {
   "cell_type": "code",
   "execution_count": 2,
   "id": "radical-purse",
   "metadata": {},
   "outputs": [
    {
     "name": "stdout",
     "output_type": "stream",
     "text": [
      "\u001b[36mCommand group 'quantum' is in preview and under development. Reference and support levels: https://aka.ms/CLI_refstatus\u001b[39m\n",
      "....\n",
      "{\n",
      "  \"Histogram\": [\n",
      "    \"0\",\n",
      "    1.2503123960000002e-07,\n",
      "    \"1\",\n",
      "    0.9999998749687428\n",
      "  ]\n",
      "}\n",
      "\u001b[0m"
     ]
    }
   ],
   "source": [
    "!az quantum execute --target-id ionq.simulator -- --theta1 0.001 --theta2 -0.001 --theta3 0.001 --term-type 0 --n-ham 0 --n-op 0"
   ]
  },
  {
   "cell_type": "code",
   "execution_count": 3,
   "id": "polished-posting",
   "metadata": {
    "scrolled": false
   },
   "outputs": [
    {
     "data": {
      "text/plain": [
       "({'Histogram': ['0', 1.2503123960000002e-07, '1', 0.9999998749687428]},\n",
       " CompletedProcess(args=['az quantum execute --target-id ionq.simulator -- --theta1 0.001 --theta2 -0.001 --theta3 0.001 --term-type 0 --n-ham 0 --n-op 0 --shots 1'], returncode=0, stdout=b'....\\n{\\n  \"Histogram\": [\\n    \"0\",\\n    1.2503123960000002e-07,\\n    \"1\",\\n    0.9999998749687428\\n  ]\\n}\\n', stderr=b\"WARNING: Command group 'quantum' is in preview and under development. Reference and support levels: https://aka.ms/CLI_refstatus\\n\"))"
      ]
     },
     "execution_count": 3,
     "metadata": {},
     "output_type": "execute_result"
    }
   ],
   "source": [
    "run_vqe(theta1=0.001, theta2=-0.001, theta3=0.001, shots=1)"
   ]
  },
  {
   "cell_type": "code",
   "execution_count": 4,
   "id": "armed-manor",
   "metadata": {},
   "outputs": [],
   "source": [
    "hamiltonian = (\n",
    "    [\n",
    "        ([0], [0.17120128499999998]),\n",
    "        ([1], [0.17120128499999998]),\n",
    "        ([2], [-0.222796536]),\n",
    "        ([3], [-0.222796536])\n",
    "    ],\n",
    "    [\n",
    "        ([0, 1], [0.1686232915]),\n",
    "        ([0, 2], [0.12054614575]),\n",
    "        ([0, 3], [0.16586802525]),\n",
    "        ([1, 2], [0.16586802525]),\n",
    "        ([1, 3], [0.12054614575]),\n",
    "        ([2, 3], [0.1743495025])\n",
    "    ],\n",
    "    [],\n",
    "    [\n",
    "        ([0, 1, 2, 3], [0.0, -0.0453218795, 0.0, 0.0453218795])\n",
    "    ]\n",
    ")"
   ]
  },
  {
   "cell_type": "code",
   "execution_count": 29,
   "id": "dominican-transfer",
   "metadata": {},
   "outputs": [],
   "source": [
    "target = \"ionq.simulator\"\n",
    "results = []\n",
    "shots = 100\n",
    "def run_vqe_all(theta1, theta2, theta3, target, shots):\n",
    "    results = []\n",
    "    for term_type, ham_terms in enumerate(hamiltonian):\n",
    "        for n_ham, term in enumerate(ham_terms):\n",
    "            _, ops = term\n",
    "            for n_op, op in enumerate(ops):\n",
    "                try:\n",
    "                    result = run_vqe(theta1, theta2, theta3, term_type, n_ham, n_op, shots, target)\n",
    "                except Exception:\n",
    "                    result = run_vqe(theta1, theta2, theta3, term_type, n_ham, n_op, shots, target)\n",
    "                print(result[0][\"Histogram\"][1])\n",
    "                results.append(result)\n",
    "    return results"
   ]
  },
  {
   "cell_type": "code",
   "execution_count": 30,
   "id": "fallen-postcard",
   "metadata": {},
   "outputs": [],
   "source": [
    "def estimate_energy(hamiltonian, results, offset=-0.09883444600000002):\n",
    "    termExpectation = [a[\"Histogram\"][1] for a, _ in results]\n",
    "    coeff = [__c for t in hamiltonian for _t, _c in t for __c in _c]\n",
    "    return sum([(2. * _t - 1.) * _c for _t, _c in zip(termExpectation, coeff)]) + offset;"
   ]
  },
  {
   "cell_type": "code",
   "execution_count": 8,
   "id": "objective-hypothesis",
   "metadata": {},
   "outputs": [
    {
     "name": "stdout",
     "output_type": "stream",
     "text": [
      "CPU times: user 19.2 ms, sys: 29.1 ms, total: 48.3 ms\n",
      "Wall time: 2min 16s\n"
     ]
    },
    {
     "data": {
      "text/plain": [
       "-1.1166854544785538"
      ]
     },
     "execution_count": 8,
     "metadata": {},
     "output_type": "execute_result"
    }
   ],
   "source": [
    "%%time\n",
    "results = run_vqe_all(theta1=0.001, theta2=-0.001, theta3=0.001, target=\"ionq.simulator\", shots=100)\n",
    "estimate_energy(hamiltonian, results)"
   ]
  },
  {
   "cell_type": "code",
   "execution_count": 9,
   "id": "negative-northwest",
   "metadata": {},
   "outputs": [],
   "source": [
    "from scipy.optimize import minimize\n",
    "\n",
    "def run_program(var_params, num_samples) -> float:\n",
    "    # run parameterized quantum program for VQE algorithm\n",
    "    theta1, theta2, theta3 = var_params\n",
    "    print(var_params)\n",
    "    results = run_vqe_all(theta1, theta2, theta3, target=\"ionq.simulator\", shots=num_samples)\n",
    "    result = estimate_energy(hamiltonian, results)\n",
    "    print(result)\n",
    "    return result\n",
    " \n",
    "def VQE(initial_var_params, num_samples):\n",
    "    \"\"\" Run VQE Optimization to find the optimal energy and the associated variational parameters \"\"\"\n",
    " \n",
    "    opt_result = minimize(run_program,\n",
    "                          initial_var_params,\n",
    "                          args=(num_samples,),\n",
    "                          method=\"COBYLA\",\n",
    "                          tol=0.000001,\n",
    "                          options={'disp': True, 'maxiter': 200,'rhobeg' : 0.05})\n",
    " \n",
    "    return opt_result"
   ]
  },
  {
   "cell_type": "code",
   "execution_count": 10,
   "id": "expected-cloud",
   "metadata": {
    "scrolled": true
   },
   "outputs": [
    {
     "name": "stdout",
     "output_type": "stream",
     "text": [
      "[ 0.001 -0.001  0.001]\n",
      "-1.1166854544785538\n",
      "[ 0.051 -0.001  0.001]\n",
      "-1.1165775932987279\n",
      "[0.001 0.049 0.001]\n",
      "-1.1165858946327716\n",
      "[ 0.001 -0.001  0.051]\n",
      "-1.1164293673470773\n",
      "[-0.01727087 -0.01786469 -0.04237923]\n",
      "-1.1164824857403035\n",
      "[-0.00813544 -0.00943234 -0.02068961]\n",
      "-1.116636958112764\n",
      "[ 0.0130225  -0.00223994 -0.00218936]\n",
      "-1.1166779233970976\n",
      "[ 0.001       0.00482526 -0.0012647 ]\n",
      "-1.1166844707346502\n",
      "[0.00082206 0.00264376 0.01295581]\n"
     ]
    },
    {
     "ename": "KeyboardInterrupt",
     "evalue": "",
     "output_type": "error",
     "traceback": [
      "\u001b[0;31m---------------------------------------------------------------------------\u001b[0m",
      "\u001b[0;31mKeyboardInterrupt\u001b[0m                         Traceback (most recent call last)",
      "\u001b[0;32m<timed eval>\u001b[0m in \u001b[0;36m<module>\u001b[0;34m\u001b[0m\n",
      "\u001b[0;32m<ipython-input-9-7edd3ab0f8b1>\u001b[0m in \u001b[0;36mVQE\u001b[0;34m(initial_var_params, num_samples)\u001b[0m\n\u001b[1;32m     18\u001b[0m                           \u001b[0mmethod\u001b[0m\u001b[0;34m=\u001b[0m\u001b[0;34m\"COBYLA\"\u001b[0m\u001b[0;34m,\u001b[0m\u001b[0;34m\u001b[0m\u001b[0;34m\u001b[0m\u001b[0m\n\u001b[1;32m     19\u001b[0m                           \u001b[0mtol\u001b[0m\u001b[0;34m=\u001b[0m\u001b[0;36m0.000001\u001b[0m\u001b[0;34m,\u001b[0m\u001b[0;34m\u001b[0m\u001b[0;34m\u001b[0m\u001b[0m\n\u001b[0;32m---> 20\u001b[0;31m                           options={'disp': True, 'maxiter': 200,'rhobeg' : 0.05})\n\u001b[0m\u001b[1;32m     21\u001b[0m \u001b[0;34m\u001b[0m\u001b[0m\n\u001b[1;32m     22\u001b[0m     \u001b[0;32mreturn\u001b[0m \u001b[0mopt_result\u001b[0m\u001b[0;34m\u001b[0m\u001b[0;34m\u001b[0m\u001b[0m\n",
      "\u001b[0;32m~/miniconda3/envs/qdk/lib/python3.7/site-packages/scipy/optimize/_minimize.py\u001b[0m in \u001b[0;36mminimize\u001b[0;34m(fun, x0, args, method, jac, hess, hessp, bounds, constraints, tol, callback, options)\u001b[0m\n\u001b[1;32m    623\u001b[0m                              **options)\n\u001b[1;32m    624\u001b[0m     \u001b[0;32melif\u001b[0m \u001b[0mmeth\u001b[0m \u001b[0;34m==\u001b[0m \u001b[0;34m'cobyla'\u001b[0m\u001b[0;34m:\u001b[0m\u001b[0;34m\u001b[0m\u001b[0;34m\u001b[0m\u001b[0m\n\u001b[0;32m--> 625\u001b[0;31m         \u001b[0;32mreturn\u001b[0m \u001b[0m_minimize_cobyla\u001b[0m\u001b[0;34m(\u001b[0m\u001b[0mfun\u001b[0m\u001b[0;34m,\u001b[0m \u001b[0mx0\u001b[0m\u001b[0;34m,\u001b[0m \u001b[0margs\u001b[0m\u001b[0;34m,\u001b[0m \u001b[0mconstraints\u001b[0m\u001b[0;34m,\u001b[0m \u001b[0;34m**\u001b[0m\u001b[0moptions\u001b[0m\u001b[0;34m)\u001b[0m\u001b[0;34m\u001b[0m\u001b[0;34m\u001b[0m\u001b[0m\n\u001b[0m\u001b[1;32m    626\u001b[0m     \u001b[0;32melif\u001b[0m \u001b[0mmeth\u001b[0m \u001b[0;34m==\u001b[0m \u001b[0;34m'slsqp'\u001b[0m\u001b[0;34m:\u001b[0m\u001b[0;34m\u001b[0m\u001b[0;34m\u001b[0m\u001b[0m\n\u001b[1;32m    627\u001b[0m         return _minimize_slsqp(fun, x0, args, jac, bounds,\n",
      "\u001b[0;32m~/miniconda3/envs/qdk/lib/python3.7/site-packages/scipy/optimize/cobyla.py\u001b[0m in \u001b[0;36mwrapper\u001b[0;34m(*args, **kwargs)\u001b[0m\n\u001b[1;32m     32\u001b[0m     \u001b[0;32mdef\u001b[0m \u001b[0mwrapper\u001b[0m\u001b[0;34m(\u001b[0m\u001b[0;34m*\u001b[0m\u001b[0margs\u001b[0m\u001b[0;34m,\u001b[0m \u001b[0;34m**\u001b[0m\u001b[0mkwargs\u001b[0m\u001b[0;34m)\u001b[0m\u001b[0;34m:\u001b[0m\u001b[0;34m\u001b[0m\u001b[0;34m\u001b[0m\u001b[0m\n\u001b[1;32m     33\u001b[0m         \u001b[0;32mwith\u001b[0m \u001b[0m_module_lock\u001b[0m\u001b[0;34m:\u001b[0m\u001b[0;34m\u001b[0m\u001b[0;34m\u001b[0m\u001b[0m\n\u001b[0;32m---> 34\u001b[0;31m             \u001b[0;32mreturn\u001b[0m \u001b[0mfunc\u001b[0m\u001b[0;34m(\u001b[0m\u001b[0;34m*\u001b[0m\u001b[0margs\u001b[0m\u001b[0;34m,\u001b[0m \u001b[0;34m**\u001b[0m\u001b[0mkwargs\u001b[0m\u001b[0;34m)\u001b[0m\u001b[0;34m\u001b[0m\u001b[0;34m\u001b[0m\u001b[0m\n\u001b[0m\u001b[1;32m     35\u001b[0m     \u001b[0;32mreturn\u001b[0m \u001b[0mwrapper\u001b[0m\u001b[0;34m\u001b[0m\u001b[0;34m\u001b[0m\u001b[0m\n\u001b[1;32m     36\u001b[0m \u001b[0;34m\u001b[0m\u001b[0m\n",
      "\u001b[0;32m~/miniconda3/envs/qdk/lib/python3.7/site-packages/scipy/optimize/cobyla.py\u001b[0m in \u001b[0;36m_minimize_cobyla\u001b[0;34m(fun, x0, args, constraints, rhobeg, tol, maxiter, disp, catol, **unknown_options)\u001b[0m\n\u001b[1;32m    260\u001b[0m     xopt, info = _cobyla.minimize(calcfc, m=m, x=np.copy(x0), rhobeg=rhobeg,\n\u001b[1;32m    261\u001b[0m                                   \u001b[0mrhoend\u001b[0m\u001b[0;34m=\u001b[0m\u001b[0mrhoend\u001b[0m\u001b[0;34m,\u001b[0m \u001b[0miprint\u001b[0m\u001b[0;34m=\u001b[0m\u001b[0miprint\u001b[0m\u001b[0;34m,\u001b[0m \u001b[0mmaxfun\u001b[0m\u001b[0;34m=\u001b[0m\u001b[0mmaxfun\u001b[0m\u001b[0;34m,\u001b[0m\u001b[0;34m\u001b[0m\u001b[0;34m\u001b[0m\u001b[0m\n\u001b[0;32m--> 262\u001b[0;31m                                   dinfo=info)\n\u001b[0m\u001b[1;32m    263\u001b[0m \u001b[0;34m\u001b[0m\u001b[0m\n\u001b[1;32m    264\u001b[0m     \u001b[0;32mif\u001b[0m \u001b[0minfo\u001b[0m\u001b[0;34m[\u001b[0m\u001b[0;36m3\u001b[0m\u001b[0;34m]\u001b[0m \u001b[0;34m>\u001b[0m \u001b[0mcatol\u001b[0m\u001b[0;34m:\u001b[0m\u001b[0;34m\u001b[0m\u001b[0;34m\u001b[0m\u001b[0m\n",
      "\u001b[0;32m~/miniconda3/envs/qdk/lib/python3.7/site-packages/scipy/optimize/cobyla.py\u001b[0m in \u001b[0;36mcalcfc\u001b[0;34m(x, con)\u001b[0m\n\u001b[1;32m    250\u001b[0m \u001b[0;34m\u001b[0m\u001b[0m\n\u001b[1;32m    251\u001b[0m     \u001b[0;32mdef\u001b[0m \u001b[0mcalcfc\u001b[0m\u001b[0;34m(\u001b[0m\u001b[0mx\u001b[0m\u001b[0;34m,\u001b[0m \u001b[0mcon\u001b[0m\u001b[0;34m)\u001b[0m\u001b[0;34m:\u001b[0m\u001b[0;34m\u001b[0m\u001b[0;34m\u001b[0m\u001b[0m\n\u001b[0;32m--> 252\u001b[0;31m         \u001b[0mf\u001b[0m \u001b[0;34m=\u001b[0m \u001b[0mfun\u001b[0m\u001b[0;34m(\u001b[0m\u001b[0mx\u001b[0m\u001b[0;34m,\u001b[0m \u001b[0;34m*\u001b[0m\u001b[0margs\u001b[0m\u001b[0;34m)\u001b[0m\u001b[0;34m\u001b[0m\u001b[0;34m\u001b[0m\u001b[0m\n\u001b[0m\u001b[1;32m    253\u001b[0m         \u001b[0mi\u001b[0m \u001b[0;34m=\u001b[0m \u001b[0;36m0\u001b[0m\u001b[0;34m\u001b[0m\u001b[0;34m\u001b[0m\u001b[0m\n\u001b[1;32m    254\u001b[0m         \u001b[0;32mfor\u001b[0m \u001b[0msize\u001b[0m\u001b[0;34m,\u001b[0m \u001b[0mc\u001b[0m \u001b[0;32min\u001b[0m \u001b[0mizip\u001b[0m\u001b[0;34m(\u001b[0m\u001b[0mcons_lengths\u001b[0m\u001b[0;34m,\u001b[0m \u001b[0mconstraints\u001b[0m\u001b[0;34m)\u001b[0m\u001b[0;34m:\u001b[0m\u001b[0;34m\u001b[0m\u001b[0;34m\u001b[0m\u001b[0m\n",
      "\u001b[0;32m<ipython-input-9-7edd3ab0f8b1>\u001b[0m in \u001b[0;36mrun_program\u001b[0;34m(var_params, num_samples)\u001b[0m\n\u001b[1;32m      5\u001b[0m     \u001b[0mtheta1\u001b[0m\u001b[0;34m,\u001b[0m \u001b[0mtheta2\u001b[0m\u001b[0;34m,\u001b[0m \u001b[0mtheta3\u001b[0m \u001b[0;34m=\u001b[0m \u001b[0mvar_params\u001b[0m\u001b[0;34m\u001b[0m\u001b[0;34m\u001b[0m\u001b[0m\n\u001b[1;32m      6\u001b[0m     \u001b[0mprint\u001b[0m\u001b[0;34m(\u001b[0m\u001b[0mvar_params\u001b[0m\u001b[0;34m)\u001b[0m\u001b[0;34m\u001b[0m\u001b[0;34m\u001b[0m\u001b[0m\n\u001b[0;32m----> 7\u001b[0;31m     \u001b[0mresults\u001b[0m \u001b[0;34m=\u001b[0m \u001b[0mrun_vqe_all\u001b[0m\u001b[0;34m(\u001b[0m\u001b[0mtheta1\u001b[0m\u001b[0;34m,\u001b[0m \u001b[0mtheta2\u001b[0m\u001b[0;34m,\u001b[0m \u001b[0mtheta3\u001b[0m\u001b[0;34m,\u001b[0m \u001b[0mtarget\u001b[0m\u001b[0;34m=\u001b[0m\u001b[0;34m\"ionq.simulator\"\u001b[0m\u001b[0;34m,\u001b[0m \u001b[0mshots\u001b[0m\u001b[0;34m=\u001b[0m\u001b[0mnum_samples\u001b[0m\u001b[0;34m)\u001b[0m\u001b[0;34m\u001b[0m\u001b[0;34m\u001b[0m\u001b[0m\n\u001b[0m\u001b[1;32m      8\u001b[0m     \u001b[0mresult\u001b[0m \u001b[0;34m=\u001b[0m \u001b[0mestimate_energy\u001b[0m\u001b[0;34m(\u001b[0m\u001b[0mhamiltonian\u001b[0m\u001b[0;34m,\u001b[0m \u001b[0mresults\u001b[0m\u001b[0;34m)\u001b[0m\u001b[0;34m\u001b[0m\u001b[0;34m\u001b[0m\u001b[0m\n\u001b[1;32m      9\u001b[0m     \u001b[0mprint\u001b[0m\u001b[0;34m(\u001b[0m\u001b[0mresult\u001b[0m\u001b[0;34m)\u001b[0m\u001b[0;34m\u001b[0m\u001b[0;34m\u001b[0m\u001b[0m\n",
      "\u001b[0;32m<ipython-input-5-e4f78ad1d867>\u001b[0m in \u001b[0;36mrun_vqe_all\u001b[0;34m(theta1, theta2, theta3, target, shots)\u001b[0m\n\u001b[1;32m      8\u001b[0m             \u001b[0m_\u001b[0m\u001b[0;34m,\u001b[0m \u001b[0mops\u001b[0m \u001b[0;34m=\u001b[0m \u001b[0mterm\u001b[0m\u001b[0;34m\u001b[0m\u001b[0;34m\u001b[0m\u001b[0m\n\u001b[1;32m      9\u001b[0m             \u001b[0;32mfor\u001b[0m \u001b[0mn_op\u001b[0m\u001b[0;34m,\u001b[0m \u001b[0mop\u001b[0m \u001b[0;32min\u001b[0m \u001b[0menumerate\u001b[0m\u001b[0;34m(\u001b[0m\u001b[0mops\u001b[0m\u001b[0;34m)\u001b[0m\u001b[0;34m:\u001b[0m\u001b[0;34m\u001b[0m\u001b[0;34m\u001b[0m\u001b[0m\n\u001b[0;32m---> 10\u001b[0;31m                 \u001b[0mresults\u001b[0m\u001b[0;34m.\u001b[0m\u001b[0mappend\u001b[0m\u001b[0;34m(\u001b[0m\u001b[0mrun_vqe\u001b[0m\u001b[0;34m(\u001b[0m\u001b[0mtheta1\u001b[0m\u001b[0;34m,\u001b[0m \u001b[0mtheta2\u001b[0m\u001b[0;34m,\u001b[0m \u001b[0mtheta3\u001b[0m\u001b[0;34m,\u001b[0m \u001b[0mterm_type\u001b[0m\u001b[0;34m,\u001b[0m \u001b[0mn_ham\u001b[0m\u001b[0;34m,\u001b[0m \u001b[0mn_op\u001b[0m\u001b[0;34m,\u001b[0m \u001b[0mshots\u001b[0m\u001b[0;34m,\u001b[0m \u001b[0mtarget\u001b[0m\u001b[0;34m)\u001b[0m\u001b[0;34m)\u001b[0m\u001b[0;34m\u001b[0m\u001b[0;34m\u001b[0m\u001b[0m\n\u001b[0m\u001b[1;32m     11\u001b[0m     \u001b[0;32mreturn\u001b[0m \u001b[0mresults\u001b[0m\u001b[0;34m\u001b[0m\u001b[0;34m\u001b[0m\u001b[0m\n",
      "\u001b[0;32m<ipython-input-1-d07f7d33b7e8>\u001b[0m in \u001b[0;36mrun_vqe\u001b[0;34m(theta1, theta2, theta3, term_type, n_ham, n_op, shots, target)\u001b[0m\n\u001b[1;32m      4\u001b[0m \u001b[0;32mdef\u001b[0m \u001b[0mrun_vqe\u001b[0m\u001b[0;34m(\u001b[0m\u001b[0mtheta1\u001b[0m\u001b[0;34m,\u001b[0m \u001b[0mtheta2\u001b[0m\u001b[0;34m,\u001b[0m \u001b[0mtheta3\u001b[0m\u001b[0;34m,\u001b[0m \u001b[0mterm_type\u001b[0m\u001b[0;34m=\u001b[0m\u001b[0;36m0\u001b[0m\u001b[0;34m,\u001b[0m \u001b[0mn_ham\u001b[0m\u001b[0;34m=\u001b[0m\u001b[0;36m0\u001b[0m\u001b[0;34m,\u001b[0m \u001b[0mn_op\u001b[0m\u001b[0;34m=\u001b[0m\u001b[0;36m0\u001b[0m\u001b[0;34m,\u001b[0m \u001b[0mshots\u001b[0m\u001b[0;34m=\u001b[0m\u001b[0;36m1\u001b[0m\u001b[0;34m,\u001b[0m \u001b[0mtarget\u001b[0m\u001b[0;34m=\u001b[0m\u001b[0;34m\"ionq.simulator\"\u001b[0m\u001b[0;34m)\u001b[0m\u001b[0;34m:\u001b[0m\u001b[0;34m\u001b[0m\u001b[0;34m\u001b[0m\u001b[0m\n\u001b[1;32m      5\u001b[0m     \u001b[0mcmd\u001b[0m \u001b[0;34m=\u001b[0m \u001b[0;34mf\"az quantum execute --target-id {target} -- --theta1 {theta1} --theta2 {theta2} --theta3 {theta3} --term-type {term_type} --n-ham {n_ham} --n-op {n_op} --shots {shots}\"\u001b[0m\u001b[0;34m\u001b[0m\u001b[0;34m\u001b[0m\u001b[0m\n\u001b[0;32m----> 6\u001b[0;31m     \u001b[0mrun_cmd\u001b[0m \u001b[0;34m=\u001b[0m \u001b[0msubprocess\u001b[0m\u001b[0;34m.\u001b[0m\u001b[0mrun\u001b[0m\u001b[0;34m(\u001b[0m\u001b[0;34m[\u001b[0m\u001b[0mcmd\u001b[0m\u001b[0;34m]\u001b[0m\u001b[0;34m,\u001b[0m \u001b[0mcheck\u001b[0m\u001b[0;34m=\u001b[0m\u001b[0;32mTrue\u001b[0m\u001b[0;34m,\u001b[0m \u001b[0mshell\u001b[0m\u001b[0;34m=\u001b[0m\u001b[0;32mTrue\u001b[0m\u001b[0;34m,\u001b[0m \u001b[0mcapture_output\u001b[0m\u001b[0;34m=\u001b[0m\u001b[0;32mTrue\u001b[0m\u001b[0;34m)\u001b[0m\u001b[0;34m\u001b[0m\u001b[0;34m\u001b[0m\u001b[0m\n\u001b[0m\u001b[1;32m      7\u001b[0m     \u001b[0mresult\u001b[0m \u001b[0;34m=\u001b[0m \u001b[0mrun_cmd\u001b[0m\u001b[0;34m.\u001b[0m\u001b[0mstdout\u001b[0m\u001b[0;34m\u001b[0m\u001b[0;34m\u001b[0m\u001b[0m\n\u001b[1;32m      8\u001b[0m     \u001b[0mresult\u001b[0m \u001b[0;34m=\u001b[0m \u001b[0mjson\u001b[0m\u001b[0;34m.\u001b[0m\u001b[0mloads\u001b[0m\u001b[0;34m(\u001b[0m\u001b[0mrun_cmd\u001b[0m\u001b[0;34m.\u001b[0m\u001b[0mstdout\u001b[0m\u001b[0;34m.\u001b[0m\u001b[0mlstrip\u001b[0m\u001b[0;34m(\u001b[0m\u001b[0;34mb\".\"\u001b[0m\u001b[0;34m)\u001b[0m\u001b[0;34m)\u001b[0m\u001b[0;34m\u001b[0m\u001b[0;34m\u001b[0m\u001b[0m\n",
      "\u001b[0;32m~/miniconda3/envs/qdk/lib/python3.7/subprocess.py\u001b[0m in \u001b[0;36mrun\u001b[0;34m(input, capture_output, timeout, check, *popenargs, **kwargs)\u001b[0m\n\u001b[1;32m    488\u001b[0m     \u001b[0;32mwith\u001b[0m \u001b[0mPopen\u001b[0m\u001b[0;34m(\u001b[0m\u001b[0;34m*\u001b[0m\u001b[0mpopenargs\u001b[0m\u001b[0;34m,\u001b[0m \u001b[0;34m**\u001b[0m\u001b[0mkwargs\u001b[0m\u001b[0;34m)\u001b[0m \u001b[0;32mas\u001b[0m \u001b[0mprocess\u001b[0m\u001b[0;34m:\u001b[0m\u001b[0;34m\u001b[0m\u001b[0;34m\u001b[0m\u001b[0m\n\u001b[1;32m    489\u001b[0m         \u001b[0;32mtry\u001b[0m\u001b[0;34m:\u001b[0m\u001b[0;34m\u001b[0m\u001b[0;34m\u001b[0m\u001b[0m\n\u001b[0;32m--> 490\u001b[0;31m             \u001b[0mstdout\u001b[0m\u001b[0;34m,\u001b[0m \u001b[0mstderr\u001b[0m \u001b[0;34m=\u001b[0m \u001b[0mprocess\u001b[0m\u001b[0;34m.\u001b[0m\u001b[0mcommunicate\u001b[0m\u001b[0;34m(\u001b[0m\u001b[0minput\u001b[0m\u001b[0;34m,\u001b[0m \u001b[0mtimeout\u001b[0m\u001b[0;34m=\u001b[0m\u001b[0mtimeout\u001b[0m\u001b[0;34m)\u001b[0m\u001b[0;34m\u001b[0m\u001b[0;34m\u001b[0m\u001b[0m\n\u001b[0m\u001b[1;32m    491\u001b[0m         \u001b[0;32mexcept\u001b[0m \u001b[0mTimeoutExpired\u001b[0m \u001b[0;32mas\u001b[0m \u001b[0mexc\u001b[0m\u001b[0;34m:\u001b[0m\u001b[0;34m\u001b[0m\u001b[0;34m\u001b[0m\u001b[0m\n\u001b[1;32m    492\u001b[0m             \u001b[0mprocess\u001b[0m\u001b[0;34m.\u001b[0m\u001b[0mkill\u001b[0m\u001b[0;34m(\u001b[0m\u001b[0;34m)\u001b[0m\u001b[0;34m\u001b[0m\u001b[0;34m\u001b[0m\u001b[0m\n",
      "\u001b[0;32m~/miniconda3/envs/qdk/lib/python3.7/subprocess.py\u001b[0m in \u001b[0;36mcommunicate\u001b[0;34m(self, input, timeout)\u001b[0m\n\u001b[1;32m    962\u001b[0m \u001b[0;34m\u001b[0m\u001b[0m\n\u001b[1;32m    963\u001b[0m             \u001b[0;32mtry\u001b[0m\u001b[0;34m:\u001b[0m\u001b[0;34m\u001b[0m\u001b[0;34m\u001b[0m\u001b[0m\n\u001b[0;32m--> 964\u001b[0;31m                 \u001b[0mstdout\u001b[0m\u001b[0;34m,\u001b[0m \u001b[0mstderr\u001b[0m \u001b[0;34m=\u001b[0m \u001b[0mself\u001b[0m\u001b[0;34m.\u001b[0m\u001b[0m_communicate\u001b[0m\u001b[0;34m(\u001b[0m\u001b[0minput\u001b[0m\u001b[0;34m,\u001b[0m \u001b[0mendtime\u001b[0m\u001b[0;34m,\u001b[0m \u001b[0mtimeout\u001b[0m\u001b[0;34m)\u001b[0m\u001b[0;34m\u001b[0m\u001b[0;34m\u001b[0m\u001b[0m\n\u001b[0m\u001b[1;32m    965\u001b[0m             \u001b[0;32mexcept\u001b[0m \u001b[0mKeyboardInterrupt\u001b[0m\u001b[0;34m:\u001b[0m\u001b[0;34m\u001b[0m\u001b[0;34m\u001b[0m\u001b[0m\n\u001b[1;32m    966\u001b[0m                 \u001b[0;31m# https://bugs.python.org/issue25942\u001b[0m\u001b[0;34m\u001b[0m\u001b[0;34m\u001b[0m\u001b[0;34m\u001b[0m\u001b[0m\n",
      "\u001b[0;32m~/miniconda3/envs/qdk/lib/python3.7/subprocess.py\u001b[0m in \u001b[0;36m_communicate\u001b[0;34m(self, input, endtime, orig_timeout)\u001b[0m\n\u001b[1;32m   1713\u001b[0m                             'failed to raise TimeoutExpired.')\n\u001b[1;32m   1714\u001b[0m \u001b[0;34m\u001b[0m\u001b[0m\n\u001b[0;32m-> 1715\u001b[0;31m                     \u001b[0mready\u001b[0m \u001b[0;34m=\u001b[0m \u001b[0mselector\u001b[0m\u001b[0;34m.\u001b[0m\u001b[0mselect\u001b[0m\u001b[0;34m(\u001b[0m\u001b[0mtimeout\u001b[0m\u001b[0;34m)\u001b[0m\u001b[0;34m\u001b[0m\u001b[0;34m\u001b[0m\u001b[0m\n\u001b[0m\u001b[1;32m   1716\u001b[0m                     \u001b[0mself\u001b[0m\u001b[0;34m.\u001b[0m\u001b[0m_check_timeout\u001b[0m\u001b[0;34m(\u001b[0m\u001b[0mendtime\u001b[0m\u001b[0;34m,\u001b[0m \u001b[0morig_timeout\u001b[0m\u001b[0;34m,\u001b[0m \u001b[0mstdout\u001b[0m\u001b[0;34m,\u001b[0m \u001b[0mstderr\u001b[0m\u001b[0;34m)\u001b[0m\u001b[0;34m\u001b[0m\u001b[0;34m\u001b[0m\u001b[0m\n\u001b[1;32m   1717\u001b[0m \u001b[0;34m\u001b[0m\u001b[0m\n",
      "\u001b[0;32m~/miniconda3/envs/qdk/lib/python3.7/selectors.py\u001b[0m in \u001b[0;36mselect\u001b[0;34m(self, timeout)\u001b[0m\n\u001b[1;32m    413\u001b[0m         \u001b[0mready\u001b[0m \u001b[0;34m=\u001b[0m \u001b[0;34m[\u001b[0m\u001b[0;34m]\u001b[0m\u001b[0;34m\u001b[0m\u001b[0;34m\u001b[0m\u001b[0m\n\u001b[1;32m    414\u001b[0m         \u001b[0;32mtry\u001b[0m\u001b[0;34m:\u001b[0m\u001b[0;34m\u001b[0m\u001b[0;34m\u001b[0m\u001b[0m\n\u001b[0;32m--> 415\u001b[0;31m             \u001b[0mfd_event_list\u001b[0m \u001b[0;34m=\u001b[0m \u001b[0mself\u001b[0m\u001b[0;34m.\u001b[0m\u001b[0m_selector\u001b[0m\u001b[0;34m.\u001b[0m\u001b[0mpoll\u001b[0m\u001b[0;34m(\u001b[0m\u001b[0mtimeout\u001b[0m\u001b[0;34m)\u001b[0m\u001b[0;34m\u001b[0m\u001b[0;34m\u001b[0m\u001b[0m\n\u001b[0m\u001b[1;32m    416\u001b[0m         \u001b[0;32mexcept\u001b[0m \u001b[0mInterruptedError\u001b[0m\u001b[0;34m:\u001b[0m\u001b[0;34m\u001b[0m\u001b[0;34m\u001b[0m\u001b[0m\n\u001b[1;32m    417\u001b[0m             \u001b[0;32mreturn\u001b[0m \u001b[0mready\u001b[0m\u001b[0;34m\u001b[0m\u001b[0;34m\u001b[0m\u001b[0m\n",
      "\u001b[0;31mKeyboardInterrupt\u001b[0m: "
     ]
    }
   ],
   "source": [
    "%%time\n",
    "VQE([0.001, -0.001, 0.001], 100)"
   ]
  },
  {
   "cell_type": "code",
   "execution_count": 23,
   "id": "detected-hybrid",
   "metadata": {
    "scrolled": true
   },
   "outputs": [
    {
     "name": "stdout",
     "output_type": "stream",
     "text": [
      "az quantum execute --target-id ionq.simulator -- --theta1 0.00756478 --theta2 -0.00122729 --theta3 -0.11203378 --term-type 0 --n-ham 0 --n-op 0 --shots 100\n",
      "0.0007875959704208\n",
      "az quantum execute --target-id ionq.simulator -- --theta1 0.00756478 --theta2 -0.00122729 --theta3 -0.11203378 --term-type 0 --n-ham 1 --n-op 0 --shots 100\n",
      "0.0007845398117727001\n",
      "az quantum execute --target-id ionq.simulator -- --theta1 0.00756478 --theta2 -0.00122729 --theta3 -0.11203378 --term-type 0 --n-ham 2 --n-op 0 --shots 100\n",
      "0.9992121908717752\n",
      "az quantum execute --target-id ionq.simulator -- --theta1 0.00756478 --theta2 -0.00122729 --theta3 -0.11203378 --term-type 0 --n-ham 3 --n-op 0 --shots 100\n",
      "0.9992156733459956\n",
      "az quantum execute --target-id ionq.simulator -- --theta1 0.00756478 --theta2 -0.00122729 --theta3 -0.11203378 --term-type 1 --n-ham 0 --n-op 0 --shots 100\n",
      "0.9999963292463481\n",
      "az quantum execute --target-id ionq.simulator -- --theta1 0.00756478 --theta2 -0.00122729 --theta3 -0.11203378 --term-type 1 --n-ham 1 --n-op 0 --shots 100\n",
      "2.2468212790000002e-07\n",
      "az quantum execute --target-id ionq.simulator -- --theta1 0.00756478 --theta2 -0.00122729 --theta3 -0.11203378 --term-type 1 --n-ham 2 --n-op 0 --shots 100\n",
      "3.4460715062000003e-06\n",
      "az quantum execute --target-id ionq.simulator -- --theta1 0.00756478 --theta2 -0.00122729 --theta3 -0.11203378 --term-type 1 --n-ham 3 --n-op 0 --shots 100\n",
      "3.4460715062000003e-06\n",
      "az quantum execute --target-id ionq.simulator -- --theta1 0.00756478 --theta2 -0.00122729 --theta3 -0.11203378 --term-type 1 --n-ham 4 --n-op 0 --shots 100\n",
      "2.2468212790000002e-07\n",
      "az quantum execute --target-id ionq.simulator -- --theta1 0.00756478 --theta2 -0.00122729 --theta3 -0.11203378 --term-type 1 --n-ham 5 --n-op 0 --shots 100\n",
      "0.9999963292463481\n",
      "az quantum execute --target-id ionq.simulator -- --theta1 0.00756478 --theta2 -0.00122729 --theta3 -0.11203378 --term-type 3 --n-ham 0 --n-op 0 --shots 100\n",
      "0.9999999999999821\n",
      "az quantum execute --target-id ionq.simulator -- --theta1 0.00756478 --theta2 -0.00122729 --theta3 -0.11203378 --term-type 3 --n-ham 0 --n-op 1 --shots 100\n",
      "0.9999999999999821\n",
      "az quantum execute --target-id ionq.simulator -- --theta1 0.00756478 --theta2 -0.00122729 --theta3 -0.11203378 --term-type 3 --n-ham 0 --n-op 2 --shots 100\n",
      "0.9999963292463481\n",
      "az quantum execute --target-id ionq.simulator -- --theta1 0.00756478 --theta2 -0.00122729 --theta3 -0.11203378 --term-type 3 --n-ham 0 --n-op 3 --shots 100\n",
      "0.9999963292463481\n",
      "CPU times: user 40.4 ms, sys: 61.5 ms, total: 102 ms\n",
      "Wall time: 2min 9s\n"
     ]
    },
    {
     "data": {
      "text/plain": [
       "-1.1154472558126027"
      ]
     },
     "execution_count": 23,
     "metadata": {},
     "output_type": "execute_result"
    }
   ],
   "source": [
    "%%time\n",
    "results = run_vqe_all(theta1=0.00756478, theta2=-0.00122729, theta3=-0.11203378, target=\"ionq.simulator\", shots=100)\n",
    "estimate_energy(hamiltonian, results)"
   ]
  },
  {
   "cell_type": "code",
   "execution_count": 24,
   "id": "limiting-mount",
   "metadata": {
    "scrolled": true
   },
   "outputs": [
    {
     "name": "stdout",
     "output_type": "stream",
     "text": [
      "az quantum execute --target-id ionq.simulator -- --theta1 0.00756478 --theta2 -0.00122729 --theta3 -0.11203378 --term-type 0 --n-ham 0 --n-op 0 --shots 1000\n",
      "0.0007875959704208\n",
      "az quantum execute --target-id ionq.simulator -- --theta1 0.00756478 --theta2 -0.00122729 --theta3 -0.11203378 --term-type 0 --n-ham 1 --n-op 0 --shots 1000\n",
      "0.0007845398117727001\n",
      "az quantum execute --target-id ionq.simulator -- --theta1 0.00756478 --theta2 -0.00122729 --theta3 -0.11203378 --term-type 0 --n-ham 2 --n-op 0 --shots 1000\n",
      "0.9992121908717752\n",
      "az quantum execute --target-id ionq.simulator -- --theta1 0.00756478 --theta2 -0.00122729 --theta3 -0.11203378 --term-type 0 --n-ham 3 --n-op 0 --shots 1000\n",
      "0.9992156733459956\n",
      "az quantum execute --target-id ionq.simulator -- --theta1 0.00756478 --theta2 -0.00122729 --theta3 -0.11203378 --term-type 1 --n-ham 0 --n-op 0 --shots 1000\n",
      "0.9999963292463481\n",
      "az quantum execute --target-id ionq.simulator -- --theta1 0.00756478 --theta2 -0.00122729 --theta3 -0.11203378 --term-type 1 --n-ham 1 --n-op 0 --shots 1000\n",
      "2.2468212790000002e-07\n",
      "az quantum execute --target-id ionq.simulator -- --theta1 0.00756478 --theta2 -0.00122729 --theta3 -0.11203378 --term-type 1 --n-ham 2 --n-op 0 --shots 1000\n",
      "3.4460715062000003e-06\n",
      "az quantum execute --target-id ionq.simulator -- --theta1 0.00756478 --theta2 -0.00122729 --theta3 -0.11203378 --term-type 1 --n-ham 3 --n-op 0 --shots 1000\n",
      "3.4460715062000003e-06\n",
      "az quantum execute --target-id ionq.simulator -- --theta1 0.00756478 --theta2 -0.00122729 --theta3 -0.11203378 --term-type 1 --n-ham 4 --n-op 0 --shots 1000\n",
      "2.2468212790000002e-07\n",
      "az quantum execute --target-id ionq.simulator -- --theta1 0.00756478 --theta2 -0.00122729 --theta3 -0.11203378 --term-type 1 --n-ham 5 --n-op 0 --shots 1000\n",
      "0.9999963292463481\n",
      "az quantum execute --target-id ionq.simulator -- --theta1 0.00756478 --theta2 -0.00122729 --theta3 -0.11203378 --term-type 3 --n-ham 0 --n-op 0 --shots 1000\n",
      "0.9999999999999821\n",
      "az quantum execute --target-id ionq.simulator -- --theta1 0.00756478 --theta2 -0.00122729 --theta3 -0.11203378 --term-type 3 --n-ham 0 --n-op 1 --shots 1000\n",
      "0.9999999999999821\n",
      "az quantum execute --target-id ionq.simulator -- --theta1 0.00756478 --theta2 -0.00122729 --theta3 -0.11203378 --term-type 3 --n-ham 0 --n-op 2 --shots 1000\n",
      "0.9999963292463481\n",
      "az quantum execute --target-id ionq.simulator -- --theta1 0.00756478 --theta2 -0.00122729 --theta3 -0.11203378 --term-type 3 --n-ham 0 --n-op 3 --shots 1000\n",
      "0.9999963292463481\n",
      "CPU times: user 40.2 ms, sys: 63.9 ms, total: 104 ms\n",
      "Wall time: 2min\n"
     ]
    },
    {
     "data": {
      "text/plain": [
       "-1.1154472558126027"
      ]
     },
     "execution_count": 24,
     "metadata": {},
     "output_type": "execute_result"
    }
   ],
   "source": [
    "%%time\n",
    "results = run_vqe_all(theta1=0.00756478, theta2=-0.00122729, theta3=-0.11203378, target=\"ionq.simulator\", shots=1000)\n",
    "estimate_energy(hamiltonian, results)"
   ]
  },
  {
   "cell_type": "code",
   "execution_count": 26,
   "id": "affiliated-function",
   "metadata": {},
   "outputs": [
    {
     "name": "stdout",
     "output_type": "stream",
     "text": [
      "az quantum execute --target-id ionq.qpu -- --theta1 0.00756478 --theta2 -0.00122729 --theta3 -0.11203378 --term-type 0 --n-ham 0 --n-op 0 --shots 1000\n",
      "0.6350000000000001\n",
      "az quantum execute --target-id ionq.qpu -- --theta1 0.00756478 --theta2 -0.00122729 --theta3 -0.11203378 --term-type 0 --n-ham 1 --n-op 0 --shots 1000\n",
      "0.6560000000000002\n",
      "az quantum execute --target-id ionq.qpu -- --theta1 0.00756478 --theta2 -0.00122729 --theta3 -0.11203378 --term-type 0 --n-ham 2 --n-op 0 --shots 1000\n",
      "0.6250000000000001\n",
      "az quantum execute --target-id ionq.qpu -- --theta1 0.00756478 --theta2 -0.00122729 --theta3 -0.11203378 --term-type 0 --n-ham 3 --n-op 0 --shots 1000\n",
      "0.6350000000000001\n",
      "az quantum execute --target-id ionq.qpu -- --theta1 0.00756478 --theta2 -0.00122729 --theta3 -0.11203378 --term-type 1 --n-ham 0 --n-op 0 --shots 1000\n",
      "0.6970000000000002\n",
      "az quantum execute --target-id ionq.qpu -- --theta1 0.00756478 --theta2 -0.00122729 --theta3 -0.11203378 --term-type 1 --n-ham 1 --n-op 0 --shots 1000\n",
      "0.7010000000000002\n",
      "az quantum execute --target-id ionq.qpu -- --theta1 0.00756478 --theta2 -0.00122729 --theta3 -0.11203378 --term-type 1 --n-ham 2 --n-op 0 --shots 1000\n",
      "0.7340000000000002\n",
      "az quantum execute --target-id ionq.qpu -- --theta1 0.00756478 --theta2 -0.00122729 --theta3 -0.11203378 --term-type 1 --n-ham 3 --n-op 0 --shots 1000\n",
      "0.44500000000000006\n",
      "az quantum execute --target-id ionq.qpu -- --theta1 0.00756478 --theta2 -0.00122729 --theta3 -0.11203378 --term-type 1 --n-ham 4 --n-op 0 --shots 1000\n",
      "0.411\n",
      "az quantum execute --target-id ionq.qpu -- --theta1 0.00756478 --theta2 -0.00122729 --theta3 -0.11203378 --term-type 1 --n-ham 5 --n-op 0 --shots 1000\n",
      "0.408\n",
      "az quantum execute --target-id ionq.qpu -- --theta1 0.00756478 --theta2 -0.00122729 --theta3 -0.11203378 --term-type 3 --n-ham 0 --n-op 0 --shots 1000\n",
      "0.9470000000000002\n",
      "az quantum execute --target-id ionq.qpu -- --theta1 0.00756478 --theta2 -0.00122729 --theta3 -0.11203378 --term-type 3 --n-ham 0 --n-op 1 --shots 1000\n",
      "0.6390000000000001\n",
      "az quantum execute --target-id ionq.qpu -- --theta1 0.00756478 --theta2 -0.00122729 --theta3 -0.11203378 --term-type 3 --n-ham 0 --n-op 2 --shots 1000\n",
      "0.3979999999999999\n",
      "az quantum execute --target-id ionq.qpu -- --theta1 0.00756478 --theta2 -0.00122729 --theta3 -0.11203378 --term-type 3 --n-ham 0 --n-op 3 --shots 1000\n",
      "0.619\n",
      "CPU times: user 73.2 ms, sys: 80.5 ms, total: 154 ms\n",
      "Wall time: 12min 6s\n"
     ]
    },
    {
     "data": {
      "text/plain": [
       "0.0038779860485001344"
      ]
     },
     "execution_count": 26,
     "metadata": {},
     "output_type": "execute_result"
    }
   ],
   "source": [
    "%%time\n",
    "results = run_vqe_all(theta1=0.00756478, theta2=-0.00122729, theta3=-0.11203378, target=\"ionq.qpu\", shots=1000)\n",
    "estimate_energy(hamiltonian, results)"
   ]
  },
  {
   "cell_type": "code",
   "execution_count": 27,
   "id": "municipal-gravity",
   "metadata": {},
   "outputs": [
    {
     "name": "stdout",
     "output_type": "stream",
     "text": [
      "az quantum execute --target-id ionq.qpu -- --theta1 0.00756478 --theta2 -0.00122729 --theta3 -0.11203378 --term-type 0 --n-ham 0 --n-op 0 --shots 10000\n",
      "0.5557\n",
      "az quantum execute --target-id ionq.qpu -- --theta1 0.00756478 --theta2 -0.00122729 --theta3 -0.11203378 --term-type 0 --n-ham 1 --n-op 0 --shots 10000\n",
      "0.5747999999999999\n",
      "az quantum execute --target-id ionq.qpu -- --theta1 0.00756478 --theta2 -0.00122729 --theta3 -0.11203378 --term-type 0 --n-ham 2 --n-op 0 --shots 10000\n",
      "0.6130999999999999\n",
      "az quantum execute --target-id ionq.qpu -- --theta1 0.00756478 --theta2 -0.00122729 --theta3 -0.11203378 --term-type 0 --n-ham 3 --n-op 0 --shots 10000\n",
      "0.6551000000000001\n",
      "az quantum execute --target-id ionq.qpu -- --theta1 0.00756478 --theta2 -0.00122729 --theta3 -0.11203378 --term-type 1 --n-ham 0 --n-op 0 --shots 10000\n",
      "0.6713\n",
      "az quantum execute --target-id ionq.qpu -- --theta1 0.00756478 --theta2 -0.00122729 --theta3 -0.11203378 --term-type 1 --n-ham 1 --n-op 0 --shots 10000\n",
      "0.6789\n",
      "az quantum execute --target-id ionq.qpu -- --theta1 0.00756478 --theta2 -0.00122729 --theta3 -0.11203378 --term-type 1 --n-ham 2 --n-op 0 --shots 10000\n",
      "0.6860999999999998\n",
      "az quantum execute --target-id ionq.qpu -- --theta1 0.00756478 --theta2 -0.00122729 --theta3 -0.11203378 --term-type 1 --n-ham 3 --n-op 0 --shots 10000\n"
     ]
    },
    {
     "ename": "CalledProcessError",
     "evalue": "Command '['az quantum execute --target-id ionq.qpu -- --theta1 0.00756478 --theta2 -0.00122729 --theta3 -0.11203378 --term-type 1 --n-ham 3 --n-op 0 --shots 10000']' returned non-zero exit status 1.",
     "output_type": "error",
     "traceback": [
      "\u001b[0;31m---------------------------------------------------------------------------\u001b[0m",
      "\u001b[0;31mCalledProcessError\u001b[0m                        Traceback (most recent call last)",
      "\u001b[0;32m<timed exec>\u001b[0m in \u001b[0;36m<module>\u001b[0;34m\u001b[0m\n",
      "\u001b[0;32m<ipython-input-22-02c69fa29ed8>\u001b[0m in \u001b[0;36mrun_vqe_all\u001b[0;34m(theta1, theta2, theta3, target, shots)\u001b[0m\n\u001b[1;32m      8\u001b[0m             \u001b[0m_\u001b[0m\u001b[0;34m,\u001b[0m \u001b[0mops\u001b[0m \u001b[0;34m=\u001b[0m \u001b[0mterm\u001b[0m\u001b[0;34m\u001b[0m\u001b[0;34m\u001b[0m\u001b[0m\n\u001b[1;32m      9\u001b[0m             \u001b[0;32mfor\u001b[0m \u001b[0mn_op\u001b[0m\u001b[0;34m,\u001b[0m \u001b[0mop\u001b[0m \u001b[0;32min\u001b[0m \u001b[0menumerate\u001b[0m\u001b[0;34m(\u001b[0m\u001b[0mops\u001b[0m\u001b[0;34m)\u001b[0m\u001b[0;34m:\u001b[0m\u001b[0;34m\u001b[0m\u001b[0;34m\u001b[0m\u001b[0m\n\u001b[0;32m---> 10\u001b[0;31m                 \u001b[0mresult\u001b[0m \u001b[0;34m=\u001b[0m \u001b[0mrun_vqe\u001b[0m\u001b[0;34m(\u001b[0m\u001b[0mtheta1\u001b[0m\u001b[0;34m,\u001b[0m \u001b[0mtheta2\u001b[0m\u001b[0;34m,\u001b[0m \u001b[0mtheta3\u001b[0m\u001b[0;34m,\u001b[0m \u001b[0mterm_type\u001b[0m\u001b[0;34m,\u001b[0m \u001b[0mn_ham\u001b[0m\u001b[0;34m,\u001b[0m \u001b[0mn_op\u001b[0m\u001b[0;34m,\u001b[0m \u001b[0mshots\u001b[0m\u001b[0;34m,\u001b[0m \u001b[0mtarget\u001b[0m\u001b[0;34m)\u001b[0m\u001b[0;34m\u001b[0m\u001b[0;34m\u001b[0m\u001b[0m\n\u001b[0m\u001b[1;32m     11\u001b[0m                 \u001b[0mprint\u001b[0m\u001b[0;34m(\u001b[0m\u001b[0mresult\u001b[0m\u001b[0;34m[\u001b[0m\u001b[0;36m0\u001b[0m\u001b[0;34m]\u001b[0m\u001b[0;34m[\u001b[0m\u001b[0;34m\"Histogram\"\u001b[0m\u001b[0;34m]\u001b[0m\u001b[0;34m[\u001b[0m\u001b[0;36m1\u001b[0m\u001b[0;34m]\u001b[0m\u001b[0;34m)\u001b[0m\u001b[0;34m\u001b[0m\u001b[0;34m\u001b[0m\u001b[0m\n\u001b[1;32m     12\u001b[0m                 \u001b[0mresults\u001b[0m\u001b[0;34m.\u001b[0m\u001b[0mappend\u001b[0m\u001b[0;34m(\u001b[0m\u001b[0mresult\u001b[0m\u001b[0;34m)\u001b[0m\u001b[0;34m\u001b[0m\u001b[0;34m\u001b[0m\u001b[0m\n",
      "\u001b[0;32m<ipython-input-19-7253ebcea5c5>\u001b[0m in \u001b[0;36mrun_vqe\u001b[0;34m(theta1, theta2, theta3, term_type, n_ham, n_op, shots, target)\u001b[0m\n\u001b[1;32m      5\u001b[0m     \u001b[0mcmd\u001b[0m \u001b[0;34m=\u001b[0m \u001b[0;34mf\"az quantum execute --target-id {target} -- --theta1 {theta1} --theta2 {theta2} --theta3 {theta3} --term-type {term_type} --n-ham {n_ham} --n-op {n_op} --shots {shots}\"\u001b[0m\u001b[0;34m\u001b[0m\u001b[0;34m\u001b[0m\u001b[0m\n\u001b[1;32m      6\u001b[0m     \u001b[0mprint\u001b[0m\u001b[0;34m(\u001b[0m\u001b[0mcmd\u001b[0m\u001b[0;34m)\u001b[0m\u001b[0;34m\u001b[0m\u001b[0;34m\u001b[0m\u001b[0m\n\u001b[0;32m----> 7\u001b[0;31m     \u001b[0mrun_cmd\u001b[0m \u001b[0;34m=\u001b[0m \u001b[0msubprocess\u001b[0m\u001b[0;34m.\u001b[0m\u001b[0mrun\u001b[0m\u001b[0;34m(\u001b[0m\u001b[0;34m[\u001b[0m\u001b[0mcmd\u001b[0m\u001b[0;34m]\u001b[0m\u001b[0;34m,\u001b[0m \u001b[0mcheck\u001b[0m\u001b[0;34m=\u001b[0m\u001b[0;32mTrue\u001b[0m\u001b[0;34m,\u001b[0m \u001b[0mshell\u001b[0m\u001b[0;34m=\u001b[0m\u001b[0;32mTrue\u001b[0m\u001b[0;34m,\u001b[0m \u001b[0mcapture_output\u001b[0m\u001b[0;34m=\u001b[0m\u001b[0;32mTrue\u001b[0m\u001b[0;34m)\u001b[0m\u001b[0;34m\u001b[0m\u001b[0;34m\u001b[0m\u001b[0m\n\u001b[0m\u001b[1;32m      8\u001b[0m     \u001b[0mresult\u001b[0m \u001b[0;34m=\u001b[0m \u001b[0mrun_cmd\u001b[0m\u001b[0;34m.\u001b[0m\u001b[0mstdout\u001b[0m\u001b[0;34m\u001b[0m\u001b[0;34m\u001b[0m\u001b[0m\n\u001b[1;32m      9\u001b[0m     \u001b[0mresult\u001b[0m \u001b[0;34m=\u001b[0m \u001b[0mjson\u001b[0m\u001b[0;34m.\u001b[0m\u001b[0mloads\u001b[0m\u001b[0;34m(\u001b[0m\u001b[0mrun_cmd\u001b[0m\u001b[0;34m.\u001b[0m\u001b[0mstdout\u001b[0m\u001b[0;34m.\u001b[0m\u001b[0mlstrip\u001b[0m\u001b[0;34m(\u001b[0m\u001b[0;34mb\".\"\u001b[0m\u001b[0;34m)\u001b[0m\u001b[0;34m)\u001b[0m\u001b[0;34m\u001b[0m\u001b[0;34m\u001b[0m\u001b[0m\n",
      "\u001b[0;32m~/miniconda3/envs/qdk/lib/python3.7/subprocess.py\u001b[0m in \u001b[0;36mrun\u001b[0;34m(input, capture_output, timeout, check, *popenargs, **kwargs)\u001b[0m\n\u001b[1;32m    510\u001b[0m         \u001b[0;32mif\u001b[0m \u001b[0mcheck\u001b[0m \u001b[0;32mand\u001b[0m \u001b[0mretcode\u001b[0m\u001b[0;34m:\u001b[0m\u001b[0;34m\u001b[0m\u001b[0;34m\u001b[0m\u001b[0m\n\u001b[1;32m    511\u001b[0m             raise CalledProcessError(retcode, process.args,\n\u001b[0;32m--> 512\u001b[0;31m                                      output=stdout, stderr=stderr)\n\u001b[0m\u001b[1;32m    513\u001b[0m     \u001b[0;32mreturn\u001b[0m \u001b[0mCompletedProcess\u001b[0m\u001b[0;34m(\u001b[0m\u001b[0mprocess\u001b[0m\u001b[0;34m.\u001b[0m\u001b[0margs\u001b[0m\u001b[0;34m,\u001b[0m \u001b[0mretcode\u001b[0m\u001b[0;34m,\u001b[0m \u001b[0mstdout\u001b[0m\u001b[0;34m,\u001b[0m \u001b[0mstderr\u001b[0m\u001b[0;34m)\u001b[0m\u001b[0;34m\u001b[0m\u001b[0;34m\u001b[0m\u001b[0m\n\u001b[1;32m    514\u001b[0m \u001b[0;34m\u001b[0m\u001b[0m\n",
      "\u001b[0;31mCalledProcessError\u001b[0m: Command '['az quantum execute --target-id ionq.qpu -- --theta1 0.00756478 --theta2 -0.00122729 --theta3 -0.11203378 --term-type 1 --n-ham 3 --n-op 0 --shots 10000']' returned non-zero exit status 1."
     ]
    }
   ],
   "source": [
    "%%time\n",
    "results = run_vqe_all(theta1=0.00756478, theta2=-0.00122729, theta3=-0.11203378, target=\"ionq.qpu\", shots=10000)\n",
    "estimate_energy(hamiltonian, results)"
   ]
  },
  {
   "cell_type": "code",
   "execution_count": 31,
   "id": "instant-reverse",
   "metadata": {},
   "outputs": [
    {
     "name": "stdout",
     "output_type": "stream",
     "text": [
      "az quantum execute --target-id ionq.qpu -- --theta1 0.00756478 --theta2 -0.00122729 --theta3 -0.11203378 --term-type 0 --n-ham 0 --n-op 0 --shots 10000\n"
     ]
    },
    {
     "ename": "KeyboardInterrupt",
     "evalue": "",
     "output_type": "error",
     "traceback": [
      "\u001b[0;31m---------------------------------------------------------------------------\u001b[0m",
      "\u001b[0;31mKeyboardInterrupt\u001b[0m                         Traceback (most recent call last)",
      "\u001b[0;32m<timed exec>\u001b[0m in \u001b[0;36m<module>\u001b[0;34m\u001b[0m\n",
      "\u001b[0;32m<ipython-input-29-9ea063cbaad1>\u001b[0m in \u001b[0;36mrun_vqe_all\u001b[0;34m(theta1, theta2, theta3, target, shots)\u001b[0m\n\u001b[1;32m      9\u001b[0m             \u001b[0;32mfor\u001b[0m \u001b[0mn_op\u001b[0m\u001b[0;34m,\u001b[0m \u001b[0mop\u001b[0m \u001b[0;32min\u001b[0m \u001b[0menumerate\u001b[0m\u001b[0;34m(\u001b[0m\u001b[0mops\u001b[0m\u001b[0;34m)\u001b[0m\u001b[0;34m:\u001b[0m\u001b[0;34m\u001b[0m\u001b[0;34m\u001b[0m\u001b[0m\n\u001b[1;32m     10\u001b[0m                 \u001b[0;32mtry\u001b[0m\u001b[0;34m:\u001b[0m\u001b[0;34m\u001b[0m\u001b[0;34m\u001b[0m\u001b[0m\n\u001b[0;32m---> 11\u001b[0;31m                     \u001b[0mresult\u001b[0m \u001b[0;34m=\u001b[0m \u001b[0mrun_vqe\u001b[0m\u001b[0;34m(\u001b[0m\u001b[0mtheta1\u001b[0m\u001b[0;34m,\u001b[0m \u001b[0mtheta2\u001b[0m\u001b[0;34m,\u001b[0m \u001b[0mtheta3\u001b[0m\u001b[0;34m,\u001b[0m \u001b[0mterm_type\u001b[0m\u001b[0;34m,\u001b[0m \u001b[0mn_ham\u001b[0m\u001b[0;34m,\u001b[0m \u001b[0mn_op\u001b[0m\u001b[0;34m,\u001b[0m \u001b[0mshots\u001b[0m\u001b[0;34m,\u001b[0m \u001b[0mtarget\u001b[0m\u001b[0;34m)\u001b[0m\u001b[0;34m\u001b[0m\u001b[0;34m\u001b[0m\u001b[0m\n\u001b[0m\u001b[1;32m     12\u001b[0m                 \u001b[0;32mexcept\u001b[0m \u001b[0mException\u001b[0m\u001b[0;34m:\u001b[0m\u001b[0;34m\u001b[0m\u001b[0;34m\u001b[0m\u001b[0m\n\u001b[1;32m     13\u001b[0m                     \u001b[0mresult\u001b[0m \u001b[0;34m=\u001b[0m \u001b[0mrun_vqe\u001b[0m\u001b[0;34m(\u001b[0m\u001b[0mtheta1\u001b[0m\u001b[0;34m,\u001b[0m \u001b[0mtheta2\u001b[0m\u001b[0;34m,\u001b[0m \u001b[0mtheta3\u001b[0m\u001b[0;34m,\u001b[0m \u001b[0mterm_type\u001b[0m\u001b[0;34m,\u001b[0m \u001b[0mn_ham\u001b[0m\u001b[0;34m,\u001b[0m \u001b[0mn_op\u001b[0m\u001b[0;34m,\u001b[0m \u001b[0mshots\u001b[0m\u001b[0;34m,\u001b[0m \u001b[0mtarget\u001b[0m\u001b[0;34m)\u001b[0m\u001b[0;34m\u001b[0m\u001b[0;34m\u001b[0m\u001b[0m\n",
      "\u001b[0;32m<ipython-input-19-7253ebcea5c5>\u001b[0m in \u001b[0;36mrun_vqe\u001b[0;34m(theta1, theta2, theta3, term_type, n_ham, n_op, shots, target)\u001b[0m\n\u001b[1;32m      5\u001b[0m     \u001b[0mcmd\u001b[0m \u001b[0;34m=\u001b[0m \u001b[0;34mf\"az quantum execute --target-id {target} -- --theta1 {theta1} --theta2 {theta2} --theta3 {theta3} --term-type {term_type} --n-ham {n_ham} --n-op {n_op} --shots {shots}\"\u001b[0m\u001b[0;34m\u001b[0m\u001b[0;34m\u001b[0m\u001b[0m\n\u001b[1;32m      6\u001b[0m     \u001b[0mprint\u001b[0m\u001b[0;34m(\u001b[0m\u001b[0mcmd\u001b[0m\u001b[0;34m)\u001b[0m\u001b[0;34m\u001b[0m\u001b[0;34m\u001b[0m\u001b[0m\n\u001b[0;32m----> 7\u001b[0;31m     \u001b[0mrun_cmd\u001b[0m \u001b[0;34m=\u001b[0m \u001b[0msubprocess\u001b[0m\u001b[0;34m.\u001b[0m\u001b[0mrun\u001b[0m\u001b[0;34m(\u001b[0m\u001b[0;34m[\u001b[0m\u001b[0mcmd\u001b[0m\u001b[0;34m]\u001b[0m\u001b[0;34m,\u001b[0m \u001b[0mcheck\u001b[0m\u001b[0;34m=\u001b[0m\u001b[0;32mTrue\u001b[0m\u001b[0;34m,\u001b[0m \u001b[0mshell\u001b[0m\u001b[0;34m=\u001b[0m\u001b[0;32mTrue\u001b[0m\u001b[0;34m,\u001b[0m \u001b[0mcapture_output\u001b[0m\u001b[0;34m=\u001b[0m\u001b[0;32mTrue\u001b[0m\u001b[0;34m)\u001b[0m\u001b[0;34m\u001b[0m\u001b[0;34m\u001b[0m\u001b[0m\n\u001b[0m\u001b[1;32m      8\u001b[0m     \u001b[0mresult\u001b[0m \u001b[0;34m=\u001b[0m \u001b[0mrun_cmd\u001b[0m\u001b[0;34m.\u001b[0m\u001b[0mstdout\u001b[0m\u001b[0;34m\u001b[0m\u001b[0;34m\u001b[0m\u001b[0m\n\u001b[1;32m      9\u001b[0m     \u001b[0mresult\u001b[0m \u001b[0;34m=\u001b[0m \u001b[0mjson\u001b[0m\u001b[0;34m.\u001b[0m\u001b[0mloads\u001b[0m\u001b[0;34m(\u001b[0m\u001b[0mrun_cmd\u001b[0m\u001b[0;34m.\u001b[0m\u001b[0mstdout\u001b[0m\u001b[0;34m.\u001b[0m\u001b[0mlstrip\u001b[0m\u001b[0;34m(\u001b[0m\u001b[0;34mb\".\"\u001b[0m\u001b[0;34m)\u001b[0m\u001b[0;34m)\u001b[0m\u001b[0;34m\u001b[0m\u001b[0;34m\u001b[0m\u001b[0m\n",
      "\u001b[0;32m~/miniconda3/envs/qdk/lib/python3.7/subprocess.py\u001b[0m in \u001b[0;36mrun\u001b[0;34m(input, capture_output, timeout, check, *popenargs, **kwargs)\u001b[0m\n\u001b[1;32m    488\u001b[0m     \u001b[0;32mwith\u001b[0m \u001b[0mPopen\u001b[0m\u001b[0;34m(\u001b[0m\u001b[0;34m*\u001b[0m\u001b[0mpopenargs\u001b[0m\u001b[0;34m,\u001b[0m \u001b[0;34m**\u001b[0m\u001b[0mkwargs\u001b[0m\u001b[0;34m)\u001b[0m \u001b[0;32mas\u001b[0m \u001b[0mprocess\u001b[0m\u001b[0;34m:\u001b[0m\u001b[0;34m\u001b[0m\u001b[0;34m\u001b[0m\u001b[0m\n\u001b[1;32m    489\u001b[0m         \u001b[0;32mtry\u001b[0m\u001b[0;34m:\u001b[0m\u001b[0;34m\u001b[0m\u001b[0;34m\u001b[0m\u001b[0m\n\u001b[0;32m--> 490\u001b[0;31m             \u001b[0mstdout\u001b[0m\u001b[0;34m,\u001b[0m \u001b[0mstderr\u001b[0m \u001b[0;34m=\u001b[0m \u001b[0mprocess\u001b[0m\u001b[0;34m.\u001b[0m\u001b[0mcommunicate\u001b[0m\u001b[0;34m(\u001b[0m\u001b[0minput\u001b[0m\u001b[0;34m,\u001b[0m \u001b[0mtimeout\u001b[0m\u001b[0;34m=\u001b[0m\u001b[0mtimeout\u001b[0m\u001b[0;34m)\u001b[0m\u001b[0;34m\u001b[0m\u001b[0;34m\u001b[0m\u001b[0m\n\u001b[0m\u001b[1;32m    491\u001b[0m         \u001b[0;32mexcept\u001b[0m \u001b[0mTimeoutExpired\u001b[0m \u001b[0;32mas\u001b[0m \u001b[0mexc\u001b[0m\u001b[0;34m:\u001b[0m\u001b[0;34m\u001b[0m\u001b[0;34m\u001b[0m\u001b[0m\n\u001b[1;32m    492\u001b[0m             \u001b[0mprocess\u001b[0m\u001b[0;34m.\u001b[0m\u001b[0mkill\u001b[0m\u001b[0;34m(\u001b[0m\u001b[0;34m)\u001b[0m\u001b[0;34m\u001b[0m\u001b[0;34m\u001b[0m\u001b[0m\n",
      "\u001b[0;32m~/miniconda3/envs/qdk/lib/python3.7/subprocess.py\u001b[0m in \u001b[0;36mcommunicate\u001b[0;34m(self, input, timeout)\u001b[0m\n\u001b[1;32m    962\u001b[0m \u001b[0;34m\u001b[0m\u001b[0m\n\u001b[1;32m    963\u001b[0m             \u001b[0;32mtry\u001b[0m\u001b[0;34m:\u001b[0m\u001b[0;34m\u001b[0m\u001b[0;34m\u001b[0m\u001b[0m\n\u001b[0;32m--> 964\u001b[0;31m                 \u001b[0mstdout\u001b[0m\u001b[0;34m,\u001b[0m \u001b[0mstderr\u001b[0m \u001b[0;34m=\u001b[0m \u001b[0mself\u001b[0m\u001b[0;34m.\u001b[0m\u001b[0m_communicate\u001b[0m\u001b[0;34m(\u001b[0m\u001b[0minput\u001b[0m\u001b[0;34m,\u001b[0m \u001b[0mendtime\u001b[0m\u001b[0;34m,\u001b[0m \u001b[0mtimeout\u001b[0m\u001b[0;34m)\u001b[0m\u001b[0;34m\u001b[0m\u001b[0;34m\u001b[0m\u001b[0m\n\u001b[0m\u001b[1;32m    965\u001b[0m             \u001b[0;32mexcept\u001b[0m \u001b[0mKeyboardInterrupt\u001b[0m\u001b[0;34m:\u001b[0m\u001b[0;34m\u001b[0m\u001b[0;34m\u001b[0m\u001b[0m\n\u001b[1;32m    966\u001b[0m                 \u001b[0;31m# https://bugs.python.org/issue25942\u001b[0m\u001b[0;34m\u001b[0m\u001b[0;34m\u001b[0m\u001b[0;34m\u001b[0m\u001b[0m\n",
      "\u001b[0;32m~/miniconda3/envs/qdk/lib/python3.7/subprocess.py\u001b[0m in \u001b[0;36m_communicate\u001b[0;34m(self, input, endtime, orig_timeout)\u001b[0m\n\u001b[1;32m   1713\u001b[0m                             'failed to raise TimeoutExpired.')\n\u001b[1;32m   1714\u001b[0m \u001b[0;34m\u001b[0m\u001b[0m\n\u001b[0;32m-> 1715\u001b[0;31m                     \u001b[0mready\u001b[0m \u001b[0;34m=\u001b[0m \u001b[0mselector\u001b[0m\u001b[0;34m.\u001b[0m\u001b[0mselect\u001b[0m\u001b[0;34m(\u001b[0m\u001b[0mtimeout\u001b[0m\u001b[0;34m)\u001b[0m\u001b[0;34m\u001b[0m\u001b[0;34m\u001b[0m\u001b[0m\n\u001b[0m\u001b[1;32m   1716\u001b[0m                     \u001b[0mself\u001b[0m\u001b[0;34m.\u001b[0m\u001b[0m_check_timeout\u001b[0m\u001b[0;34m(\u001b[0m\u001b[0mendtime\u001b[0m\u001b[0;34m,\u001b[0m \u001b[0morig_timeout\u001b[0m\u001b[0;34m,\u001b[0m \u001b[0mstdout\u001b[0m\u001b[0;34m,\u001b[0m \u001b[0mstderr\u001b[0m\u001b[0;34m)\u001b[0m\u001b[0;34m\u001b[0m\u001b[0;34m\u001b[0m\u001b[0m\n\u001b[1;32m   1717\u001b[0m \u001b[0;34m\u001b[0m\u001b[0m\n",
      "\u001b[0;32m~/miniconda3/envs/qdk/lib/python3.7/selectors.py\u001b[0m in \u001b[0;36mselect\u001b[0;34m(self, timeout)\u001b[0m\n\u001b[1;32m    413\u001b[0m         \u001b[0mready\u001b[0m \u001b[0;34m=\u001b[0m \u001b[0;34m[\u001b[0m\u001b[0;34m]\u001b[0m\u001b[0;34m\u001b[0m\u001b[0;34m\u001b[0m\u001b[0m\n\u001b[1;32m    414\u001b[0m         \u001b[0;32mtry\u001b[0m\u001b[0;34m:\u001b[0m\u001b[0;34m\u001b[0m\u001b[0;34m\u001b[0m\u001b[0m\n\u001b[0;32m--> 415\u001b[0;31m             \u001b[0mfd_event_list\u001b[0m \u001b[0;34m=\u001b[0m \u001b[0mself\u001b[0m\u001b[0;34m.\u001b[0m\u001b[0m_selector\u001b[0m\u001b[0;34m.\u001b[0m\u001b[0mpoll\u001b[0m\u001b[0;34m(\u001b[0m\u001b[0mtimeout\u001b[0m\u001b[0;34m)\u001b[0m\u001b[0;34m\u001b[0m\u001b[0;34m\u001b[0m\u001b[0m\n\u001b[0m\u001b[1;32m    416\u001b[0m         \u001b[0;32mexcept\u001b[0m \u001b[0mInterruptedError\u001b[0m\u001b[0;34m:\u001b[0m\u001b[0;34m\u001b[0m\u001b[0;34m\u001b[0m\u001b[0m\n\u001b[1;32m    417\u001b[0m             \u001b[0;32mreturn\u001b[0m \u001b[0mready\u001b[0m\u001b[0;34m\u001b[0m\u001b[0;34m\u001b[0m\u001b[0m\n",
      "\u001b[0;31mKeyboardInterrupt\u001b[0m: "
     ]
    }
   ],
   "source": [
    "%%time\n",
    "results = run_vqe_all(theta1=0.00756478, theta2=-0.00122729, theta3=-0.11203378, target=\"ionq.qpu\", shots=10000)\n",
    "estimate_energy(hamiltonian, results)"
   ]
  },
  {
   "cell_type": "code",
   "execution_count": null,
   "id": "threaded-hollow",
   "metadata": {},
   "outputs": [],
   "source": [
    "%%time\n",
    "VQE([0.001, -0.001, 0.001], 100)"
   ]
  }
 ],
 "metadata": {
  "kernelspec": {
   "display_name": "Python 3",
   "language": "python",
   "name": "python3"
  },
  "language_info": {
   "codemirror_mode": {
    "name": "ipython",
    "version": 3
   },
   "file_extension": ".py",
   "mimetype": "text/x-python",
   "name": "python",
   "nbconvert_exporter": "python",
   "pygments_lexer": "ipython3",
   "version": "3.7.9"
  }
 },
 "nbformat": 4,
 "nbformat_minor": 5
}
