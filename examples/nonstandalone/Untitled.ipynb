{
 "cells": [
  {
   "cell_type": "code",
   "execution_count": 1,
   "id": "narrow-terry",
   "metadata": {},
   "outputs": [
    {
     "name": "stdout",
     "output_type": "stream",
     "text": [
      "Preparing Q# environment...\n"
     ]
    }
   ],
   "source": [
    "import qsharp"
   ]
  },
  {
   "cell_type": "code",
   "execution_count": 6,
   "id": "uniform-campus",
   "metadata": {},
   "outputs": [
    {
     "data": {
      "application/json": "{\"LastUpdated\":\"2021-02-23T03:35:10.58722-08:00\",\"IsCompleted\":false,\"Description\":\"Adding package Microsoft.Quantum.Chemistry\",\"Subtask\":null}",
      "text/plain": [
       "Adding package Microsoft.Quantum.Chemistry."
      ]
     },
     "metadata": {},
     "output_type": "display_data"
    }
   ],
   "source": [
    "qsharp.packages.add(\"Microsoft.Quantum.Chemistry\")"
   ]
  },
  {
   "cell_type": "code",
   "execution_count": 7,
   "id": "adjusted-weapon",
   "metadata": {},
   "outputs": [
    {
     "data": {
      "application/json": "{\"LastUpdated\":\"2021-02-23T03:35:14.838274-08:00\",\"IsCompleted\":false,\"Description\":\"Reloading workspace\",\"Subtask\":null}",
      "text/plain": [
       "Reloading workspace."
      ]
     },
     "metadata": {},
     "output_type": "display_data"
    }
   ],
   "source": [
    "qsharp.reload()"
   ]
  },
  {
   "cell_type": "code",
   "execution_count": 8,
   "id": "sacred-elephant",
   "metadata": {},
   "outputs": [],
   "source": [
    "from Microsoft.Quantum.Samples.Chemistry.SimpleVQE import GetEnergyHydrogenVQE"
   ]
  },
  {
   "cell_type": "code",
   "execution_count": 10,
   "id": "critical-valentine",
   "metadata": {},
   "outputs": [
    {
     "data": {
      "text/plain": [
       "-1.0241962531299997"
      ]
     },
     "execution_count": 10,
     "metadata": {},
     "output_type": "execute_result"
    }
   ],
   "source": [
    "GetEnergyHydrogenVQE.simulate(theta1=0.001, theta2=-0.001, theta3=0.001, nSamples=100)"
   ]
  },
  {
   "cell_type": "code",
   "execution_count": 12,
   "id": "excited-viking",
   "metadata": {},
   "outputs": [],
   "source": [
    "import qsharp.azure"
   ]
  },
  {
   "cell_type": "code",
   "execution_count": 13,
   "id": "solar-tamil",
   "metadata": {},
   "outputs": [
    {
     "data": {
      "application/json": "{\"UserCode\":\"F9JKUJKJN\",\"DeviceCode\":\"FAQABAAEAAAD--DLA3VO7QrddgJg7WevrdBUxO0tuVza0tLm13NIsO3bAFLksoueZJpQ6x-5euiPTPjsibLC_HOYjoM47Ds-FApnm0TCgdr8diOBJJfPQCjYMRcDjOm6H16kpD-Y7-hkOhECMtEKFnXZY9lxGhhhpwGLANhxomquOzMH3ZPTK2fQwQJhaG65u9Tik2xPR8jsgAA\",\"VerificationUrl\":\"https://microsoft.com/devicelogin\",\"ExpiresOn\":\"2021-02-23T11:51:23.521683+00:00\",\"Interval\":5,\"Message\":\"To sign in, use a web browser to open the page https://microsoft.com/devicelogin and enter the code F9JKUJKJN to authenticate.\",\"ClientId\":\"84ba0947-6c53-4dd2-9ca9-b3694761521b\",\"Scopes\":[\"https://quantum.microsoft.com/Jobs.ReadWrite\",\"offline_access\",\"profile\",\"openid\"]}",
      "text/html": [
       "To sign in, use a web browser to open the page <a href=\"https://microsoft.com/devicelogin\"><code>https://microsoft.com/devicelogin</code></a> and enter the code <span id=\"42be4fad-99ac-4ffb-895a-10bc46a8f080\" style=\"background-color: #e0e0e0;\">\r\n",
       "                            <i class=\"fa fa-clipboard\" aria-hidden=\"true\"></i>\r\n",
       "                            <strong style=\"padding-right: 0.2em\">F9JKUJKJN</strong></span> to authenticate.\n",
       "<script>\r\n",
       "                    window.iqsharp.addCopyListener(\"42be4fad-99ac-4ffb-895a-10bc46a8f080\", \"F9JKUJKJN\");\r\n",
       "                </script>"
      ],
      "text/plain": [
       "To sign in, use a web browser to open the page https://microsoft.com/devicelogin and enter the code F9JKUJKJN to authenticate."
      ]
     },
     "metadata": {},
     "output_type": "display_data"
    },
    {
     "name": "stdout",
     "output_type": "stream",
     "text": [
      "Connected to Azure Quantum workspace azure-quantum-01 in location westus.\n"
     ]
    },
    {
     "data": {
      "text/plain": [
       "[{'id': 'ionq.qpu', 'current_availability': 'Available', 'average_queue_time': 17},\n",
       " {'id': 'ionq.simulator', 'current_availability': 'Available', 'average_queue_time': 0},\n",
       " {'id': 'honeywell.hqs-lt-1.0', 'current_availability': 'Unavailable', 'average_queue_time': 0},\n",
       " {'id': 'honeywell.hqs-lt-1.0-apival', 'current_availability': 'Available', 'average_queue_time': 0}]"
      ]
     },
     "execution_count": 13,
     "metadata": {},
     "output_type": "execute_result"
    }
   ],
   "source": [
    "resource_id = \"/subscriptions/9006b025-1a81-4f7c-9111-582e121509ac/resourcegroups/azure-quantum-guenp/providers/Microsoft.Quantum/Workspaces/azure-quantum-01\"\n",
    "qsharp.azure.connect(resourceId=resource_id)"
   ]
  },
  {
   "cell_type": "code",
   "execution_count": 16,
   "id": "parallel-metro",
   "metadata": {},
   "outputs": [
    {
     "data": {
      "application/json": "{\"UserCode\":\"FY7US663V\",\"DeviceCode\":\"FAQABAAEAAAD--DLA3VO7QrddgJg7WevrS1UNYMFf0jd4Yp1Kaudv7whTNsbNwKHwttKZ57PexOMHtH3vUVtSV3DvFl4iTAwS9RLPzuzCnKrvWf4CX5rUEVdJ6wyykAN3T42egYOzD4jWb7SuE_TiEOmIqTI-W3UTP016QdQKJPfBOEWveswlaZaMMezWYOluPOdHpUDhMeEgAA\",\"VerificationUrl\":\"https://microsoft.com/devicelogin\",\"ExpiresOn\":\"2021-02-23T11:53:59.168699+00:00\",\"Interval\":5,\"Message\":\"To sign in, use a web browser to open the page https://microsoft.com/devicelogin and enter the code FY7US663V to authenticate.\",\"ClientId\":\"84ba0947-6c53-4dd2-9ca9-b3694761521b\",\"Scopes\":[\"https://quantum.microsoft.com/Jobs.ReadWrite\",\"offline_access\",\"profile\",\"openid\"]}",
      "text/html": [
       "To sign in, use a web browser to open the page <a href=\"https://microsoft.com/devicelogin\"><code>https://microsoft.com/devicelogin</code></a> and enter the code <span id=\"647b5aaa-59f1-4e21-a86d-4e0a3da116d9\" style=\"background-color: #e0e0e0;\">\r\n",
       "                            <i class=\"fa fa-clipboard\" aria-hidden=\"true\"></i>\r\n",
       "                            <strong style=\"padding-right: 0.2em\">FY7US663V</strong></span> to authenticate.\n",
       "<script>\r\n",
       "                    window.iqsharp.addCopyListener(\"647b5aaa-59f1-4e21-a86d-4e0a3da116d9\", \"FY7US663V\");\r\n",
       "                </script>"
      ],
      "text/plain": [
       "To sign in, use a web browser to open the page https://microsoft.com/devicelogin and enter the code FY7US663V to authenticate."
      ]
     },
     "metadata": {},
     "output_type": "display_data"
    },
    {
     "name": "stdout",
     "output_type": "stream",
     "text": [
      "Loading package Microsoft.Quantum.Providers.IonQ and dependencies...\n",
      "Active target is now ionq.qpu\n"
     ]
    },
    {
     "data": {
      "text/plain": [
       "{'id': 'ionq.qpu', 'current_availability': 'Available', 'average_queue_time': 17}"
      ]
     },
     "execution_count": 16,
     "metadata": {},
     "output_type": "execute_result"
    }
   ],
   "source": [
    "qsharp.azure.target(\"ionq.qpu\")"
   ]
  },
  {
   "cell_type": "code",
   "execution_count": 17,
   "id": "spread-individual",
   "metadata": {},
   "outputs": [
    {
     "data": {
      "application/json": "{\"UserCode\":\"FL6V4QA9Q\",\"DeviceCode\":\"FAQABAAEAAAD--DLA3VO7QrddgJg7WevroyUxgqWAX8Gp0oIBAYEtdSVsDXd6MUiP-3DtvhZTRuvDWoK2MbfJ2YXfvczPU5O5qfb2PfRuq-juFRA_5790BlCg1G2OKDxX-3sK-jgBI4U-5J0RKZwWktI20dugCiBo94AuDbfhFVAQBtQrdrlQpYyyINj7TMK-Hu_SRSPY6bEgAA\",\"VerificationUrl\":\"https://microsoft.com/devicelogin\",\"ExpiresOn\":\"2021-02-23T11:54:14.858743+00:00\",\"Interval\":5,\"Message\":\"To sign in, use a web browser to open the page https://microsoft.com/devicelogin and enter the code FL6V4QA9Q to authenticate.\",\"ClientId\":\"84ba0947-6c53-4dd2-9ca9-b3694761521b\",\"Scopes\":[\"https://quantum.microsoft.com/Jobs.ReadWrite\",\"offline_access\",\"profile\",\"openid\"]}",
      "text/html": [
       "To sign in, use a web browser to open the page <a href=\"https://microsoft.com/devicelogin\"><code>https://microsoft.com/devicelogin</code></a> and enter the code <span id=\"84dcd8f8-2182-421d-9dc0-9abb9ee0d7e3\" style=\"background-color: #e0e0e0;\">\r\n",
       "                            <i class=\"fa fa-clipboard\" aria-hidden=\"true\"></i>\r\n",
       "                            <strong style=\"padding-right: 0.2em\">FL6V4QA9Q</strong></span> to authenticate.\n",
       "<script>\r\n",
       "                    window.iqsharp.addCopyListener(\"84dcd8f8-2182-421d-9dc0-9abb9ee0d7e3\", \"FL6V4QA9Q\");\r\n",
       "                </script>"
      ],
      "text/plain": [
       "To sign in, use a web browser to open the page https://microsoft.com/devicelogin and enter the code FL6V4QA9Q to authenticate."
      ]
     },
     "metadata": {},
     "output_type": "display_data"
    },
    {
     "name": "stdout",
     "output_type": "stream",
     "text": [
      "Submitting Microsoft.Quantum.Samples.Chemistry.SimpleVQE.GetEnergyHydrogenVQE to target ionq.qpu...\n"
     ]
    },
    {
     "name": "stderr",
     "output_type": "stream",
     "text": [
      "The Q# operation Microsoft.Quantum.Samples.Chemistry.SimpleVQE.GetEnergyHydrogenVQE could not be compiled as an entry point for job execution.\n",
      "/Users/guen/repos/microsoft/qdk-python/examples/nonstandalone/EstimateEnergy.qs(114,17): error QS5027: The callable PrepareTrialState requires the FullComputation runtime capability, which is not supported by the target ionq.qpu.\n",
      "/Users/guen/repos/microsoft/qdk-python/examples/nonstandalone/EstimateEnergy.qs(116,21): error QS5023: The target ionq.qpu does not support comparing measurement results.\n"
     ]
    },
    {
     "ename": "AzureError",
     "evalue": "{'error_code': 1009, 'error_name': 'InvalidEntryPoint', 'error_description': 'The specified Q# operation cannot be used as an entry point for Azure Quantum job submission.'}",
     "output_type": "error",
     "traceback": [
      "\u001b[0;31m---------------------------------------------------------------------------\u001b[0m",
      "\u001b[0;31mAzureError\u001b[0m                                Traceback (most recent call last)",
      "\u001b[0;32m<ipython-input-17-1c0ab86262c2>\u001b[0m in \u001b[0;36m<module>\u001b[0;34m\u001b[0m\n\u001b[0;32m----> 1\u001b[0;31m \u001b[0mresult\u001b[0m \u001b[0;34m=\u001b[0m \u001b[0mqsharp\u001b[0m\u001b[0;34m.\u001b[0m\u001b[0mazure\u001b[0m\u001b[0;34m.\u001b[0m\u001b[0mexecute\u001b[0m\u001b[0;34m(\u001b[0m\u001b[0mGetEnergyHydrogenVQE\u001b[0m\u001b[0;34m,\u001b[0m \u001b[0mtheta1\u001b[0m\u001b[0;34m=\u001b[0m\u001b[0;36m0.001\u001b[0m\u001b[0;34m,\u001b[0m \u001b[0mtheta2\u001b[0m\u001b[0;34m=\u001b[0m\u001b[0;34m-\u001b[0m\u001b[0;36m0.001\u001b[0m\u001b[0;34m,\u001b[0m \u001b[0mtheta3\u001b[0m\u001b[0;34m=\u001b[0m\u001b[0;36m0.001\u001b[0m\u001b[0;34m,\u001b[0m \u001b[0mnSamples\u001b[0m\u001b[0;34m=\u001b[0m\u001b[0;36m100\u001b[0m\u001b[0;34m,\u001b[0m \u001b[0mshots\u001b[0m\u001b[0;34m=\u001b[0m\u001b[0;36m1000\u001b[0m\u001b[0;34m,\u001b[0m \u001b[0mjobName\u001b[0m\u001b[0;34m=\u001b[0m\u001b[0;34m\"Simulate Hydrogen using VQE\"\u001b[0m\u001b[0;34m)\u001b[0m\u001b[0;34m\u001b[0m\u001b[0;34m\u001b[0m\u001b[0m\n\u001b[0m\u001b[1;32m      2\u001b[0m \u001b[0mprint\u001b[0m\u001b[0;34m(\u001b[0m\u001b[0;34mf'Azure Quantum service execution result: {result}'\u001b[0m\u001b[0;34m)\u001b[0m\u001b[0;34m\u001b[0m\u001b[0;34m\u001b[0m\u001b[0m\n",
      "\u001b[0;32m~/miniconda3/envs/qdk/lib/python3.7/site-packages/qsharp/azure.py\u001b[0m in \u001b[0;36mexecute\u001b[0;34m(op, **params)\u001b[0m\n\u001b[1;32m    135\u001b[0m     \"\"\"\n\u001b[1;32m    136\u001b[0m     \u001b[0mresult\u001b[0m \u001b[0;34m=\u001b[0m \u001b[0mqsharp\u001b[0m\u001b[0;34m.\u001b[0m\u001b[0mclient\u001b[0m\u001b[0;34m.\u001b[0m\u001b[0m_execute_callable_magic\u001b[0m\u001b[0;34m(\u001b[0m\u001b[0;34m\"azure.execute\"\u001b[0m\u001b[0;34m,\u001b[0m \u001b[0mop\u001b[0m\u001b[0;34m,\u001b[0m \u001b[0mraise_on_stderr\u001b[0m\u001b[0;34m=\u001b[0m\u001b[0;32mFalse\u001b[0m\u001b[0;34m,\u001b[0m \u001b[0;34m**\u001b[0m\u001b[0mparams\u001b[0m\u001b[0;34m)\u001b[0m\u001b[0;34m\u001b[0m\u001b[0;34m\u001b[0m\u001b[0m\n\u001b[0;32m--> 137\u001b[0;31m     \u001b[0;32mif\u001b[0m \u001b[0;34m\"error_code\"\u001b[0m \u001b[0;32min\u001b[0m \u001b[0mresult\u001b[0m\u001b[0;34m:\u001b[0m \u001b[0;32mraise\u001b[0m \u001b[0mAzureError\u001b[0m\u001b[0;34m(\u001b[0m\u001b[0mresult\u001b[0m\u001b[0;34m)\u001b[0m\u001b[0;34m\u001b[0m\u001b[0;34m\u001b[0m\u001b[0m\n\u001b[0m\u001b[1;32m    138\u001b[0m     \u001b[0;32mreturn\u001b[0m \u001b[0mresult\u001b[0m\u001b[0;34m\u001b[0m\u001b[0;34m\u001b[0m\u001b[0m\n\u001b[1;32m    139\u001b[0m \u001b[0;34m\u001b[0m\u001b[0m\n",
      "\u001b[0;31mAzureError\u001b[0m: {'error_code': 1009, 'error_name': 'InvalidEntryPoint', 'error_description': 'The specified Q# operation cannot be used as an entry point for Azure Quantum job submission.'}"
     ]
    }
   ],
   "source": [
    "result = qsharp.azure.execute(GetEnergyHydrogenVQE, theta1=0.001, theta2=-0.001, theta3=0.001, nSamples=100, shots=1000, jobName=\"Simulate Hydrogen using VQE\")\n",
    "print(f'Azure Quantum service execution result: {result}')"
   ]
  },
  {
   "cell_type": "code",
   "execution_count": null,
   "id": "racial-luxembourg",
   "metadata": {},
   "outputs": [],
   "source": []
  }
 ],
 "metadata": {
  "kernelspec": {
   "display_name": "Python 3",
   "language": "python",
   "name": "python3"
  },
  "language_info": {
   "codemirror_mode": {
    "name": "ipython",
    "version": 3
   },
   "file_extension": ".py",
   "mimetype": "text/x-python",
   "name": "python",
   "nbconvert_exporter": "python",
   "pygments_lexer": "ipython3",
   "version": "3.7.9"
  }
 },
 "nbformat": 4,
 "nbformat_minor": 5
}
