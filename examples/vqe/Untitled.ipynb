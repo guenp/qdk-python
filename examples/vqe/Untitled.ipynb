{
 "cells": [
  {
   "cell_type": "code",
   "execution_count": 1,
   "id": "tropical-oklahoma",
   "metadata": {
    "scrolled": true
   },
   "outputs": [
    {
     "name": "stdout",
     "output_type": "stream",
     "text": [
      "Preparing Q# environment...\n",
      "."
     ]
    }
   ],
   "source": [
    "import qsharp"
   ]
  },
  {
   "cell_type": "code",
   "execution_count": 2,
   "id": "thermal-melbourne",
   "metadata": {},
   "outputs": [
    {
     "data": {
      "application/json": "{\"LastUpdated\":\"2021-03-01T19:18:04.91464-08:00\",\"IsCompleted\":false,\"Description\":\"Adding package Microsoft.Quantum.Chemistry\",\"Subtask\":null}",
      "text/plain": [
       "Adding package Microsoft.Quantum.Chemistry."
      ]
     },
     "metadata": {},
     "output_type": "display_data"
    }
   ],
   "source": [
    "qsharp.packages.add(\"Microsoft.Quantum.Chemistry\")"
   ]
  },
  {
   "cell_type": "code",
   "execution_count": 3,
   "id": "insured-spider",
   "metadata": {},
   "outputs": [
    {
     "data": {
      "application/json": "{\"LastUpdated\":\"2021-03-01T19:18:06.344697-08:00\",\"IsCompleted\":false,\"Description\":\"Reloading workspace\",\"Subtask\":null}",
      "text/plain": [
       "Reloading workspace."
      ]
     },
     "metadata": {},
     "output_type": "display_data"
    }
   ],
   "source": [
    "qsharp.reload()"
   ]
  },
  {
   "cell_type": "code",
   "execution_count": 4,
   "id": "hired-storage",
   "metadata": {},
   "outputs": [],
   "source": [
    "from Microsoft.Quantum.Samples.Chemistry.SimpleVQE import Test"
   ]
  },
  {
   "cell_type": "code",
   "execution_count": 6,
   "id": "cutting-canadian",
   "metadata": {},
   "outputs": [
    {
     "name": "stdout",
     "output_type": "stream",
     "text": [
      "Total ham terms: 4\n",
      "Total measurement operations: 1\n"
     ]
    },
    {
     "data": {
      "text/plain": [
       "1"
      ]
     },
     "execution_count": 6,
     "metadata": {},
     "output_type": "execute_result"
    }
   ],
   "source": [
    "Test.simulate(theta1=0.001, theta2=-0.001, theta3=0.001, termType=0, nHam=0, nOp=0)"
   ]
  },
  {
   "cell_type": "code",
   "execution_count": 7,
   "id": "efficient-prevention",
   "metadata": {},
   "outputs": [
    {
     "name": "stdout",
     "output_type": "stream",
     "text": [
      "Total ham terms: 6\n",
      "Total measurement operations: 1\n"
     ]
    },
    {
     "data": {
      "text/plain": [
       "0"
      ]
     },
     "execution_count": 7,
     "metadata": {},
     "output_type": "execute_result"
    }
   ],
   "source": [
    "Test.simulate(theta1=0.001, theta2=-0.001, theta3=0.001, termType=1, nHam=0, nOp=0)"
   ]
  },
  {
   "cell_type": "code",
   "execution_count": 8,
   "id": "backed-report",
   "metadata": {},
   "outputs": [
    {
     "name": "stdout",
     "output_type": "stream",
     "text": [
      "Total ham terms: 1\n",
      "Total measurement operations: 8\n"
     ]
    },
    {
     "data": {
      "text/plain": [
       "0"
      ]
     },
     "execution_count": 8,
     "metadata": {},
     "output_type": "execute_result"
    }
   ],
   "source": [
    "Test.simulate(theta1=0.001, theta2=-0.001, theta3=0.001, termType=3, nHam=0, nOp=0)"
   ]
  },
  {
   "cell_type": "code",
   "execution_count": 21,
   "id": "center-ballet",
   "metadata": {},
   "outputs": [
    {
     "name": "stdout",
     "output_type": "stream",
     "text": [
      "\u001b[36mCommand group 'quantum' is in preview and under development. Reference and support levels: https://aka.ms/CLI_refstatus\u001b[39m\n",
      "....\n",
      "{\n",
      "  \"Histogram\": [\n",
      "    \"0\",\n",
      "    2.4999997919999996e-07,\n",
      "    \"1\",\n",
      "    0.9999997500000226\n",
      "  ]\n",
      "}\n",
      "\u001b[0m"
     ]
    }
   ],
   "source": [
    "!az quantum execute --target-id ionq.simulator -- --theta1 0.001 --theta2 -0.001 --theta3 0.001 --term-type 0 --n-ham 0 --n-op 0"
   ]
  },
  {
   "cell_type": "code",
   "execution_count": 105,
   "id": "dimensional-therapist",
   "metadata": {},
   "outputs": [],
   "source": [
    "import subprocess\n",
    "import json\n",
    "\n",
    "def run_vqe(term_type, n_ham, n_op, shots, target=\"ionq.simulator\"):\n",
    "    cmd = f\"az quantum execute --target-id {target} -- --theta1 0.001 --theta2 -0.001 --theta3 0.001 --term-type {term_type} --n-ham {n_ham} --n-op {n_op} --shots {shots}\"\n",
    "    run_cmd = subprocess.run([cmd], check=True, shell=True, capture_output=True)\n",
    "    result = run_cmd.stdout\n",
    "    result = json.loads(run_cmd.stdout.lstrip(b\".\"))\n",
    "    return result, run_cmd"
   ]
  },
  {
   "cell_type": "code",
   "execution_count": 106,
   "id": "august-comment",
   "metadata": {},
   "outputs": [],
   "source": [
    "hamiltonian = (\n",
    "    [\n",
    "        ([0], [0.17120128499999998]),\n",
    "        ([1], [0.17120128499999998]),\n",
    "        ([2], [-0.222796536]),\n",
    "        ([3], [-0.222796536])\n",
    "    ],\n",
    "    [\n",
    "        ([0, 1], [0.1686232915]),\n",
    "        ([0, 2], [0.12054614575]),\n",
    "        ([0, 3], [0.16586802525]),\n",
    "        ([1, 2], [0.16586802525]),\n",
    "        ([1, 3], [0.12054614575]),\n",
    "        ([2, 3], [0.1743495025])\n",
    "    ],\n",
    "    [],\n",
    "    [\n",
    "        ([0, 1, 2, 3], [0.0, -0.0453218795, 0.0, 0.0453218795])\n",
    "    ]\n",
    ")"
   ]
  },
  {
   "cell_type": "code",
   "execution_count": 129,
   "id": "stylish-radio",
   "metadata": {},
   "outputs": [],
   "source": [
    "target = \"ionq.simulator\"\n",
    "results = []\n",
    "shots = 100\n",
    "for term_type in [0,1,3]:\n",
    "    if term_type == 0:\n",
    "        n_hams = range(4)\n",
    "    elif term_type == 1:\n",
    "        n_hams = range(6)\n",
    "    elif term_type == 3:\n",
    "        n_hams = [0]\n",
    "    for n_ham in n_hams:\n",
    "        n_ops = [0] if term_type != 3 else range(4)\n",
    "        for n_op in n_ops:\n",
    "            results.append(run_vqe(term_type, n_ham, 0, shots, target))"
   ]
  },
  {
   "cell_type": "code",
   "execution_count": 130,
   "id": "charming-punch",
   "metadata": {
    "scrolled": true
   },
   "outputs": [
    {
     "data": {
      "text/plain": [
       "-0.5356664127610464"
      ]
     },
     "execution_count": 130,
     "metadata": {},
     "output_type": "execute_result"
    }
   ],
   "source": [
    "estimate_energy(hamiltonian, results)"
   ]
  },
  {
   "cell_type": "code",
   "execution_count": 131,
   "id": "flying-reading",
   "metadata": {},
   "outputs": [],
   "source": [
    "target = \"ionq.simulator\"\n",
    "results = []\n",
    "shots = 100\n",
    "for term_type in [0,1,3]:\n",
    "    if term_type == 0:\n",
    "        n_hams = range(4)\n",
    "    elif term_type == 1:\n",
    "        n_hams = range(6)\n",
    "    elif term_type == 3:\n",
    "        n_hams = [0]\n",
    "    for n_ham in n_hams:\n",
    "        n_ops = [0] if term_type != 3 else range(4)\n",
    "        for n_op in n_ops:\n",
    "            results.append(run_vqe(term_type, n_ham, 0, shots, target))"
   ]
  },
  {
   "cell_type": "code",
   "execution_count": 134,
   "id": "whole-volunteer",
   "metadata": {},
   "outputs": [
    {
     "data": {
      "text/plain": [
       "-0.5356664127610464"
      ]
     },
     "execution_count": 134,
     "metadata": {},
     "output_type": "execute_result"
    }
   ],
   "source": [
    "estimate_energy(hamiltonian, results)"
   ]
  },
  {
   "cell_type": "code",
   "execution_count": 95,
   "id": "forward-assessment",
   "metadata": {},
   "outputs": [],
   "source": [
    "def estimate_energy(hamiltonian, results):\n",
    "    termExpectation = [a[\"Histogram\"][1] for a, _ in results]\n",
    "    coeff = [__c for t in hamiltonian for _t, _c in t for __c in _c]\n",
    "    return sum([(2. * _t - 1.) * _c for _t, _c in zip(termExpectation, coeff)])"
   ]
  },
  {
   "cell_type": "code",
   "execution_count": 96,
   "id": "buried-joshua",
   "metadata": {
    "scrolled": true
   },
   "outputs": [
    {
     "data": {
      "text/plain": [
       "-1.017848070739604"
      ]
     },
     "execution_count": 96,
     "metadata": {},
     "output_type": "execute_result"
    }
   ],
   "source": [
    "estimate_energy(hamiltonian, results)"
   ]
  },
  {
   "cell_type": "code",
   "execution_count": 60,
   "id": "attached-potato",
   "metadata": {},
   "outputs": [
    {
     "data": {
      "text/plain": [
       "[{'Histogram': ['0', 2.4999997919999996e-07, '1', 0.9999997500000226]},\n",
       " {'Histogram': ['0', 2.2499968124999997e-06, '1', 0.9999977500031892]},\n",
       " {'Histogram': ['0', 0.9999997500000226, '1', 2.4999997919999996e-07]},\n",
       " {'Histogram': ['0', 0.9999977500031892, '1', 2.2499968124999997e-06]},\n",
       " {'Histogram': ['0', 0.9999975000043351, '1', 2.4999956667e-06]},\n",
       " {'Histogram': ['0', 4.999998333999999e-07, '1', 0.9999995000001684]},\n",
       " {'Histogram': ['0', 2.4999956667e-06, '1', 0.9999975000043351]},\n",
       " {'Histogram': ['0', 2.4999956667e-06, '1', 0.9999975000043351]},\n",
       " {'Histogram': ['0', 4.4999835e-06, '1', 0.9999955000165016]},\n",
       " {'Histogram': ['0', 0.9999975000043351, '1', 2.4999956667e-06]},\n",
       " {'Histogram': ['0', 1.0000000000000018]},\n",
       " {'Histogram': ['0', 1.0000000000000018]},\n",
       " {'Histogram': ['0', 1.0000000000000018]},\n",
       " {'Histogram': ['0', 1.0000000000000018]}]"
      ]
     },
     "execution_count": 60,
     "metadata": {},
     "output_type": "execute_result"
    }
   ],
   "source": [
    "[a for a, _ in results]"
   ]
  },
  {
   "cell_type": "code",
   "execution_count": null,
   "id": "local-ethernet",
   "metadata": {},
   "outputs": [],
   "source": [
    "(2. * termExpectation - 1.) * coeff"
   ]
  },
  {
   "cell_type": "code",
   "execution_count": 27,
   "id": "bizarre-mauritius",
   "metadata": {},
   "outputs": [],
   "source": [
    "import qsharp.azure"
   ]
  },
  {
   "cell_type": "code",
   "execution_count": 28,
   "id": "solar-ferry",
   "metadata": {},
   "outputs": [
    {
     "data": {
      "application/json": "{\"UserCode\":\"RLMVK4XTS\",\"DeviceCode\":\"RAQABAAEAAAD--DLA3VO7QrddgJg7WevrqDGr-24Iyr9_lnAuUV2fcLiE8WjxS6cQdakHo6nvesyq2lATVBlVz5-peFwlYZzGJ_CgeSHE8J_tVGf5sv1m0kv9KD4QKige9xaXkSTeyu0RQ-1nAD5BEdZ-RaycS4evPXoKB5eGauxREfLUXAkNNFHqg5Ptd-AbdCptJpLO7DogAA\",\"VerificationUrl\":\"https://microsoft.com/devicelogin\",\"ExpiresOn\":\"2021-03-02T03:15:27.625108+00:00\",\"Interval\":5,\"Message\":\"To sign in, use a web browser to open the page https://microsoft.com/devicelogin and enter the code RLMVK4XTS to authenticate.\",\"ClientId\":\"84ba0947-6c53-4dd2-9ca9-b3694761521b\",\"Scopes\":[\"https://quantum.microsoft.com/Jobs.ReadWrite\",\"offline_access\",\"profile\",\"openid\"]}",
      "text/html": [
       "To sign in, use a web browser to open the page <a href=\"https://microsoft.com/devicelogin\"><code>https://microsoft.com/devicelogin</code></a> and enter the code <span id=\"87302b02-eebd-4146-8234-b650ae3c0631\" style=\"background-color: #e0e0e0;\">\r\n",
       "                            <i class=\"fa fa-clipboard\" aria-hidden=\"true\"></i>\r\n",
       "                            <strong style=\"padding-right: 0.2em\">RLMVK4XTS</strong></span> to authenticate.\n",
       "<script>\r\n",
       "                    window.iqsharp.addCopyListener(\"87302b02-eebd-4146-8234-b650ae3c0631\", \"RLMVK4XTS\");\r\n",
       "                </script>"
      ],
      "text/plain": [
       "To sign in, use a web browser to open the page https://microsoft.com/devicelogin and enter the code RLMVK4XTS to authenticate."
      ]
     },
     "metadata": {},
     "output_type": "display_data"
    },
    {
     "name": "stdout",
     "output_type": "stream",
     "text": [
      "Connected to Azure Quantum workspace azure-quantum-01 in location westus.\n"
     ]
    },
    {
     "data": {
      "text/plain": [
       "[{'id': 'ionq.qpu', 'current_availability': 'Available', 'average_queue_time': 102},\n",
       " {'id': 'ionq.simulator', 'current_availability': 'Available', 'average_queue_time': 0},\n",
       " {'id': 'honeywell.hqs-lt-1.0', 'current_availability': 'Degraded', 'average_queue_time': 0},\n",
       " {'id': 'honeywell.hqs-lt-1.0-apival', 'current_availability': 'Available', 'average_queue_time': 0}]"
      ]
     },
     "execution_count": 28,
     "metadata": {},
     "output_type": "execute_result"
    }
   ],
   "source": [
    "resource_id = \"/subscriptions/9006b025-1a81-4f7c-9111-582e121509ac/resourcegroups/azure-quantum-guenp/providers/Microsoft.Quantum/Workspaces/azure-quantum-01\"\n",
    "qsharp.azure.connect(resourceId=resource_id)"
   ]
  },
  {
   "cell_type": "code",
   "execution_count": 29,
   "id": "coastal-danish",
   "metadata": {},
   "outputs": [
    {
     "data": {
      "application/json": "{\"UserCode\":\"RXNAYXYWA\",\"DeviceCode\":\"RAQABAAEAAAD--DLA3VO7QrddgJg7WevrRXw6dAIAFi-83V2sWBuNtsWskquHYzZZXWF8bzBAi3vqKtWPHfWqjFDn0M1seBVBWH_PBrSpe6K99s67cNZfQj8an5c_jAWpoH8woa0HoDZcac_Pt6q5WlYx19M-8or_FCnEkjC4IjY0W0TbhhEuwgSUSmDLllc7Cql5DTR2bfwgAA\",\"VerificationUrl\":\"https://microsoft.com/devicelogin\",\"ExpiresOn\":\"2021-03-02T03:16:03.772324+00:00\",\"Interval\":5,\"Message\":\"To sign in, use a web browser to open the page https://microsoft.com/devicelogin and enter the code RXNAYXYWA to authenticate.\",\"ClientId\":\"84ba0947-6c53-4dd2-9ca9-b3694761521b\",\"Scopes\":[\"https://quantum.microsoft.com/Jobs.ReadWrite\",\"offline_access\",\"profile\",\"openid\"]}",
      "text/html": [
       "To sign in, use a web browser to open the page <a href=\"https://microsoft.com/devicelogin\"><code>https://microsoft.com/devicelogin</code></a> and enter the code <span id=\"48aeda73-991b-460c-a29b-adc48869bdbf\" style=\"background-color: #e0e0e0;\">\r\n",
       "                            <i class=\"fa fa-clipboard\" aria-hidden=\"true\"></i>\r\n",
       "                            <strong style=\"padding-right: 0.2em\">RXNAYXYWA</strong></span> to authenticate.\n",
       "<script>\r\n",
       "                    window.iqsharp.addCopyListener(\"48aeda73-991b-460c-a29b-adc48869bdbf\", \"RXNAYXYWA\");\r\n",
       "                </script>"
      ],
      "text/plain": [
       "To sign in, use a web browser to open the page https://microsoft.com/devicelogin and enter the code RXNAYXYWA to authenticate."
      ]
     },
     "metadata": {},
     "output_type": "display_data"
    },
    {
     "name": "stdout",
     "output_type": "stream",
     "text": [
      "Loading package Microsoft.Quantum.Providers.IonQ and dependencies...\n",
      "Active target is now ionq.simulator\n"
     ]
    },
    {
     "data": {
      "text/plain": [
       "{'id': 'ionq.simulator', 'current_availability': 'Available', 'average_queue_time': 0}"
      ]
     },
     "execution_count": 29,
     "metadata": {},
     "output_type": "execute_result"
    }
   ],
   "source": [
    "qsharp.azure.target(\"ionq.simulator\")"
   ]
  },
  {
   "cell_type": "code",
   "execution_count": 12,
   "id": "necessary-paste",
   "metadata": {},
   "outputs": [
    {
     "data": {
      "application/json": "{\"UserCode\":\"RR6EFCWTY\",\"DeviceCode\":\"RAQABAAEAAAD--DLA3VO7QrddgJg7WevrdWn6hopSmimdzlFRmOVADArF9sfhAyN4y0WwXPeKvvsDaUSBSVaVWaiFfFiCf5gJK6cPkWChBqrYzQeQShKiyrgZvisZrIWfp97U2nKEKrMotegMc2CDLjAgyDTSqTiIQe6TRbHFAelSRgULpK726IgCxt-9Bz-be7jqCF-c3dMgAA\",\"VerificationUrl\":\"https://microsoft.com/devicelogin\",\"ExpiresOn\":\"2021-03-02T02:05:42.566276+00:00\",\"Interval\":5,\"Message\":\"To sign in, use a web browser to open the page https://microsoft.com/devicelogin and enter the code RR6EFCWTY to authenticate.\",\"ClientId\":\"84ba0947-6c53-4dd2-9ca9-b3694761521b\",\"Scopes\":[\"https://quantum.microsoft.com/Jobs.ReadWrite\",\"offline_access\",\"profile\",\"openid\"]}",
      "text/html": [
       "To sign in, use a web browser to open the page <a href=\"https://microsoft.com/devicelogin\"><code>https://microsoft.com/devicelogin</code></a> and enter the code <span id=\"b467a24c-10b4-469d-aa69-0619371bccc6\" style=\"background-color: #e0e0e0;\">\r\n",
       "                            <i class=\"fa fa-clipboard\" aria-hidden=\"true\"></i>\r\n",
       "                            <strong style=\"padding-right: 0.2em\">RR6EFCWTY</strong></span> to authenticate.\n",
       "<script>\r\n",
       "                    window.iqsharp.addCopyListener(\"b467a24c-10b4-469d-aa69-0619371bccc6\", \"RR6EFCWTY\");\r\n",
       "                </script>"
      ],
      "text/plain": [
       "To sign in, use a web browser to open the page https://microsoft.com/devicelogin and enter the code RR6EFCWTY to authenticate."
      ]
     },
     "metadata": {},
     "output_type": "display_data"
    },
    {
     "name": "stdout",
     "output_type": "stream",
     "text": [
      "Submitting Microsoft.Quantum.Samples.Chemistry.SimpleVQE.Test to target ionq.simulator...\n",
      "Job successfully submitted for 100 shots.\n",
      "   Job name: Simulate Hydrogen using VQE\n",
      "   Job ID: 50f3389d-38fa-4303-aa3b-0784ed5ff619\n",
      "Waiting up to 30 seconds for Azure Quantum job to complete...\n",
      "[5:51:08 PM] Current job status: Succeeded\n"
     ]
    },
    {
     "data": {
      "application/json": "{\"UserCode\":\"RCXY9GVFK\",\"DeviceCode\":\"RAQABAAEAAAD--DLA3VO7QrddgJg7WevrWymioE3khAIPY3jrYtBtdMlvDl989sRJ8XsWw_ykHyIzNgloojzaH7bIAts7BVAv3c_MmO3j1xV7RTfU2m_bZGFpheGD0j5nW4kXd0bM9ujwJCxO4YyURuZeOtHTWvz2wW9BgEomTArcOreeTj7AYDDPaT_Zvkg4IEJYWemg1JUgAA\",\"VerificationUrl\":\"https://microsoft.com/devicelogin\",\"ExpiresOn\":\"2021-03-02T02:06:09.666027+00:00\",\"Interval\":5,\"Message\":\"To sign in, use a web browser to open the page https://microsoft.com/devicelogin and enter the code RCXY9GVFK to authenticate.\",\"ClientId\":\"84ba0947-6c53-4dd2-9ca9-b3694761521b\",\"Scopes\":[\"https://quantum.microsoft.com/Jobs.ReadWrite\",\"offline_access\",\"profile\",\"openid\"]}",
      "text/html": [
       "To sign in, use a web browser to open the page <a href=\"https://microsoft.com/devicelogin\"><code>https://microsoft.com/devicelogin</code></a> and enter the code <span id=\"07bb9cf2-dcb3-4730-8e83-1418ddda3d3e\" style=\"background-color: #e0e0e0;\">\r\n",
       "                            <i class=\"fa fa-clipboard\" aria-hidden=\"true\"></i>\r\n",
       "                            <strong style=\"padding-right: 0.2em\">RCXY9GVFK</strong></span> to authenticate.\n",
       "<script>\r\n",
       "                    window.iqsharp.addCopyListener(\"07bb9cf2-dcb3-4730-8e83-1418ddda3d3e\", \"RCXY9GVFK\");\r\n",
       "                </script>"
      ],
      "text/plain": [
       "To sign in, use a web browser to open the page https://microsoft.com/devicelogin and enter the code RCXY9GVFK to authenticate."
      ]
     },
     "metadata": {},
     "output_type": "display_data"
    }
   ],
   "source": [
    "result1 = qsharp.azure.execute(\n",
    "    Test,\n",
    "    theta1=0.001,\n",
    "    theta2=-0.001,\n",
    "    theta3=0.001,\n",
    "    termType=0,\n",
    "    shots=100,\n",
    "    nHam=0,\n",
    "    nOp=0,\n",
    "    jobName=\"Simulate Hydrogen using VQE\"\n",
    ")"
   ]
  },
  {
   "cell_type": "code",
   "execution_count": 19,
   "id": "outside-strap",
   "metadata": {},
   "outputs": [
    {
     "name": "stdout",
     "output_type": "stream",
     "text": [
      "Total ham terms: 4\n",
      "Total measurement operations: 1\n",
      "0\n"
     ]
    },
    {
     "data": {
      "text/plain": [
       "1"
      ]
     },
     "execution_count": 19,
     "metadata": {},
     "output_type": "execute_result"
    }
   ],
   "source": [
    "Test.simulate(theta1=0.001, theta2=-0.001, theta3=0.001, termType=0, nHam=0, nOp=0)"
   ]
  },
  {
   "cell_type": "code",
   "execution_count": 30,
   "id": "leading-usage",
   "metadata": {},
   "outputs": [
    {
     "data": {
      "text/plain": [
       "0"
      ]
     },
     "execution_count": 30,
     "metadata": {},
     "output_type": "execute_result"
    }
   ],
   "source": [
    "Test.simulate(theta1=0.001, theta2=-0.001, theta3=0.001, termType=1, nHam=0, nOp=0)"
   ]
  },
  {
   "cell_type": "code",
   "execution_count": 32,
   "id": "solar-boston",
   "metadata": {},
   "outputs": [
    {
     "data": {
      "text/plain": [
       "1"
      ]
     },
     "execution_count": 32,
     "metadata": {},
     "output_type": "execute_result"
    }
   ],
   "source": [
    "Test.simulate(theta1=0.001, theta2=-0.001, theta3=0.001, termType=3, nHam=0, nOp=0)"
   ]
  },
  {
   "cell_type": "code",
   "execution_count": 22,
   "id": "activated-scene",
   "metadata": {},
   "outputs": [
    {
     "data": {
      "application/json": "{\"UserCode\":\"R667Y5V5A\",\"DeviceCode\":\"RAQABAAEAAAD--DLA3VO7QrddgJg7WevrqCY6VWvC5ZdBBU7XP2hGLBgi4E-oVEDEsE7bc9h8pBt2PcGZzOHNLEp6aY25wvGVkWpKxjvpazx3Q30tWUT4wm9_dwgLbKumHPiR4tl_4N-Z8Pp38w9kL7OWf-B2VJPJmS1l7YwGAHX1FsuFzt52HU98QlmnT5HzhE1Lnt1COvIgAA\",\"VerificationUrl\":\"https://microsoft.com/devicelogin\",\"ExpiresOn\":\"2021-03-02T01:29:26.362038+00:00\",\"Interval\":5,\"Message\":\"To sign in, use a web browser to open the page https://microsoft.com/devicelogin and enter the code R667Y5V5A to authenticate.\",\"ClientId\":\"84ba0947-6c53-4dd2-9ca9-b3694761521b\",\"Scopes\":[\"https://quantum.microsoft.com/Jobs.ReadWrite\",\"offline_access\",\"profile\",\"openid\"]}",
      "text/html": [
       "To sign in, use a web browser to open the page <a href=\"https://microsoft.com/devicelogin\"><code>https://microsoft.com/devicelogin</code></a> and enter the code <span id=\"ce77ea0c-ba0f-4c93-91c6-1d879a7ace1c\" style=\"background-color: #e0e0e0;\">\r\n",
       "                            <i class=\"fa fa-clipboard\" aria-hidden=\"true\"></i>\r\n",
       "                            <strong style=\"padding-right: 0.2em\">R667Y5V5A</strong></span> to authenticate.\n",
       "<script>\r\n",
       "                    window.iqsharp.addCopyListener(\"ce77ea0c-ba0f-4c93-91c6-1d879a7ace1c\", \"R667Y5V5A\");\r\n",
       "                </script>"
      ],
      "text/plain": [
       "To sign in, use a web browser to open the page https://microsoft.com/devicelogin and enter the code R667Y5V5A to authenticate."
      ]
     },
     "metadata": {},
     "output_type": "display_data"
    },
    {
     "name": "stdout",
     "output_type": "stream",
     "text": [
      "Loading package Microsoft.Quantum.Providers.IonQ and dependencies...\n",
      "Active target is now ionq.qpu\n"
     ]
    },
    {
     "data": {
      "text/plain": [
       "{'id': 'ionq.qpu', 'current_availability': 'Available', 'average_queue_time': 33}"
      ]
     },
     "execution_count": 22,
     "metadata": {},
     "output_type": "execute_result"
    }
   ],
   "source": [
    "qsharp.azure.target(\"ionq.qpu\")"
   ]
  },
  {
   "cell_type": "code",
   "execution_count": 23,
   "id": "elder-superintendent",
   "metadata": {},
   "outputs": [
    {
     "data": {
      "application/json": "{\"UserCode\":\"R7RSJMRRA\",\"DeviceCode\":\"RAQABAAEAAAD--DLA3VO7QrddgJg7WevrDKi-ooHafkfP4cTo3Rmm2TwdetjhAbEKByeDza1Wvc6oLqTvwwkmHh_S2PFjuH9ue74wASsA_r4Rt0kjv_I8zRnZuBYCEnCC7q1M9k7vachrOudfEUMRJD_ABA4tsGB7NuNFA3PgT57Q7Fzt3C2w2PnGgneqDC9R0BqCXGZRFtggAA\",\"VerificationUrl\":\"https://microsoft.com/devicelogin\",\"ExpiresOn\":\"2021-03-02T01:29:53.374117+00:00\",\"Interval\":5,\"Message\":\"To sign in, use a web browser to open the page https://microsoft.com/devicelogin and enter the code R7RSJMRRA to authenticate.\",\"ClientId\":\"84ba0947-6c53-4dd2-9ca9-b3694761521b\",\"Scopes\":[\"https://quantum.microsoft.com/Jobs.ReadWrite\",\"offline_access\",\"profile\",\"openid\"]}",
      "text/html": [
       "To sign in, use a web browser to open the page <a href=\"https://microsoft.com/devicelogin\"><code>https://microsoft.com/devicelogin</code></a> and enter the code <span id=\"ee0dc789-f49d-439e-a627-3c1bf8c8c2a6\" style=\"background-color: #e0e0e0;\">\r\n",
       "                            <i class=\"fa fa-clipboard\" aria-hidden=\"true\"></i>\r\n",
       "                            <strong style=\"padding-right: 0.2em\">R7RSJMRRA</strong></span> to authenticate.\n",
       "<script>\r\n",
       "                    window.iqsharp.addCopyListener(\"ee0dc789-f49d-439e-a627-3c1bf8c8c2a6\", \"R7RSJMRRA\");\r\n",
       "                </script>"
      ],
      "text/plain": [
       "To sign in, use a web browser to open the page https://microsoft.com/devicelogin and enter the code R7RSJMRRA to authenticate."
      ]
     },
     "metadata": {},
     "output_type": "display_data"
    },
    {
     "name": "stdout",
     "output_type": "stream",
     "text": [
      "Submitting Test to target ionq.qpu...\n",
      "Job successfully submitted for 100 shots.\n",
      "   Job name: Simulate Hydrogen using VQE\n",
      "   Job ID: f4464075-3854-4b47-adaa-e95f06a8a474\n",
      "Waiting up to 30 seconds for Azure Quantum job to complete...\n",
      "[5:15:31 PM] Current job status: Waiting\n",
      "[5:15:37 PM] Current job status: Waiting\n",
      "[5:15:42 PM] Current job status: Waiting\n",
      "[5:15:47 PM] Current job status: Waiting\n",
      "[5:15:52 PM] Current job status: Waiting\n"
     ]
    },
    {
     "data": {
      "application/json": "{\"UserCode\":\"FG55TVW47\",\"DeviceCode\":\"FAQABAAEAAAD--DLA3VO7QrddgJg7Wevr6Kl1I_wtLqA_t9AHe2S2dxhpI7jx8pf3bLJkMd-t94-pRXsEwR3Q3gumV6gHjCES323u05fpsWfkfKTqQXfcUr-1U85mTCJSMWyHmda2kcoEgMexNW3hYiR_8qi38x00frQJq5X-DeLw7PVPZI5bMDKvxWHmtrsw0Ayz_-8Jm2ogAA\",\"VerificationUrl\":\"https://microsoft.com/devicelogin\",\"ExpiresOn\":\"2021-03-02T01:30:58.200133+00:00\",\"Interval\":5,\"Message\":\"To sign in, use a web browser to open the page https://microsoft.com/devicelogin and enter the code FG55TVW47 to authenticate.\",\"ClientId\":\"84ba0947-6c53-4dd2-9ca9-b3694761521b\",\"Scopes\":[\"https://quantum.microsoft.com/Jobs.ReadWrite\",\"offline_access\",\"profile\",\"openid\"]}",
      "text/html": [
       "To sign in, use a web browser to open the page <a href=\"https://microsoft.com/devicelogin\"><code>https://microsoft.com/devicelogin</code></a> and enter the code <span id=\"5f3e2172-0df7-484a-a8ff-8786c666cf0c\" style=\"background-color: #e0e0e0;\">\r\n",
       "                            <i class=\"fa fa-clipboard\" aria-hidden=\"true\"></i>\r\n",
       "                            <strong style=\"padding-right: 0.2em\">FG55TVW47</strong></span> to authenticate.\n",
       "<script>\r\n",
       "                    window.iqsharp.addCopyListener(\"5f3e2172-0df7-484a-a8ff-8786c666cf0c\", \"FG55TVW47\");\r\n",
       "                </script>"
      ],
      "text/plain": [
       "To sign in, use a web browser to open the page https://microsoft.com/devicelogin and enter the code FG55TVW47 to authenticate."
      ]
     },
     "metadata": {},
     "output_type": "display_data"
    }
   ],
   "source": [
    "result1 = qsharp.azure.execute(\n",
    "    Test,\n",
    "    theta1=0.001,\n",
    "    theta2=-0.001,\n",
    "    theta3=0.001,\n",
    "    termType=0,\n",
    "    shots=100,\n",
    "    nHam=0,\n",
    "    nOp=0,\n",
    "    jobName=\"Simulate Hydrogen using VQE\"\n",
    ")"
   ]
  },
  {
   "cell_type": "code",
   "execution_count": 11,
   "id": "raised-anatomy",
   "metadata": {},
   "outputs": [
    {
     "name": "stdout",
     "output_type": "stream",
     "text": [
      "Azure Quantum service execution result: {'0': 2.4999997919999996e-07, '1': 0.9999997500000226}\n"
     ]
    }
   ],
   "source": [
    "print(f'Azure Quantum service execution result: {result1}')"
   ]
  },
  {
   "cell_type": "code",
   "execution_count": 12,
   "id": "historical-construction",
   "metadata": {},
   "outputs": [
    {
     "data": {
      "application/json": "{\"UserCode\":\"RTQH6AYM9\",\"DeviceCode\":\"RAQABAAEAAAD--DLA3VO7QrddgJg7WevrEhKGyc7CwHkTe4ie57csPz7wt61b4IR8SyXm3CBjV1guvRyFcSpKVSdBKfeA6kcRJHl3AnuD6wcY27x5SLVbU0tRkexERr84xTvOoeoW10Iwgbfa8WNzs10Fz4gw-VWk7erpggLdzd6aywMzVuYf2s-kpzzDuCLiiTAsKjxltp0gAA\",\"VerificationUrl\":\"https://microsoft.com/devicelogin\",\"ExpiresOn\":\"2021-03-02T01:12:18.702468+00:00\",\"Interval\":5,\"Message\":\"To sign in, use a web browser to open the page https://microsoft.com/devicelogin and enter the code RTQH6AYM9 to authenticate.\",\"ClientId\":\"84ba0947-6c53-4dd2-9ca9-b3694761521b\",\"Scopes\":[\"https://quantum.microsoft.com/Jobs.ReadWrite\",\"offline_access\",\"profile\",\"openid\"]}",
      "text/html": [
       "To sign in, use a web browser to open the page <a href=\"https://microsoft.com/devicelogin\"><code>https://microsoft.com/devicelogin</code></a> and enter the code <span id=\"22becac7-72df-4a6a-bc7a-385c04f7aed8\" style=\"background-color: #e0e0e0;\">\r\n",
       "                            <i class=\"fa fa-clipboard\" aria-hidden=\"true\"></i>\r\n",
       "                            <strong style=\"padding-right: 0.2em\">RTQH6AYM9</strong></span> to authenticate.\n",
       "<script>\r\n",
       "                    window.iqsharp.addCopyListener(\"22becac7-72df-4a6a-bc7a-385c04f7aed8\", \"RTQH6AYM9\");\r\n",
       "                </script>"
      ],
      "text/plain": [
       "To sign in, use a web browser to open the page https://microsoft.com/devicelogin and enter the code RTQH6AYM9 to authenticate."
      ]
     },
     "metadata": {},
     "output_type": "display_data"
    },
    {
     "name": "stdout",
     "output_type": "stream",
     "text": [
      "Loading package Microsoft.Quantum.Providers.IonQ and dependencies...\n",
      "Active target is now ionq.qpu\n"
     ]
    },
    {
     "data": {
      "text/plain": [
       "{'id': 'ionq.qpu', 'current_availability': 'Available', 'average_queue_time': 50}"
      ]
     },
     "execution_count": 12,
     "metadata": {},
     "output_type": "execute_result"
    }
   ],
   "source": [
    "qsharp.azure.target(\"ionq.qpu\")"
   ]
  },
  {
   "cell_type": "code",
   "execution_count": 13,
   "id": "shared-correction",
   "metadata": {
    "scrolled": true
   },
   "outputs": [
    {
     "data": {
      "application/json": "{\"UserCode\":\"RGBHQD3KZ\",\"DeviceCode\":\"RAQABAAEAAAD--DLA3VO7QrddgJg7WevrYREdDL5h2H_ePTSLZ2uBL4EZ94RMjHjoDwNwKg2xNc44_ry5KVlPes6qo-dtUMJbBbL8DXAFp4GrG7p5pHlSqaO_tA9ovUnnR_FmX-ZjxD0fi6sdNQctd-cKnAKUjWCg7BqvgaV-3u870hFG-KP79QMwFcCJeJcr08eA0sv5tZMgAA\",\"VerificationUrl\":\"https://microsoft.com/devicelogin\",\"ExpiresOn\":\"2021-03-02T01:12:36.20642+00:00\",\"Interval\":5,\"Message\":\"To sign in, use a web browser to open the page https://microsoft.com/devicelogin and enter the code RGBHQD3KZ to authenticate.\",\"ClientId\":\"84ba0947-6c53-4dd2-9ca9-b3694761521b\",\"Scopes\":[\"https://quantum.microsoft.com/Jobs.ReadWrite\",\"offline_access\",\"profile\",\"openid\"]}",
      "text/html": [
       "To sign in, use a web browser to open the page <a href=\"https://microsoft.com/devicelogin\"><code>https://microsoft.com/devicelogin</code></a> and enter the code <span id=\"688bd129-13d5-441a-80ce-adc730fa598c\" style=\"background-color: #e0e0e0;\">\r\n",
       "                            <i class=\"fa fa-clipboard\" aria-hidden=\"true\"></i>\r\n",
       "                            <strong style=\"padding-right: 0.2em\">RGBHQD3KZ</strong></span> to authenticate.\n",
       "<script>\r\n",
       "                    window.iqsharp.addCopyListener(\"688bd129-13d5-441a-80ce-adc730fa598c\", \"RGBHQD3KZ\");\r\n",
       "                </script>"
      ],
      "text/plain": [
       "To sign in, use a web browser to open the page https://microsoft.com/devicelogin and enter the code RGBHQD3KZ to authenticate."
      ]
     },
     "metadata": {},
     "output_type": "display_data"
    },
    {
     "name": "stdout",
     "output_type": "stream",
     "text": [
      "Submitting Test to target ionq.qpu...\n",
      "Job successfully submitted for 100 shots.\n",
      "   Job name: Simulate Hydrogen using VQE\n",
      "   Job ID: cb123e27-7467-4844-a5bb-3fbbbe73a4e7\n",
      "Waiting up to 30 seconds for Azure Quantum job to complete...\n",
      "[4:58:14 PM] Current job status: Waiting\n",
      "[4:58:19 PM] Current job status: Waiting\n",
      "[4:58:24 PM] Current job status: Succeeded\n"
     ]
    },
    {
     "data": {
      "application/json": "{\"UserCode\":\"RR5PHG6QF\",\"DeviceCode\":\"RAQABAAEAAAD--DLA3VO7QrddgJg7WevrnNSQo-TSINFlSfSlCti5ara1INrjikTi0rAVMJr2cJBIVhf2b92npCxZmBcX8_faBEgcLHU0fIeI0Tg4Q_omFlTdfciNEaglNfJoj60lhNT66J4tFpJSb-OWdUtJ63p-K8X1sLAUprtKtKy6m2W0JOkWE-R0N6AZznjT6PohVYYgAA\",\"VerificationUrl\":\"https://microsoft.com/devicelogin\",\"ExpiresOn\":\"2021-03-02T01:13:25.245292+00:00\",\"Interval\":5,\"Message\":\"To sign in, use a web browser to open the page https://microsoft.com/devicelogin and enter the code RR5PHG6QF to authenticate.\",\"ClientId\":\"84ba0947-6c53-4dd2-9ca9-b3694761521b\",\"Scopes\":[\"https://quantum.microsoft.com/Jobs.ReadWrite\",\"offline_access\",\"profile\",\"openid\"]}",
      "text/html": [
       "To sign in, use a web browser to open the page <a href=\"https://microsoft.com/devicelogin\"><code>https://microsoft.com/devicelogin</code></a> and enter the code <span id=\"566b2252-ca06-4012-9f74-21026b3726d5\" style=\"background-color: #e0e0e0;\">\r\n",
       "                            <i class=\"fa fa-clipboard\" aria-hidden=\"true\"></i>\r\n",
       "                            <strong style=\"padding-right: 0.2em\">RR5PHG6QF</strong></span> to authenticate.\n",
       "<script>\r\n",
       "                    window.iqsharp.addCopyListener(\"566b2252-ca06-4012-9f74-21026b3726d5\", \"RR5PHG6QF\");\r\n",
       "                </script>"
      ],
      "text/plain": [
       "To sign in, use a web browser to open the page https://microsoft.com/devicelogin and enter the code RR5PHG6QF to authenticate."
      ]
     },
     "metadata": {},
     "output_type": "display_data"
    },
    {
     "name": "stdout",
     "output_type": "stream",
     "text": [
      "Azure Quantum service execution result: {'0': 0.01, '1': 0.99}\n"
     ]
    }
   ],
   "source": [
    "result2 = qsharp.azure.execute(\n",
    "    Test,\n",
    "    theta1=0.001,\n",
    "    theta2=-0.001,\n",
    "    theta3=0.001,\n",
    "    termType=0,\n",
    "    shots=100,\n",
    "    nHam=0,\n",
    "    nOp=0,\n",
    "    jobName=\"Simulate Hydrogen using VQE\"\n",
    ")\n",
    "print(f'Azure Quantum service execution result: {result2}')"
   ]
  },
  {
   "cell_type": "code",
   "execution_count": 13,
   "id": "intimate-fluid",
   "metadata": {},
   "outputs": [],
   "source": [
    "import subprocess"
   ]
  },
  {
   "cell_type": "code",
   "execution_count": null,
   "id": "checked-lesbian",
   "metadata": {},
   "outputs": [],
   "source": [
    "subprocess.run"
   ]
  },
  {
   "cell_type": "code",
   "execution_count": null,
   "id": "detected-hybrid",
   "metadata": {},
   "outputs": [],
   "source": []
  }
 ],
 "metadata": {
  "kernelspec": {
   "display_name": "Python 3",
   "language": "python",
   "name": "python3"
  },
  "language_info": {
   "codemirror_mode": {
    "name": "ipython",
    "version": 3
   },
   "file_extension": ".py",
   "mimetype": "text/x-python",
   "name": "python",
   "nbconvert_exporter": "python",
   "pygments_lexer": "ipython3",
   "version": "3.7.9"
  }
 },
 "nbformat": 4,
 "nbformat_minor": 5
}
