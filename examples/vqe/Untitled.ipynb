{
 "cells": [
  {
   "cell_type": "code",
   "execution_count": 95,
   "id": "attractive-partner",
   "metadata": {
    "scrolled": true
   },
   "outputs": [
    {
     "name": "stdout",
     "output_type": "stream",
     "text": [
      "\u001b[?1h\u001b=\u001b[?1h\u001b=\u001b[?1h\u001b=\u001b[?1h\u001b=\u001b[?1h\u001b=\u001b[m\u001b[33m/Users/guen/repos/microsoft/qdk-python/examples/vqe/StatePreparation.qs(14,13): warning QS3306: Deprecated syntax. Parentheses here are no longer required and will not be supported in the future. [/Users/guen/repos/microsoft/qdk-python/examples/vqe/VariationalQuantumEigensolver.csproj]\n",
      "\u001b[m\u001b[m\u001b[33m/Users/guen/repos/microsoft/qdk-python/examples/vqe/StatePreparation.qs(18,17): warning QS3306: Deprecated syntax. Parentheses here are no longer required and will not be supported in the future. [/Users/guen/repos/microsoft/qdk-python/examples/vqe/VariationalQuantumEigensolver.csproj]\n",
      "\u001b[m\u001b[m\u001b[33m/Users/guen/repos/microsoft/qdk-python/examples/vqe/StatePreparation.qs(24,21): warning QS3306: Deprecated syntax. Parentheses here are no longer required and will not be supported in the future. [/Users/guen/repos/microsoft/qdk-python/examples/vqe/VariationalQuantumEigensolver.csproj]\n",
      "\u001b[m\u001b[m\u001b[33m/Users/guen/repos/microsoft/qdk-python/examples/vqe/Utils.qs(32,17): warning QS3306: Deprecated syntax. Parentheses here are no longer required and will not be supported in the future. [/Users/guen/repos/microsoft/qdk-python/examples/vqe/VariationalQuantumEigensolver.csproj]\n",
      "\u001b[m\u001b[m\u001b[33m/Users/guen/repos/microsoft/qdk-python/examples/vqe/Utils.qs(69,17): warning QS3306: Deprecated syntax. Parentheses here are no longer required and will not be supported in the future. [/Users/guen/repos/microsoft/qdk-python/examples/vqe/VariationalQuantumEigensolver.csproj]\n",
      "\u001b[m\u001b[m\u001b[33m/Users/guen/repos/microsoft/qdk-python/examples/vqe/Utils.qs(82,17): warning QS3306: Deprecated syntax. Parentheses here are no longer required and will not be supported in the future. [/Users/guen/repos/microsoft/qdk-python/examples/vqe/VariationalQuantumEigensolver.csproj]\n",
      "\u001b[m\u001b[m\u001b[33m/Users/guen/repos/microsoft/qdk-python/examples/vqe/Utils.qs(86,21): warning QS3306: Deprecated syntax. Parentheses here are no longer required and will not be supported in the future. [/Users/guen/repos/microsoft/qdk-python/examples/vqe/VariationalQuantumEigensolver.csproj]\n",
      "\u001b[m\u001b[m\u001b[33m/Users/guen/repos/microsoft/qdk-python/examples/vqe/Utils.qs(91,21): warning QS3306: Deprecated syntax. Parentheses here are no longer required and will not be supported in the future. [/Users/guen/repos/microsoft/qdk-python/examples/vqe/VariationalQuantumEigensolver.csproj]\n",
      "\u001b[m\u001b[m\u001b[33m/Users/guen/repos/microsoft/qdk-python/examples/vqe/Utils.qs(94,21): warning QS3306: Deprecated syntax. Parentheses here are no longer required and will not be supported in the future. [/Users/guen/repos/microsoft/qdk-python/examples/vqe/VariationalQuantumEigensolver.csproj]\n",
      "\u001b[m\u001b[m\u001b[33m/Users/guen/repos/microsoft/qdk-python/examples/vqe/Utils.qs(105,17): warning QS3306: Deprecated syntax. Parentheses here are no longer required and will not be supported in the future. [/Users/guen/repos/microsoft/qdk-python/examples/vqe/VariationalQuantumEigensolver.csproj]\n",
      "\u001b[m\u001b[m\u001b[33m/Users/guen/repos/microsoft/qdk-python/examples/vqe/Utils.qs(113,21): warning QS3306: Deprecated syntax. Parentheses here are no longer required and will not be supported in the future. [/Users/guen/repos/microsoft/qdk-python/examples/vqe/VariationalQuantumEigensolver.csproj]\n",
      "\u001b[m\u001b[m\u001b[33m/Users/guen/repos/microsoft/qdk-python/examples/vqe/StatePreparation1.qs(97,13): warning QS3306: Deprecated syntax. Parentheses here are no longer required and will not be supported in the future. [/Users/guen/repos/microsoft/qdk-python/examples/vqe/VariationalQuantumEigensolver.csproj]\n",
      "\u001b[m\u001b[m\u001b[33m/Users/guen/repos/microsoft/qdk-python/examples/vqe/StatePreparation1.qs(109,19): warning QS3306: Deprecated syntax. Parentheses here are no longer required and will not be supported in the future. [/Users/guen/repos/microsoft/qdk-python/examples/vqe/VariationalQuantumEigensolver.csproj]\n",
      "\u001b[m\u001b[m\u001b[33m/Users/guen/repos/microsoft/qdk-python/examples/vqe/StatePreparation1.qs(109,13): warning QS3307: The \"using\" keyword has been replaced with \"use\", and qubits may now be allocated without a block. Consider \"use q = Qubit();\" or \"use q = Qubit() { ... }\". [/Users/guen/repos/microsoft/qdk-python/examples/vqe/VariationalQuantumEigensolver.csproj]\n",
      "\u001b[m\u001b[m\u001b[33m/Users/guen/repos/microsoft/qdk-python/examples/vqe/StatePreparation1.qs(110,23): warning QS3306: Deprecated syntax. Parentheses here are no longer required and will not be supported in the future. [/Users/guen/repos/microsoft/qdk-python/examples/vqe/VariationalQuantumEigensolver.csproj]\n",
      "\u001b[m\u001b[m\u001b[33m/Users/guen/repos/microsoft/qdk-python/examples/vqe/StatePreparation1.qs(110,17): warning QS3307: The \"using\" keyword has been replaced with \"use\", and qubits may now be allocated without a block. Consider \"use q = Qubit();\" or \"use q = Qubit() { ... }\". [/Users/guen/repos/microsoft/qdk-python/examples/vqe/VariationalQuantumEigensolver.csproj]\n",
      "\u001b[m\u001b[m\u001b[33m/Users/guen/repos/microsoft/qdk-python/examples/vqe/JordanWigner.qs(57,13): warning QS3306: Deprecated syntax. Parentheses here are no longer required and will not be supported in the future. [/Users/guen/repos/microsoft/qdk-python/examples/vqe/VariationalQuantumEigensolver.csproj]\n",
      "\u001b[m\u001b[m\u001b[33m/Users/guen/repos/microsoft/qdk-python/examples/vqe/JordanWigner.qs(61,17): warning QS3306: Deprecated syntax. Parentheses here are no longer required and will not be supported in the future. [/Users/guen/repos/microsoft/qdk-python/examples/vqe/VariationalQuantumEigensolver.csproj]\n",
      "\u001b[m\u001b[m\u001b[33m/Users/guen/repos/microsoft/qdk-python/examples/vqe/JordanWigner.qs(66,13): warning QS3306: Deprecated syntax. Parentheses here are no longer required and will not be supported in the future. [/Users/guen/repos/microsoft/qdk-python/examples/vqe/VariationalQuantumEigensolver.csproj]\n",
      "\u001b[m\u001b[m\u001b[33m/Users/guen/repos/microsoft/qdk-python/examples/vqe/JordanWigner.qs(80,13): warning QS3306: Deprecated syntax. Parentheses here are no longer required and will not be supported in the future. [/Users/guen/repos/microsoft/qdk-python/examples/vqe/VariationalQuantumEigensolver.csproj]\n",
      "\u001b[m\u001b[m\u001b[33m/Users/guen/repos/microsoft/qdk-python/examples/vqe/JordanWigner.qs(100,13): warning QS3306: Deprecated syntax. Parentheses here are no longer required and will not be supported in the future. [/Users/guen/repos/microsoft/qdk-python/examples/vqe/VariationalQuantumEigensolver.csproj]\n",
      "\u001b[m\u001b[m\u001b[33m/Users/guen/repos/microsoft/qdk-python/examples/vqe/JordanWigner.qs(173,13): warning QS3306: Deprecated syntax. Parentheses here are no longer required and will not be supported in the future. [/Users/guen/repos/microsoft/qdk-python/examples/vqe/VariationalQuantumEigensolver.csproj]\n",
      "\u001b[m\u001b[m\u001b[33m/Users/guen/repos/microsoft/qdk-python/examples/vqe/VariationalQuantumEigensolver.qs(20,13): warning QS3306: Deprecated syntax. Parentheses here are no longer required and will not be supported in the future. [/Users/guen/repos/microsoft/qdk-python/examples/vqe/VariationalQuantumEigensolver.csproj]\n",
      "\u001b[m\u001b[m\u001b[33m/Users/guen/repos/microsoft/qdk-python/examples/vqe/VariationalQuantumEigensolver.qs(22,17): warning QS3306: Deprecated syntax. Parentheses here are no longer required and will not be supported in the future. [/Users/guen/repos/microsoft/qdk-python/examples/vqe/VariationalQuantumEigensolver.csproj]\n",
      "\u001b[m\u001b[m\u001b[33m/Users/guen/repos/microsoft/qdk-python/examples/vqe/EstimateEnergy.qs(35,13): warning QS3306: Deprecated syntax. Parentheses here are no longer required and will not be supported in the future. [/Users/guen/repos/microsoft/qdk-python/examples/vqe/VariationalQuantumEigensolver.csproj]\n",
      "\u001b[m\u001b[m\u001b[33m/Users/guen/repos/microsoft/qdk-python/examples/vqe/EstimateEnergy.qs(51,15): warning QS3306: Deprecated syntax. Parentheses here are no longer required and will not be supported in the future. [/Users/guen/repos/microsoft/qdk-python/examples/vqe/VariationalQuantumEigensolver.csproj]\n",
      "\u001b[m\u001b[m\u001b[33m/Users/guen/repos/microsoft/qdk-python/examples/vqe/EstimateEnergy.qs(51,9): warning QS3307: The \"using\" keyword has been replaced with \"use\", and qubits may now be allocated without a block. Consider \"use q = Qubit();\" or \"use q = Qubit() { ... }\". [/Users/guen/repos/microsoft/qdk-python/examples/vqe/VariationalQuantumEigensolver.csproj]\n",
      "\u001b[m\u001b[m\u001b[33m/Users/guen/repos/microsoft/qdk-python/examples/vqe/EstimateEnergy.qs(54,17): warning QS3306: Deprecated syntax. Parentheses here are no longer required and will not be supported in the future. [/Users/guen/repos/microsoft/qdk-python/examples/vqe/VariationalQuantumEigensolver.csproj]\n",
      "\u001b[m\u001b[m\u001b[33m/Users/guen/repos/microsoft/qdk-python/examples/vqe/EstimateEnergy.qs(117,13): warning QS3306: Deprecated syntax. Parentheses here are no longer required and will not be supported in the future. [/Users/guen/repos/microsoft/qdk-python/examples/vqe/VariationalQuantumEigensolver.csproj]\n",
      "\u001b[m\u001b[m\u001b[33m/Users/guen/repos/microsoft/qdk-python/examples/vqe/EstimateEnergy.qs(118,19): warning QS3306: Deprecated syntax. Parentheses here are no longer required and will not be supported in the future. [/Users/guen/repos/microsoft/qdk-python/examples/vqe/VariationalQuantumEigensolver.csproj]\n",
      "\u001b[m\u001b[m\u001b[33m/Users/guen/repos/microsoft/qdk-python/examples/vqe/EstimateEnergy.qs(118,13): warning QS3307: The \"using\" keyword has been replaced with \"use\", and qubits may now be allocated without a block. Consider \"use q = Qubit();\" or \"use q = Qubit() { ... }\". [/Users/guen/repos/microsoft/qdk-python/examples/vqe/VariationalQuantumEigensolver.csproj]\n",
      "\u001b[m\u001b[m\u001b[33m/Users/guen/repos/microsoft/qdk-python/examples/vqe/EstimateEnergy.qs(125,21): warning QS3306: Deprecated syntax. Parentheses here are no longer required and will not be supported in the future. [/Users/guen/repos/microsoft/qdk-python/examples/vqe/VariationalQuantumEigensolver.csproj]\n",
      "\u001b[m\u001b[m\u001b[33m/Users/guen/repos/microsoft/qdk-python/examples/vqe/EstimateEnergy.qs(9,10): warning QS6003: The namespace is already open. [/Users/guen/repos/microsoft/qdk-python/examples/vqe/VariationalQuantumEigensolver.csproj]\n",
      "\u001b[m\u001b[m\u001b[33m/Users/guen/repos/microsoft/qdk-python/examples/vqe/StatePreparation1.qs(112,22): warning QS5003: Microsoft.Quantum.Preparation.StatePreparationComplexCoefficients has been deprecated. Please use Microsoft.Quantum.Preparation.PrepareArbitraryStateCP instead. [/Users/guen/repos/microsoft/qdk-python/examples/vqe/VariationalQuantumEigensolver.csproj]\n",
      "\u001b[m\u001b[m\u001b[33m/Users/guen/repos/microsoft/qdk-python/examples/vqe/StatePreparation1.qs(114,31): warning QS5003: Microsoft.Quantum.Preparation.StatePreparationPositiveCoefficients has been deprecated. Please use Microsoft.Quantum.Preparation.PrepareArbitraryStateD instead. [/Users/guen/repos/microsoft/qdk-python/examples/vqe/VariationalQuantumEigensolver.csproj]\n"
     ]
    },
    {
     "name": "stdout",
     "output_type": "stream",
     "text": [
      "\u001b[m\u001b[?1h\u001b=\u001b[m\u001b[33mProgram.qs(95,25): warning CS0219: The variable 'j' is assigned but its value is never used [/Users/guen/repos/microsoft/qdk-python/examples/vqe/VariationalQuantumEigensolver.csproj]\n",
      "\u001b[m\u001b[m\u001b[33mProgram.qs(55,17): warning CS0219: The variable 'energyOffset' is assigned but its value is never used [/Users/guen/repos/microsoft/qdk-python/examples/vqe/VariationalQuantumEigensolver.csproj]\n",
      "\u001b[m\u001b[m\u001b[33mStatePreparation.qs(85,17): warning CS0219: The variable 'trotterOrder' is assigned but its value is never used [/Users/guen/repos/microsoft/qdk-python/examples/vqe/VariationalQuantumEigensolver.csproj]\n",
      "\u001b[m\u001b[m\u001b[33mStatePreparation.qs(86,17): warning CS0219: The variable 'maxTime' is assigned but its value is never used [/Users/guen/repos/microsoft/qdk-python/examples/vqe/VariationalQuantumEigensolver.csproj]\n",
      "\u001b[m\u001b[?1h\u001b=\u001b[?1h\u001b=-1.116257281695194\n",
      "\u001b[?1h\u001b="
     ]
    }
   ],
   "source": [
    "!dotnet run --theta1 0.001 --theta2 -0.001 --theta3 0.001 --n-samples 10000000"
   ]
  },
  {
   "cell_type": "code",
   "execution_count": 102,
   "id": "precious-lottery",
   "metadata": {},
   "outputs": [],
   "source": [
    "import subprocess\n",
    "import json\n",
    "\n",
    "def run_vqe(theta1, theta2, theta3, term_type=0, n_ham=0, n_op=0, shots=1, target=\"ionq.simulator\"):\n",
    "#     cmd = f\"az quantum execute --target-id {target} -- --theta1 {theta1} --theta2 {theta2} --theta3 {theta3} --term-type {term_type} --n-ham {n_ham} --n-op {n_op} --shots {shots}\"\n",
    "    cmd = f\"dotnet run --theta1 {theta1} --theta2 {theta2} --theta3 {theta3} --n-samples {shots}\"\n",
    "    run_cmd = subprocess.run([cmd], check=True, shell=True, capture_output=True)\n",
    "    result = run_cmd.stdout\n",
    "    result = json.loads(run_cmd.stdout.lstrip(b\".\"))\n",
    "    return result, run_cmd"
   ]
  },
  {
   "cell_type": "code",
   "execution_count": 100,
   "id": "fitting-synthesis",
   "metadata": {},
   "outputs": [
    {
     "data": {
      "text/plain": [
       "(-1.1162117065141186,\n",
       " CompletedProcess(args=['dotnet run --theta1 0.001 --theta2 -0.001 --theta3 0.001 --n-samples 10000000'], returncode=0, stdout=b'-1.1162117065141186\\n', stderr=b''))"
      ]
     },
     "execution_count": 100,
     "metadata": {},
     "output_type": "execute_result"
    }
   ],
   "source": [
    "run_vqe(theta1=0.001, theta2=-0.001, theta3=0.001, shots=10000000)"
   ]
  },
  {
   "cell_type": "code",
   "execution_count": 103,
   "id": "correct-device",
   "metadata": {},
   "outputs": [],
   "source": [
    "from scipy.optimize import minimize\n",
    "\n",
    "def run_program(var_params, num_samples) -> float:\n",
    "    # run parameterized quantum program for VQE algorithm\n",
    "    theta1, theta2, theta3 = var_params\n",
    "    print(var_params)\n",
    "    try:\n",
    "        result, _ = run_vqe(theta1, theta2, theta3, shots=num_samples)\n",
    "    except Exception:\n",
    "        result, _ = run_vqe(theta1, theta2, theta3, shots=num_samples)\n",
    "    print(result)\n",
    "    return result\n",
    " \n",
    "def VQE(initial_var_params, num_samples):\n",
    "    \"\"\" Run VQE Optimization to find the optimal energy and the associated variational parameters \"\"\"\n",
    " \n",
    "    opt_result = minimize(run_program,\n",
    "                          initial_var_params,\n",
    "                          args=(num_samples,),\n",
    "                          method=\"COBYLA\",\n",
    "                          tol=0.000001,\n",
    "                          options={'disp': True, 'maxiter': 200,'rhobeg' : 0.05})\n",
    " \n",
    "    return opt_result"
   ]
  },
  {
   "cell_type": "code",
   "execution_count": 104,
   "id": "sustainable-english",
   "metadata": {
    "scrolled": true
   },
   "outputs": [
    {
     "name": "stdout",
     "output_type": "stream",
     "text": [
      "[ 0.001 -0.001  0.001]\n",
      "-1.1162904403204759\n",
      "[ 0.051 -0.001  0.001]\n",
      "-1.1147831214916257\n",
      "[0.001 0.049 0.001]\n",
      "-1.1147708037854378\n",
      "[ 0.001 -0.001  0.051]\n",
      "-1.0941606170468448\n",
      "[-0.00238981 -0.00441751 -0.04876776]\n",
      "-1.1306541113504678\n",
      "[-0.00762944 -0.00969996 -0.09821108]\n",
      "-1.1369010682520906\n",
      "[-0.04165423 -0.04376517 -0.11169718]\n",
      "-1.1347810779260992\n",
      "[-0.0253149   0.00796991 -0.09822473]\n",
      "-1.1365687974739198\n",
      "[ 0.01334517  0.00546506 -0.14099061]\n",
      "-1.135870201782455\n",
      "[ 0.00654065 -0.00389624 -0.07844936]\n",
      "-1.135309774158713\n",
      "[-0.0146762  -0.01941685 -0.10170038]\n",
      "-1.1365152745808964\n",
      "[-0.00267064 -0.00623116 -0.10914853]\n",
      "-1.1372413120383027\n",
      "[ 0.00830927 -0.00100108 -0.11203606]\n",
      "-1.137412806747494\n",
      "[ 0.00482351  0.01037618 -0.11586456]\n",
      "-1.137224723756669\n",
      "[ 0.01380948 -0.00749392 -0.12119252]\n",
      "-1.137091349777025\n",
      "[ 0.01126165 -0.00024664 -0.10657926]\n",
      "-1.1370100797702345\n",
      "[ 0.00545066 -0.00226362 -0.11203818]\n",
      "-1.1372083427706685\n",
      "[ 0.00893796 -0.00242431 -0.11217944]\n",
      "-1.1371916401232571\n",
      "[ 0.00829133  0.00169847 -0.11361014]\n",
      "-1.1371575816719304\n",
      "[ 0.00837306 -0.00050945 -0.1105543 ]\n",
      "-1.1371866223154479\n",
      "[ 0.00829417 -0.00050263 -0.11263745]\n",
      "-1.1372509390889571\n",
      "[ 0.00756213 -0.00122931 -0.11202889]\n",
      "-1.137455922828027\n",
      "[ 0.00747514 -0.00113705 -0.11165942]\n",
      "-1.137163210756762\n",
      "[ 0.00761717 -0.00140767 -0.11197139]\n",
      "-1.1370945178332934\n",
      "[ 0.00746179 -0.0009455  -0.11227783]\n",
      "-1.1372033620455495\n",
      "[ 0.00760711 -0.00140751 -0.11209499]\n",
      "-1.1373351481979235\n",
      "[ 0.00746844 -0.00125578 -0.11202129]\n",
      "-1.1370672318330324\n",
      "[ 0.00774242 -0.00116849 -0.11198479]\n",
      "-1.1373091973396043\n",
      "[ 0.00756676 -0.00119114 -0.11211866]\n",
      "-1.1371274589162854\n",
      "[ 0.00759813 -0.00122687 -0.11199599]\n",
      "-1.1372760151733385\n",
      "[ 0.00755298 -0.00120832 -0.11202043]\n",
      "-1.1371952163890535\n",
      "[ 0.00755309 -0.00127678 -0.11203588]\n",
      "-1.1371241899706872\n",
      "[ 0.00757601 -0.00122418 -0.1120483 ]\n",
      "-1.1373528805444821\n",
      "[ 0.00757164 -0.00123078 -0.11202137]\n",
      "-1.1371726059615024\n",
      "[ 0.00755352 -0.00123581 -0.1120346 ]\n",
      "-1.1373244156078468\n",
      "[ 0.00755953 -0.00122379 -0.1120287 ]\n",
      "-1.137386036944796\n",
      "[ 0.00756524 -0.00122815 -0.11203401]\n",
      "-1.1374575754753526\n",
      "[ 0.00756781 -0.00122918 -0.11203274]\n",
      "-1.1373193837631193\n",
      "[ 0.00756493 -0.00122956 -0.11203452]\n",
      "-1.1372706809511812\n",
      "[ 0.00756493 -0.00122516 -0.11203353]\n",
      "-1.1373225730624132\n",
      "[ 0.00756425 -0.001229   -0.11203481]\n",
      "-1.1373018124031224\n",
      "[ 0.00756563 -0.00122801 -0.11203465]\n",
      "-1.1373895967708165\n",
      "[ 0.00756598 -0.00122865 -0.11203278]\n",
      "-1.1372955811788015\n",
      "[ 0.00756478 -0.00122729 -0.11203378]\n",
      "-1.1372908556920143\n",
      "CPU times: user 135 ms, sys: 200 ms, total: 336 ms\n",
      "Wall time: 2min 28s\n"
     ]
    },
    {
     "data": {
      "text/plain": [
       "     fun: -1.1372908556920143\n",
       "   maxcv: 0.0\n",
       " message: 'Optimization terminated successfully.'\n",
       "    nfev: 44\n",
       "  status: 1\n",
       " success: True\n",
       "       x: array([ 0.00756478, -0.00122729, -0.11203378])"
      ]
     },
     "execution_count": 104,
     "metadata": {},
     "output_type": "execute_result"
    }
   ],
   "source": [
    "%%time\n",
    "VQE([0.001, -0.001, 0.001], 10000000)"
   ]
  },
  {
   "cell_type": "code",
   "execution_count": 109,
   "id": "consolidated-senator",
   "metadata": {},
   "outputs": [],
   "source": [
    "import subprocess\n",
    "import json\n",
    "\n",
    "def run_vqe(theta1, theta2, theta3, term_type=0, n_ham=0, n_op=0, shots=1, target=\"ionq.simulator\"):\n",
    "    cmd = f\"az quantum execute --target-id {target} -- --theta1 {theta1} --theta2 {theta2} --theta3 {theta3} --term-type {term_type} --n-ham {n_ham} --n-op {n_op} --shots {shots}\"\n",
    "    run_cmd = subprocess.run([cmd], check=True, shell=True, capture_output=True)\n",
    "    result = run_cmd.stdout\n",
    "    result = json.loads(run_cmd.stdout.lstrip(b\".\"))\n",
    "    return result, run_cmd"
   ]
  },
  {
   "cell_type": "code",
   "execution_count": 135,
   "id": "colored-adoption",
   "metadata": {},
   "outputs": [
    {
     "name": "stdout",
     "output_type": "stream",
     "text": [
      "\u001b[36mCommand group 'quantum' is in preview and under development. Reference and support levels: https://aka.ms/CLI_refstatus\u001b[39m\n",
      "\u001b[91mFailed to compile program.\u001b[0m\n",
      "\u001b[0m"
     ]
    }
   ],
   "source": [
    "!az quantum execute --target-id ionq.simulator -- --theta1 0.001 --theta2 -0.001 --theta3 0.001 --term-type 0 --n-ham 0 --n-op 0"
   ]
  },
  {
   "cell_type": "code",
   "execution_count": 136,
   "id": "wrapped-latter",
   "metadata": {
    "scrolled": true
   },
   "outputs": [
    {
     "name": "stdout",
     "output_type": "stream",
     "text": [
      "\u001b[?1h\u001b=\u001b[?1h\u001b=\u001b[?1h\u001b=\u001b[?1h\u001b=\u001b[?1h\u001b=\u001b[m\u001b[33m/Users/guen/repos/microsoft/qdk-python/examples/vqe/Utils.qs(32,17): warning QS3306: Deprecated syntax. Parentheses here are no longer required and will not be supported in the future. [/Users/guen/repos/microsoft/qdk-python/examples/vqe/VariationalQuantumEigensolver.csproj]\n",
      "\u001b[m\u001b[m\u001b[33m/Users/guen/repos/microsoft/qdk-python/examples/vqe/Utils.qs(69,17): warning QS3306: Deprecated syntax. Parentheses here are no longer required and will not be supported in the future. [/Users/guen/repos/microsoft/qdk-python/examples/vqe/VariationalQuantumEigensolver.csproj]\n",
      "\u001b[m\u001b[m\u001b[33m/Users/guen/repos/microsoft/qdk-python/examples/vqe/Utils.qs(82,17): warning QS3306: Deprecated syntax. Parentheses here are no longer required and will not be supported in the future. [/Users/guen/repos/microsoft/qdk-python/examples/vqe/VariationalQuantumEigensolver.csproj]\n",
      "\u001b[m\u001b[m\u001b[33m/Users/guen/repos/microsoft/qdk-python/examples/vqe/Utils.qs(86,21): warning QS3306: Deprecated syntax. Parentheses here are no longer required and will not be supported in the future. [/Users/guen/repos/microsoft/qdk-python/examples/vqe/VariationalQuantumEigensolver.csproj]\n",
      "\u001b[m\u001b[m\u001b[33m/Users/guen/repos/microsoft/qdk-python/examples/vqe/Utils.qs(91,21): warning QS3306: Deprecated syntax. Parentheses here are no longer required and will not be supported in the future. [/Users/guen/repos/microsoft/qdk-python/examples/vqe/VariationalQuantumEigensolver.csproj]\n",
      "\u001b[m\u001b[m\u001b[33m/Users/guen/repos/microsoft/qdk-python/examples/vqe/Utils.qs(94,21): warning QS3306: Deprecated syntax. Parentheses here are no longer required and will not be supported in the future. [/Users/guen/repos/microsoft/qdk-python/examples/vqe/VariationalQuantumEigensolver.csproj]\n",
      "\u001b[m\u001b[m\u001b[33m/Users/guen/repos/microsoft/qdk-python/examples/vqe/Utils.qs(105,17): warning QS3306: Deprecated syntax. Parentheses here are no longer required and will not be supported in the future. [/Users/guen/repos/microsoft/qdk-python/examples/vqe/VariationalQuantumEigensolver.csproj]\n",
      "\u001b[m\u001b[m\u001b[33m/Users/guen/repos/microsoft/qdk-python/examples/vqe/Utils.qs(113,21): warning QS3306: Deprecated syntax. Parentheses here are no longer required and will not be supported in the future. [/Users/guen/repos/microsoft/qdk-python/examples/vqe/VariationalQuantumEigensolver.csproj]\n",
      "\u001b[m\u001b[m\u001b[33m/Users/guen/repos/microsoft/qdk-python/examples/vqe/StatePreparation.qs(14,13): warning QS3306: Deprecated syntax. Parentheses here are no longer required and will not be supported in the future. [/Users/guen/repos/microsoft/qdk-python/examples/vqe/VariationalQuantumEigensolver.csproj]\n",
      "\u001b[m\u001b[m\u001b[33m/Users/guen/repos/microsoft/qdk-python/examples/vqe/StatePreparation.qs(18,17): warning QS3306: Deprecated syntax. Parentheses here are no longer required and will not be supported in the future. [/Users/guen/repos/microsoft/qdk-python/examples/vqe/VariationalQuantumEigensolver.csproj]\n",
      "\u001b[m\u001b[m\u001b[33m/Users/guen/repos/microsoft/qdk-python/examples/vqe/StatePreparation.qs(24,21): warning QS3306: Deprecated syntax. Parentheses here are no longer required and will not be supported in the future. [/Users/guen/repos/microsoft/qdk-python/examples/vqe/VariationalQuantumEigensolver.csproj]\n",
      "\u001b[m\u001b[m\u001b[33m/Users/guen/repos/microsoft/qdk-python/examples/vqe/VariationalQuantumEigensolver.qs(20,13): warning QS3306: Deprecated syntax. Parentheses here are no longer required and will not be supported in the future. [/Users/guen/repos/microsoft/qdk-python/examples/vqe/VariationalQuantumEigensolver.csproj]\n",
      "\u001b[m\u001b[m\u001b[33m/Users/guen/repos/microsoft/qdk-python/examples/vqe/VariationalQuantumEigensolver.qs(22,17): warning QS3306: Deprecated syntax. Parentheses here are no longer required and will not be supported in the future. [/Users/guen/repos/microsoft/qdk-python/examples/vqe/VariationalQuantumEigensolver.csproj]\n",
      "\u001b[m\u001b[m\u001b[33m/Users/guen/repos/microsoft/qdk-python/examples/vqe/JordanWigner.qs(57,13): warning QS3306: Deprecated syntax. Parentheses here are no longer required and will not be supported in the future. [/Users/guen/repos/microsoft/qdk-python/examples/vqe/VariationalQuantumEigensolver.csproj]\n",
      "\u001b[m\u001b[m\u001b[33m/Users/guen/repos/microsoft/qdk-python/examples/vqe/JordanWigner.qs(61,17): warning QS3306: Deprecated syntax. Parentheses here are no longer required and will not be supported in the future. [/Users/guen/repos/microsoft/qdk-python/examples/vqe/VariationalQuantumEigensolver.csproj]\n",
      "\u001b[m\u001b[m\u001b[33m/Users/guen/repos/microsoft/qdk-python/examples/vqe/JordanWigner.qs(66,13): warning QS3306: Deprecated syntax. Parentheses here are no longer required and will not be supported in the future. [/Users/guen/repos/microsoft/qdk-python/examples/vqe/VariationalQuantumEigensolver.csproj]\n",
      "\u001b[m\u001b[m\u001b[33m/Users/guen/repos/microsoft/qdk-python/examples/vqe/JordanWigner.qs(80,13): warning QS3306: Deprecated syntax. Parentheses here are no longer required and will not be supported in the future. [/Users/guen/repos/microsoft/qdk-python/examples/vqe/VariationalQuantumEigensolver.csproj]\n",
      "\u001b[m\u001b[m\u001b[33m/Users/guen/repos/microsoft/qdk-python/examples/vqe/JordanWigner.qs(100,13): warning QS3306: Deprecated syntax. Parentheses here are no longer required and will not be supported in the future. [/Users/guen/repos/microsoft/qdk-python/examples/vqe/VariationalQuantumEigensolver.csproj]\n",
      "\u001b[m\u001b[m\u001b[33m/Users/guen/repos/microsoft/qdk-python/examples/vqe/JordanWigner.qs(173,13): warning QS3306: Deprecated syntax. Parentheses here are no longer required and will not be supported in the future. [/Users/guen/repos/microsoft/qdk-python/examples/vqe/VariationalQuantumEigensolver.csproj]\n",
      "\u001b[m\u001b[m\u001b[33m/Users/guen/repos/microsoft/qdk-python/examples/vqe/EstimateEnergy.qs(35,13): warning QS3306: Deprecated syntax. Parentheses here are no longer required and will not be supported in the future. [/Users/guen/repos/microsoft/qdk-python/examples/vqe/VariationalQuantumEigensolver.csproj]\n",
      "\u001b[m\u001b[m\u001b[33m/Users/guen/repos/microsoft/qdk-python/examples/vqe/EstimateEnergy.qs(51,15): warning QS3306: Deprecated syntax. Parentheses here are no longer required and will not be supported in the future. [/Users/guen/repos/microsoft/qdk-python/examples/vqe/VariationalQuantumEigensolver.csproj]\n",
      "\u001b[m\u001b[m\u001b[33m/Users/guen/repos/microsoft/qdk-python/examples/vqe/EstimateEnergy.qs(51,9): warning QS3307: The \"using\" keyword has been replaced with \"use\", and qubits may now be allocated without a block. Consider \"use q = Qubit();\" or \"use q = Qubit() { ... }\". [/Users/guen/repos/microsoft/qdk-python/examples/vqe/VariationalQuantumEigensolver.csproj]\n",
      "\u001b[m\u001b[m\u001b[33m/Users/guen/repos/microsoft/qdk-python/examples/vqe/EstimateEnergy.qs(54,17): warning QS3306: Deprecated syntax. Parentheses here are no longer required and will not be supported in the future. [/Users/guen/repos/microsoft/qdk-python/examples/vqe/VariationalQuantumEigensolver.csproj]\n",
      "\u001b[m\u001b[m\u001b[33m/Users/guen/repos/microsoft/qdk-python/examples/vqe/EstimateEnergy.qs(117,13): warning QS3306: Deprecated syntax. Parentheses here are no longer required and will not be supported in the future. [/Users/guen/repos/microsoft/qdk-python/examples/vqe/VariationalQuantumEigensolver.csproj]\n",
      "\u001b[m\u001b[m\u001b[33m/Users/guen/repos/microsoft/qdk-python/examples/vqe/EstimateEnergy.qs(118,19): warning QS3306: Deprecated syntax. Parentheses here are no longer required and will not be supported in the future. [/Users/guen/repos/microsoft/qdk-python/examples/vqe/VariationalQuantumEigensolver.csproj]\n",
      "\u001b[m\u001b[m\u001b[33m/Users/guen/repos/microsoft/qdk-python/examples/vqe/EstimateEnergy.qs(118,13): warning QS3307: The \"using\" keyword has been replaced with \"use\", and qubits may now be allocated without a block. Consider \"use q = Qubit();\" or \"use q = Qubit() { ... }\". [/Users/guen/repos/microsoft/qdk-python/examples/vqe/VariationalQuantumEigensolver.csproj]\n",
      "\u001b[m\u001b[m\u001b[33m/Users/guen/repos/microsoft/qdk-python/examples/vqe/EstimateEnergy.qs(125,21): warning QS3306: Deprecated syntax. Parentheses here are no longer required and will not be supported in the future. [/Users/guen/repos/microsoft/qdk-python/examples/vqe/VariationalQuantumEigensolver.csproj]\n",
      "\u001b[m\u001b[m\u001b[33m/Users/guen/repos/microsoft/qdk-python/examples/vqe/EstimateEnergy.qs(9,10): warning QS6003: The namespace is already open. [/Users/guen/repos/microsoft/qdk-python/examples/vqe/VariationalQuantumEigensolver.csproj]\n"
     ]
    },
    {
     "name": "stdout",
     "output_type": "stream",
     "text": [
      "\u001b[m\u001b[?1h\u001b=\u001b[m\u001b[33mStatePreparation.qs(85,17): warning CS0219: The variable 'trotterOrder' is assigned but its value is never used [/Users/guen/repos/microsoft/qdk-python/examples/vqe/VariationalQuantumEigensolver.csproj]\n",
      "\u001b[m\u001b[m\u001b[33mStatePreparation.qs(86,17): warning CS0219: The variable 'maxTime' is assigned but its value is never used [/Users/guen/repos/microsoft/qdk-python/examples/vqe/VariationalQuantumEigensolver.csproj]\n",
      "\u001b[m\u001b[m\u001b[33mProgram.qs(46,17): warning CS0219: The variable 'energyOffset' is assigned but its value is never used [/Users/guen/repos/microsoft/qdk-python/examples/vqe/VariationalQuantumEigensolver.csproj]\n",
      "\u001b[m\u001b[?1h\u001b=\u001b[?1h\u001b=One\n",
      "\u001b[?1h\u001b="
     ]
    }
   ],
   "source": [
    "!dotnet run --theta1 0.001 --theta2 -0.001 --theta3 0.001 --term-type 0 --n-ham 0 --n-op 0"
   ]
  },
  {
   "cell_type": "code",
   "execution_count": 113,
   "id": "adequate-douglas",
   "metadata": {
    "scrolled": false
   },
   "outputs": [
    {
     "ename": "CalledProcessError",
     "evalue": "Command '['az quantum execute --target-id ionq.simulator -- --theta1 0.001 --theta2 -0.001 --theta3 0.001 --term-type 0 --n-ham 0 --n-op 0 --shots 1']' returned non-zero exit status 1.",
     "output_type": "error",
     "traceback": [
      "\u001b[0;31m---------------------------------------------------------------------------\u001b[0m",
      "\u001b[0;31mCalledProcessError\u001b[0m                        Traceback (most recent call last)",
      "\u001b[0;32m<ipython-input-113-10aba988f711>\u001b[0m in \u001b[0;36m<module>\u001b[0;34m\u001b[0m\n\u001b[0;32m----> 1\u001b[0;31m \u001b[0mrun_vqe\u001b[0m\u001b[0;34m(\u001b[0m\u001b[0mtheta1\u001b[0m\u001b[0;34m=\u001b[0m\u001b[0;36m0.001\u001b[0m\u001b[0;34m,\u001b[0m \u001b[0mtheta2\u001b[0m\u001b[0;34m=\u001b[0m\u001b[0;34m-\u001b[0m\u001b[0;36m0.001\u001b[0m\u001b[0;34m,\u001b[0m \u001b[0mtheta3\u001b[0m\u001b[0;34m=\u001b[0m\u001b[0;36m0.001\u001b[0m\u001b[0;34m,\u001b[0m \u001b[0mshots\u001b[0m\u001b[0;34m=\u001b[0m\u001b[0;36m1\u001b[0m\u001b[0;34m)\u001b[0m\u001b[0;34m\u001b[0m\u001b[0;34m\u001b[0m\u001b[0m\n\u001b[0m",
      "\u001b[0;32m<ipython-input-109-d07f7d33b7e8>\u001b[0m in \u001b[0;36mrun_vqe\u001b[0;34m(theta1, theta2, theta3, term_type, n_ham, n_op, shots, target)\u001b[0m\n\u001b[1;32m      4\u001b[0m \u001b[0;32mdef\u001b[0m \u001b[0mrun_vqe\u001b[0m\u001b[0;34m(\u001b[0m\u001b[0mtheta1\u001b[0m\u001b[0;34m,\u001b[0m \u001b[0mtheta2\u001b[0m\u001b[0;34m,\u001b[0m \u001b[0mtheta3\u001b[0m\u001b[0;34m,\u001b[0m \u001b[0mterm_type\u001b[0m\u001b[0;34m=\u001b[0m\u001b[0;36m0\u001b[0m\u001b[0;34m,\u001b[0m \u001b[0mn_ham\u001b[0m\u001b[0;34m=\u001b[0m\u001b[0;36m0\u001b[0m\u001b[0;34m,\u001b[0m \u001b[0mn_op\u001b[0m\u001b[0;34m=\u001b[0m\u001b[0;36m0\u001b[0m\u001b[0;34m,\u001b[0m \u001b[0mshots\u001b[0m\u001b[0;34m=\u001b[0m\u001b[0;36m1\u001b[0m\u001b[0;34m,\u001b[0m \u001b[0mtarget\u001b[0m\u001b[0;34m=\u001b[0m\u001b[0;34m\"ionq.simulator\"\u001b[0m\u001b[0;34m)\u001b[0m\u001b[0;34m:\u001b[0m\u001b[0;34m\u001b[0m\u001b[0;34m\u001b[0m\u001b[0m\n\u001b[1;32m      5\u001b[0m     \u001b[0mcmd\u001b[0m \u001b[0;34m=\u001b[0m \u001b[0;34mf\"az quantum execute --target-id {target} -- --theta1 {theta1} --theta2 {theta2} --theta3 {theta3} --term-type {term_type} --n-ham {n_ham} --n-op {n_op} --shots {shots}\"\u001b[0m\u001b[0;34m\u001b[0m\u001b[0;34m\u001b[0m\u001b[0m\n\u001b[0;32m----> 6\u001b[0;31m     \u001b[0mrun_cmd\u001b[0m \u001b[0;34m=\u001b[0m \u001b[0msubprocess\u001b[0m\u001b[0;34m.\u001b[0m\u001b[0mrun\u001b[0m\u001b[0;34m(\u001b[0m\u001b[0;34m[\u001b[0m\u001b[0mcmd\u001b[0m\u001b[0;34m]\u001b[0m\u001b[0;34m,\u001b[0m \u001b[0mcheck\u001b[0m\u001b[0;34m=\u001b[0m\u001b[0;32mTrue\u001b[0m\u001b[0;34m,\u001b[0m \u001b[0mshell\u001b[0m\u001b[0;34m=\u001b[0m\u001b[0;32mTrue\u001b[0m\u001b[0;34m,\u001b[0m \u001b[0mcapture_output\u001b[0m\u001b[0;34m=\u001b[0m\u001b[0;32mTrue\u001b[0m\u001b[0;34m)\u001b[0m\u001b[0;34m\u001b[0m\u001b[0;34m\u001b[0m\u001b[0m\n\u001b[0m\u001b[1;32m      7\u001b[0m     \u001b[0mresult\u001b[0m \u001b[0;34m=\u001b[0m \u001b[0mrun_cmd\u001b[0m\u001b[0;34m.\u001b[0m\u001b[0mstdout\u001b[0m\u001b[0;34m\u001b[0m\u001b[0;34m\u001b[0m\u001b[0m\n\u001b[1;32m      8\u001b[0m     \u001b[0mresult\u001b[0m \u001b[0;34m=\u001b[0m \u001b[0mjson\u001b[0m\u001b[0;34m.\u001b[0m\u001b[0mloads\u001b[0m\u001b[0;34m(\u001b[0m\u001b[0mrun_cmd\u001b[0m\u001b[0;34m.\u001b[0m\u001b[0mstdout\u001b[0m\u001b[0;34m.\u001b[0m\u001b[0mlstrip\u001b[0m\u001b[0;34m(\u001b[0m\u001b[0;34mb\".\"\u001b[0m\u001b[0;34m)\u001b[0m\u001b[0;34m)\u001b[0m\u001b[0;34m\u001b[0m\u001b[0;34m\u001b[0m\u001b[0m\n",
      "\u001b[0;32m~/miniconda3/envs/qdk/lib/python3.7/subprocess.py\u001b[0m in \u001b[0;36mrun\u001b[0;34m(input, capture_output, timeout, check, *popenargs, **kwargs)\u001b[0m\n\u001b[1;32m    510\u001b[0m         \u001b[0;32mif\u001b[0m \u001b[0mcheck\u001b[0m \u001b[0;32mand\u001b[0m \u001b[0mretcode\u001b[0m\u001b[0;34m:\u001b[0m\u001b[0;34m\u001b[0m\u001b[0;34m\u001b[0m\u001b[0m\n\u001b[1;32m    511\u001b[0m             raise CalledProcessError(retcode, process.args,\n\u001b[0;32m--> 512\u001b[0;31m                                      output=stdout, stderr=stderr)\n\u001b[0m\u001b[1;32m    513\u001b[0m     \u001b[0;32mreturn\u001b[0m \u001b[0mCompletedProcess\u001b[0m\u001b[0;34m(\u001b[0m\u001b[0mprocess\u001b[0m\u001b[0;34m.\u001b[0m\u001b[0margs\u001b[0m\u001b[0;34m,\u001b[0m \u001b[0mretcode\u001b[0m\u001b[0;34m,\u001b[0m \u001b[0mstdout\u001b[0m\u001b[0;34m,\u001b[0m \u001b[0mstderr\u001b[0m\u001b[0;34m)\u001b[0m\u001b[0;34m\u001b[0m\u001b[0;34m\u001b[0m\u001b[0m\n\u001b[1;32m    514\u001b[0m \u001b[0;34m\u001b[0m\u001b[0m\n",
      "\u001b[0;31mCalledProcessError\u001b[0m: Command '['az quantum execute --target-id ionq.simulator -- --theta1 0.001 --theta2 -0.001 --theta3 0.001 --term-type 0 --n-ham 0 --n-op 0 --shots 1']' returned non-zero exit status 1."
     ]
    }
   ],
   "source": [
    "run_vqe(theta1=0.001, theta2=-0.001, theta3=0.001, shots=1)"
   ]
  },
  {
   "cell_type": "code",
   "execution_count": 110,
   "id": "motivated-spiritual",
   "metadata": {},
   "outputs": [],
   "source": [
    "hamiltonian = (\n",
    "    [\n",
    "        ([0], [0.17120128499999998]),\n",
    "        ([1], [0.17120128499999998]),\n",
    "        ([2], [-0.222796536]),\n",
    "        ([3], [-0.222796536])\n",
    "    ],\n",
    "    [\n",
    "        ([0, 1], [0.1686232915]),\n",
    "        ([0, 2], [0.12054614575]),\n",
    "        ([0, 3], [0.16586802525]),\n",
    "        ([1, 2], [0.16586802525]),\n",
    "        ([1, 3], [0.12054614575]),\n",
    "        ([2, 3], [0.1743495025])\n",
    "    ],\n",
    "    [],\n",
    "    [\n",
    "        ([0, 1, 2, 3], [0.0, -0.0453218795, 0.0, 0.0453218795])\n",
    "    ]\n",
    ")"
   ]
  },
  {
   "cell_type": "code",
   "execution_count": 111,
   "id": "prompt-right",
   "metadata": {},
   "outputs": [],
   "source": [
    "target = \"ionq.simulator\"\n",
    "results = []\n",
    "shots = 100\n",
    "def run_vqe_all(theta1, theta2, theta3, target, shots):\n",
    "    results = []\n",
    "    for term_type in [0,1,3]:\n",
    "        if term_type == 0:\n",
    "            n_hams = range(4)\n",
    "        elif term_type == 1:\n",
    "            n_hams = range(6)\n",
    "        elif term_type == 3:\n",
    "            n_hams = [0]\n",
    "        for n_ham in n_hams:\n",
    "            n_ops = [0] if term_type != 3 else range(4)\n",
    "            for n_op in n_ops:\n",
    "                results.append(run_vqe(theta1, theta2, theta3, term_type, n_ham, 0, shots, target))\n",
    "    return results"
   ]
  },
  {
   "cell_type": "code",
   "execution_count": 112,
   "id": "positive-anthropology",
   "metadata": {},
   "outputs": [],
   "source": [
    "def estimate_energy(hamiltonian, results, offset=-0.09883444600000002):\n",
    "    termExpectation = [a[\"Histogram\"][1] for a, _ in results]\n",
    "    coeff = [__c for t in hamiltonian for _t, _c in t for __c in _c]\n",
    "    return sum([(2. * _t - 1.) * _c for _t, _c in zip(termExpectation, coeff)]) + offset;"
   ]
  },
  {
   "cell_type": "code",
   "execution_count": 44,
   "id": "extreme-cowboy",
   "metadata": {
    "collapsed": true
   },
   "outputs": [
    {
     "ename": "JSONDecodeError",
     "evalue": "Expecting value: line 1 column 1 (char 0)",
     "output_type": "error",
     "traceback": [
      "\u001b[0;31m---------------------------------------------------------------------------\u001b[0m",
      "\u001b[0;31mJSONDecodeError\u001b[0m                           Traceback (most recent call last)",
      "\u001b[0;32m<timed exec>\u001b[0m in \u001b[0;36m<module>\u001b[0;34m\u001b[0m\n",
      "\u001b[0;32m<ipython-input-42-6250c495baf3>\u001b[0m in \u001b[0;36mrun_vqe_all\u001b[0;34m(theta1, theta2, theta3, target, shots)\u001b[0m\n\u001b[1;32m     14\u001b[0m             \u001b[0mn_ops\u001b[0m \u001b[0;34m=\u001b[0m \u001b[0;34m[\u001b[0m\u001b[0;36m0\u001b[0m\u001b[0;34m]\u001b[0m \u001b[0;32mif\u001b[0m \u001b[0mterm_type\u001b[0m \u001b[0;34m!=\u001b[0m \u001b[0;36m3\u001b[0m \u001b[0;32melse\u001b[0m \u001b[0mrange\u001b[0m\u001b[0;34m(\u001b[0m\u001b[0;36m4\u001b[0m\u001b[0;34m)\u001b[0m\u001b[0;34m\u001b[0m\u001b[0;34m\u001b[0m\u001b[0m\n\u001b[1;32m     15\u001b[0m             \u001b[0;32mfor\u001b[0m \u001b[0mn_op\u001b[0m \u001b[0;32min\u001b[0m \u001b[0mn_ops\u001b[0m\u001b[0;34m:\u001b[0m\u001b[0;34m\u001b[0m\u001b[0;34m\u001b[0m\u001b[0m\n\u001b[0;32m---> 16\u001b[0;31m                 \u001b[0mresults\u001b[0m\u001b[0;34m.\u001b[0m\u001b[0mappend\u001b[0m\u001b[0;34m(\u001b[0m\u001b[0mrun_vqe\u001b[0m\u001b[0;34m(\u001b[0m\u001b[0mtheta1\u001b[0m\u001b[0;34m,\u001b[0m \u001b[0mtheta2\u001b[0m\u001b[0;34m,\u001b[0m \u001b[0mtheta3\u001b[0m\u001b[0;34m,\u001b[0m \u001b[0mterm_type\u001b[0m\u001b[0;34m,\u001b[0m \u001b[0mn_ham\u001b[0m\u001b[0;34m,\u001b[0m \u001b[0;36m0\u001b[0m\u001b[0;34m,\u001b[0m \u001b[0mshots\u001b[0m\u001b[0;34m,\u001b[0m \u001b[0mtarget\u001b[0m\u001b[0;34m)\u001b[0m\u001b[0;34m)\u001b[0m\u001b[0;34m\u001b[0m\u001b[0;34m\u001b[0m\u001b[0m\n\u001b[0m\u001b[1;32m     17\u001b[0m     \u001b[0;32mreturn\u001b[0m \u001b[0mresults\u001b[0m\u001b[0;34m\u001b[0m\u001b[0;34m\u001b[0m\u001b[0m\n",
      "\u001b[0;32m<ipython-input-40-8adc646f9cf4>\u001b[0m in \u001b[0;36mrun_vqe\u001b[0;34m(theta1, theta2, theta3, term_type, n_ham, n_op, shots, target)\u001b[0m\n\u001b[1;32m      7\u001b[0m     \u001b[0mrun_cmd\u001b[0m \u001b[0;34m=\u001b[0m \u001b[0msubprocess\u001b[0m\u001b[0;34m.\u001b[0m\u001b[0mrun\u001b[0m\u001b[0;34m(\u001b[0m\u001b[0;34m[\u001b[0m\u001b[0mcmd\u001b[0m\u001b[0;34m]\u001b[0m\u001b[0;34m,\u001b[0m \u001b[0mcheck\u001b[0m\u001b[0;34m=\u001b[0m\u001b[0;32mTrue\u001b[0m\u001b[0;34m,\u001b[0m \u001b[0mshell\u001b[0m\u001b[0;34m=\u001b[0m\u001b[0;32mTrue\u001b[0m\u001b[0;34m,\u001b[0m \u001b[0mcapture_output\u001b[0m\u001b[0;34m=\u001b[0m\u001b[0;32mTrue\u001b[0m\u001b[0;34m)\u001b[0m\u001b[0;34m\u001b[0m\u001b[0;34m\u001b[0m\u001b[0m\n\u001b[1;32m      8\u001b[0m     \u001b[0mresult\u001b[0m \u001b[0;34m=\u001b[0m \u001b[0mrun_cmd\u001b[0m\u001b[0;34m.\u001b[0m\u001b[0mstdout\u001b[0m\u001b[0;34m\u001b[0m\u001b[0;34m\u001b[0m\u001b[0m\n\u001b[0;32m----> 9\u001b[0;31m     \u001b[0mresult\u001b[0m \u001b[0;34m=\u001b[0m \u001b[0mjson\u001b[0m\u001b[0;34m.\u001b[0m\u001b[0mloads\u001b[0m\u001b[0;34m(\u001b[0m\u001b[0mrun_cmd\u001b[0m\u001b[0;34m.\u001b[0m\u001b[0mstdout\u001b[0m\u001b[0;34m.\u001b[0m\u001b[0mlstrip\u001b[0m\u001b[0;34m(\u001b[0m\u001b[0;34mb\".\"\u001b[0m\u001b[0;34m)\u001b[0m\u001b[0;34m)\u001b[0m\u001b[0;34m\u001b[0m\u001b[0;34m\u001b[0m\u001b[0m\n\u001b[0m\u001b[1;32m     10\u001b[0m     \u001b[0;32mreturn\u001b[0m \u001b[0mresult\u001b[0m\u001b[0;34m,\u001b[0m \u001b[0mrun_cmd\u001b[0m\u001b[0;34m\u001b[0m\u001b[0;34m\u001b[0m\u001b[0m\n",
      "\u001b[0;32m~/miniconda3/envs/qdk/lib/python3.7/json/__init__.py\u001b[0m in \u001b[0;36mloads\u001b[0;34m(s, encoding, cls, object_hook, parse_float, parse_int, parse_constant, object_pairs_hook, **kw)\u001b[0m\n\u001b[1;32m    346\u001b[0m             \u001b[0mparse_int\u001b[0m \u001b[0;32mis\u001b[0m \u001b[0;32mNone\u001b[0m \u001b[0;32mand\u001b[0m \u001b[0mparse_float\u001b[0m \u001b[0;32mis\u001b[0m \u001b[0;32mNone\u001b[0m \u001b[0;32mand\u001b[0m\u001b[0;34m\u001b[0m\u001b[0;34m\u001b[0m\u001b[0m\n\u001b[1;32m    347\u001b[0m             parse_constant is None and object_pairs_hook is None and not kw):\n\u001b[0;32m--> 348\u001b[0;31m         \u001b[0;32mreturn\u001b[0m \u001b[0m_default_decoder\u001b[0m\u001b[0;34m.\u001b[0m\u001b[0mdecode\u001b[0m\u001b[0;34m(\u001b[0m\u001b[0ms\u001b[0m\u001b[0;34m)\u001b[0m\u001b[0;34m\u001b[0m\u001b[0;34m\u001b[0m\u001b[0m\n\u001b[0m\u001b[1;32m    349\u001b[0m     \u001b[0;32mif\u001b[0m \u001b[0mcls\u001b[0m \u001b[0;32mis\u001b[0m \u001b[0;32mNone\u001b[0m\u001b[0;34m:\u001b[0m\u001b[0;34m\u001b[0m\u001b[0;34m\u001b[0m\u001b[0m\n\u001b[1;32m    350\u001b[0m         \u001b[0mcls\u001b[0m \u001b[0;34m=\u001b[0m \u001b[0mJSONDecoder\u001b[0m\u001b[0;34m\u001b[0m\u001b[0;34m\u001b[0m\u001b[0m\n",
      "\u001b[0;32m~/miniconda3/envs/qdk/lib/python3.7/json/decoder.py\u001b[0m in \u001b[0;36mdecode\u001b[0;34m(self, s, _w)\u001b[0m\n\u001b[1;32m    335\u001b[0m \u001b[0;34m\u001b[0m\u001b[0m\n\u001b[1;32m    336\u001b[0m         \"\"\"\n\u001b[0;32m--> 337\u001b[0;31m         \u001b[0mobj\u001b[0m\u001b[0;34m,\u001b[0m \u001b[0mend\u001b[0m \u001b[0;34m=\u001b[0m \u001b[0mself\u001b[0m\u001b[0;34m.\u001b[0m\u001b[0mraw_decode\u001b[0m\u001b[0;34m(\u001b[0m\u001b[0ms\u001b[0m\u001b[0;34m,\u001b[0m \u001b[0midx\u001b[0m\u001b[0;34m=\u001b[0m\u001b[0m_w\u001b[0m\u001b[0;34m(\u001b[0m\u001b[0ms\u001b[0m\u001b[0;34m,\u001b[0m \u001b[0;36m0\u001b[0m\u001b[0;34m)\u001b[0m\u001b[0;34m.\u001b[0m\u001b[0mend\u001b[0m\u001b[0;34m(\u001b[0m\u001b[0;34m)\u001b[0m\u001b[0;34m)\u001b[0m\u001b[0;34m\u001b[0m\u001b[0;34m\u001b[0m\u001b[0m\n\u001b[0m\u001b[1;32m    338\u001b[0m         \u001b[0mend\u001b[0m \u001b[0;34m=\u001b[0m \u001b[0m_w\u001b[0m\u001b[0;34m(\u001b[0m\u001b[0ms\u001b[0m\u001b[0;34m,\u001b[0m \u001b[0mend\u001b[0m\u001b[0;34m)\u001b[0m\u001b[0;34m.\u001b[0m\u001b[0mend\u001b[0m\u001b[0;34m(\u001b[0m\u001b[0;34m)\u001b[0m\u001b[0;34m\u001b[0m\u001b[0;34m\u001b[0m\u001b[0m\n\u001b[1;32m    339\u001b[0m         \u001b[0;32mif\u001b[0m \u001b[0mend\u001b[0m \u001b[0;34m!=\u001b[0m \u001b[0mlen\u001b[0m\u001b[0;34m(\u001b[0m\u001b[0ms\u001b[0m\u001b[0;34m)\u001b[0m\u001b[0;34m:\u001b[0m\u001b[0;34m\u001b[0m\u001b[0;34m\u001b[0m\u001b[0m\n",
      "\u001b[0;32m~/miniconda3/envs/qdk/lib/python3.7/json/decoder.py\u001b[0m in \u001b[0;36mraw_decode\u001b[0;34m(self, s, idx)\u001b[0m\n\u001b[1;32m    353\u001b[0m             \u001b[0mobj\u001b[0m\u001b[0;34m,\u001b[0m \u001b[0mend\u001b[0m \u001b[0;34m=\u001b[0m \u001b[0mself\u001b[0m\u001b[0;34m.\u001b[0m\u001b[0mscan_once\u001b[0m\u001b[0;34m(\u001b[0m\u001b[0ms\u001b[0m\u001b[0;34m,\u001b[0m \u001b[0midx\u001b[0m\u001b[0;34m)\u001b[0m\u001b[0;34m\u001b[0m\u001b[0;34m\u001b[0m\u001b[0m\n\u001b[1;32m    354\u001b[0m         \u001b[0;32mexcept\u001b[0m \u001b[0mStopIteration\u001b[0m \u001b[0;32mas\u001b[0m \u001b[0merr\u001b[0m\u001b[0;34m:\u001b[0m\u001b[0;34m\u001b[0m\u001b[0;34m\u001b[0m\u001b[0m\n\u001b[0;32m--> 355\u001b[0;31m             \u001b[0;32mraise\u001b[0m \u001b[0mJSONDecodeError\u001b[0m\u001b[0;34m(\u001b[0m\u001b[0;34m\"Expecting value\"\u001b[0m\u001b[0;34m,\u001b[0m \u001b[0ms\u001b[0m\u001b[0;34m,\u001b[0m \u001b[0merr\u001b[0m\u001b[0;34m.\u001b[0m\u001b[0mvalue\u001b[0m\u001b[0;34m)\u001b[0m \u001b[0;32mfrom\u001b[0m \u001b[0;32mNone\u001b[0m\u001b[0;34m\u001b[0m\u001b[0;34m\u001b[0m\u001b[0m\n\u001b[0m\u001b[1;32m    356\u001b[0m         \u001b[0;32mreturn\u001b[0m \u001b[0mobj\u001b[0m\u001b[0;34m,\u001b[0m \u001b[0mend\u001b[0m\u001b[0;34m\u001b[0m\u001b[0;34m\u001b[0m\u001b[0m\n",
      "\u001b[0;31mJSONDecodeError\u001b[0m: Expecting value: line 1 column 1 (char 0)"
     ]
    }
   ],
   "source": [
    "%%time\n",
    "results = run_vqe_all(theta1=0.001, theta2=-0.001, theta3=0.001, target=\"ionq.simulator\", shots=100)\n",
    "estimate_energy(hamiltonian, results)"
   ]
  },
  {
   "cell_type": "code",
   "execution_count": 18,
   "id": "wrong-purchase",
   "metadata": {},
   "outputs": [],
   "source": [
    "from scipy.optimize import minimize\n",
    "\n",
    "def run_program(var_params, num_samples) -> float:\n",
    "    # run parameterized quantum program for VQE algorithm\n",
    "    theta1, theta2, theta3 = var_params\n",
    "    print(var_params)\n",
    "    results = run_vqe_all(theta1, theta2, theta3, target=\"ionq.simulator\", shots=num_samples)\n",
    "    result = estimate_energy(hamiltonian, results)\n",
    "    print(result)\n",
    "    return result\n",
    " \n",
    "def VQE(initial_var_params, num_samples):\n",
    "    \"\"\" Run VQE Optimization to find the optimal energy and the associated variational parameters \"\"\"\n",
    " \n",
    "    opt_result = minimize(run_program,\n",
    "                          initial_var_params,\n",
    "                          args=(num_samples,),\n",
    "                          method=\"COBYLA\",\n",
    "                          tol=0.000001,\n",
    "                          options={'disp': True, 'maxiter': 200,'rhobeg' : 0.05})\n",
    " \n",
    "    return opt_result"
   ]
  },
  {
   "cell_type": "code",
   "execution_count": 23,
   "id": "demonstrated-dealing",
   "metadata": {},
   "outputs": [
    {
     "name": "stdout",
     "output_type": "stream",
     "text": [
      "[ 0.001 -0.001  0.001]\n",
      "-1.017850997148085\n",
      "[ 0.051 -0.001  0.001]\n",
      "-1.0177284071577128\n",
      "[0.001 0.049 0.001]\n",
      "-1.0177378414205331\n",
      "[ 0.001 -0.001  0.051]\n",
      "-1.0175949100166082\n",
      "[-0.01905492 -0.01951154 -0.04089419]\n",
      "-1.0176506599575217\n",
      "[-0.00902746 -0.01025577 -0.01994709]\n"
     ]
    },
    {
     "ename": "CalledProcessError",
     "evalue": "Command '['az quantum execute --target-id ionq.simulator -- --theta1 -0.009027462038001206 --theta2 -0.010255770058909593 --theta3 -0.019947093490339837 --term-type 3 --n-ham 0 --n-op 0 --shots 100']' returned non-zero exit status 1.",
     "output_type": "error",
     "traceback": [
      "\u001b[0;31m---------------------------------------------------------------------------\u001b[0m",
      "\u001b[0;31mCalledProcessError\u001b[0m                        Traceback (most recent call last)",
      "\u001b[0;32m<timed eval>\u001b[0m in \u001b[0;36m<module>\u001b[0;34m\u001b[0m\n",
      "\u001b[0;32m<ipython-input-18-7edd3ab0f8b1>\u001b[0m in \u001b[0;36mVQE\u001b[0;34m(initial_var_params, num_samples)\u001b[0m\n\u001b[1;32m     18\u001b[0m                           \u001b[0mmethod\u001b[0m\u001b[0;34m=\u001b[0m\u001b[0;34m\"COBYLA\"\u001b[0m\u001b[0;34m,\u001b[0m\u001b[0;34m\u001b[0m\u001b[0;34m\u001b[0m\u001b[0m\n\u001b[1;32m     19\u001b[0m                           \u001b[0mtol\u001b[0m\u001b[0;34m=\u001b[0m\u001b[0;36m0.000001\u001b[0m\u001b[0;34m,\u001b[0m\u001b[0;34m\u001b[0m\u001b[0;34m\u001b[0m\u001b[0m\n\u001b[0;32m---> 20\u001b[0;31m                           options={'disp': True, 'maxiter': 200,'rhobeg' : 0.05})\n\u001b[0m\u001b[1;32m     21\u001b[0m \u001b[0;34m\u001b[0m\u001b[0m\n\u001b[1;32m     22\u001b[0m     \u001b[0;32mreturn\u001b[0m \u001b[0mopt_result\u001b[0m\u001b[0;34m\u001b[0m\u001b[0;34m\u001b[0m\u001b[0m\n",
      "\u001b[0;32m~/miniconda3/envs/qdk/lib/python3.7/site-packages/scipy/optimize/_minimize.py\u001b[0m in \u001b[0;36mminimize\u001b[0;34m(fun, x0, args, method, jac, hess, hessp, bounds, constraints, tol, callback, options)\u001b[0m\n\u001b[1;32m    623\u001b[0m                              **options)\n\u001b[1;32m    624\u001b[0m     \u001b[0;32melif\u001b[0m \u001b[0mmeth\u001b[0m \u001b[0;34m==\u001b[0m \u001b[0;34m'cobyla'\u001b[0m\u001b[0;34m:\u001b[0m\u001b[0;34m\u001b[0m\u001b[0;34m\u001b[0m\u001b[0m\n\u001b[0;32m--> 625\u001b[0;31m         \u001b[0;32mreturn\u001b[0m \u001b[0m_minimize_cobyla\u001b[0m\u001b[0;34m(\u001b[0m\u001b[0mfun\u001b[0m\u001b[0;34m,\u001b[0m \u001b[0mx0\u001b[0m\u001b[0;34m,\u001b[0m \u001b[0margs\u001b[0m\u001b[0;34m,\u001b[0m \u001b[0mconstraints\u001b[0m\u001b[0;34m,\u001b[0m \u001b[0;34m**\u001b[0m\u001b[0moptions\u001b[0m\u001b[0;34m)\u001b[0m\u001b[0;34m\u001b[0m\u001b[0;34m\u001b[0m\u001b[0m\n\u001b[0m\u001b[1;32m    626\u001b[0m     \u001b[0;32melif\u001b[0m \u001b[0mmeth\u001b[0m \u001b[0;34m==\u001b[0m \u001b[0;34m'slsqp'\u001b[0m\u001b[0;34m:\u001b[0m\u001b[0;34m\u001b[0m\u001b[0;34m\u001b[0m\u001b[0m\n\u001b[1;32m    627\u001b[0m         return _minimize_slsqp(fun, x0, args, jac, bounds,\n",
      "\u001b[0;32m~/miniconda3/envs/qdk/lib/python3.7/site-packages/scipy/optimize/cobyla.py\u001b[0m in \u001b[0;36mwrapper\u001b[0;34m(*args, **kwargs)\u001b[0m\n\u001b[1;32m     32\u001b[0m     \u001b[0;32mdef\u001b[0m \u001b[0mwrapper\u001b[0m\u001b[0;34m(\u001b[0m\u001b[0;34m*\u001b[0m\u001b[0margs\u001b[0m\u001b[0;34m,\u001b[0m \u001b[0;34m**\u001b[0m\u001b[0mkwargs\u001b[0m\u001b[0;34m)\u001b[0m\u001b[0;34m:\u001b[0m\u001b[0;34m\u001b[0m\u001b[0;34m\u001b[0m\u001b[0m\n\u001b[1;32m     33\u001b[0m         \u001b[0;32mwith\u001b[0m \u001b[0m_module_lock\u001b[0m\u001b[0;34m:\u001b[0m\u001b[0;34m\u001b[0m\u001b[0;34m\u001b[0m\u001b[0m\n\u001b[0;32m---> 34\u001b[0;31m             \u001b[0;32mreturn\u001b[0m \u001b[0mfunc\u001b[0m\u001b[0;34m(\u001b[0m\u001b[0;34m*\u001b[0m\u001b[0margs\u001b[0m\u001b[0;34m,\u001b[0m \u001b[0;34m**\u001b[0m\u001b[0mkwargs\u001b[0m\u001b[0;34m)\u001b[0m\u001b[0;34m\u001b[0m\u001b[0;34m\u001b[0m\u001b[0m\n\u001b[0m\u001b[1;32m     35\u001b[0m     \u001b[0;32mreturn\u001b[0m \u001b[0mwrapper\u001b[0m\u001b[0;34m\u001b[0m\u001b[0;34m\u001b[0m\u001b[0m\n\u001b[1;32m     36\u001b[0m \u001b[0;34m\u001b[0m\u001b[0m\n",
      "\u001b[0;32m~/miniconda3/envs/qdk/lib/python3.7/site-packages/scipy/optimize/cobyla.py\u001b[0m in \u001b[0;36m_minimize_cobyla\u001b[0;34m(fun, x0, args, constraints, rhobeg, tol, maxiter, disp, catol, **unknown_options)\u001b[0m\n\u001b[1;32m    260\u001b[0m     xopt, info = _cobyla.minimize(calcfc, m=m, x=np.copy(x0), rhobeg=rhobeg,\n\u001b[1;32m    261\u001b[0m                                   \u001b[0mrhoend\u001b[0m\u001b[0;34m=\u001b[0m\u001b[0mrhoend\u001b[0m\u001b[0;34m,\u001b[0m \u001b[0miprint\u001b[0m\u001b[0;34m=\u001b[0m\u001b[0miprint\u001b[0m\u001b[0;34m,\u001b[0m \u001b[0mmaxfun\u001b[0m\u001b[0;34m=\u001b[0m\u001b[0mmaxfun\u001b[0m\u001b[0;34m,\u001b[0m\u001b[0;34m\u001b[0m\u001b[0;34m\u001b[0m\u001b[0m\n\u001b[0;32m--> 262\u001b[0;31m                                   dinfo=info)\n\u001b[0m\u001b[1;32m    263\u001b[0m \u001b[0;34m\u001b[0m\u001b[0m\n\u001b[1;32m    264\u001b[0m     \u001b[0;32mif\u001b[0m \u001b[0minfo\u001b[0m\u001b[0;34m[\u001b[0m\u001b[0;36m3\u001b[0m\u001b[0;34m]\u001b[0m \u001b[0;34m>\u001b[0m \u001b[0mcatol\u001b[0m\u001b[0;34m:\u001b[0m\u001b[0;34m\u001b[0m\u001b[0;34m\u001b[0m\u001b[0m\n",
      "\u001b[0;32m~/miniconda3/envs/qdk/lib/python3.7/site-packages/scipy/optimize/cobyla.py\u001b[0m in \u001b[0;36mcalcfc\u001b[0;34m(x, con)\u001b[0m\n\u001b[1;32m    250\u001b[0m \u001b[0;34m\u001b[0m\u001b[0m\n\u001b[1;32m    251\u001b[0m     \u001b[0;32mdef\u001b[0m \u001b[0mcalcfc\u001b[0m\u001b[0;34m(\u001b[0m\u001b[0mx\u001b[0m\u001b[0;34m,\u001b[0m \u001b[0mcon\u001b[0m\u001b[0;34m)\u001b[0m\u001b[0;34m:\u001b[0m\u001b[0;34m\u001b[0m\u001b[0;34m\u001b[0m\u001b[0m\n\u001b[0;32m--> 252\u001b[0;31m         \u001b[0mf\u001b[0m \u001b[0;34m=\u001b[0m \u001b[0mfun\u001b[0m\u001b[0;34m(\u001b[0m\u001b[0mx\u001b[0m\u001b[0;34m,\u001b[0m \u001b[0;34m*\u001b[0m\u001b[0margs\u001b[0m\u001b[0;34m)\u001b[0m\u001b[0;34m\u001b[0m\u001b[0;34m\u001b[0m\u001b[0m\n\u001b[0m\u001b[1;32m    253\u001b[0m         \u001b[0mi\u001b[0m \u001b[0;34m=\u001b[0m \u001b[0;36m0\u001b[0m\u001b[0;34m\u001b[0m\u001b[0;34m\u001b[0m\u001b[0m\n\u001b[1;32m    254\u001b[0m         \u001b[0;32mfor\u001b[0m \u001b[0msize\u001b[0m\u001b[0;34m,\u001b[0m \u001b[0mc\u001b[0m \u001b[0;32min\u001b[0m \u001b[0mizip\u001b[0m\u001b[0;34m(\u001b[0m\u001b[0mcons_lengths\u001b[0m\u001b[0;34m,\u001b[0m \u001b[0mconstraints\u001b[0m\u001b[0;34m)\u001b[0m\u001b[0;34m:\u001b[0m\u001b[0;34m\u001b[0m\u001b[0;34m\u001b[0m\u001b[0m\n",
      "\u001b[0;32m<ipython-input-18-7edd3ab0f8b1>\u001b[0m in \u001b[0;36mrun_program\u001b[0;34m(var_params, num_samples)\u001b[0m\n\u001b[1;32m      5\u001b[0m     \u001b[0mtheta1\u001b[0m\u001b[0;34m,\u001b[0m \u001b[0mtheta2\u001b[0m\u001b[0;34m,\u001b[0m \u001b[0mtheta3\u001b[0m \u001b[0;34m=\u001b[0m \u001b[0mvar_params\u001b[0m\u001b[0;34m\u001b[0m\u001b[0;34m\u001b[0m\u001b[0m\n\u001b[1;32m      6\u001b[0m     \u001b[0mprint\u001b[0m\u001b[0;34m(\u001b[0m\u001b[0mvar_params\u001b[0m\u001b[0;34m)\u001b[0m\u001b[0;34m\u001b[0m\u001b[0;34m\u001b[0m\u001b[0m\n\u001b[0;32m----> 7\u001b[0;31m     \u001b[0mresults\u001b[0m \u001b[0;34m=\u001b[0m \u001b[0mrun_vqe_all\u001b[0m\u001b[0;34m(\u001b[0m\u001b[0mtheta1\u001b[0m\u001b[0;34m,\u001b[0m \u001b[0mtheta2\u001b[0m\u001b[0;34m,\u001b[0m \u001b[0mtheta3\u001b[0m\u001b[0;34m,\u001b[0m \u001b[0mtarget\u001b[0m\u001b[0;34m=\u001b[0m\u001b[0;34m\"ionq.simulator\"\u001b[0m\u001b[0;34m,\u001b[0m \u001b[0mshots\u001b[0m\u001b[0;34m=\u001b[0m\u001b[0mnum_samples\u001b[0m\u001b[0;34m)\u001b[0m\u001b[0;34m\u001b[0m\u001b[0;34m\u001b[0m\u001b[0m\n\u001b[0m\u001b[1;32m      8\u001b[0m     \u001b[0mresult\u001b[0m \u001b[0;34m=\u001b[0m \u001b[0mestimate_energy\u001b[0m\u001b[0;34m(\u001b[0m\u001b[0mhamiltonian\u001b[0m\u001b[0;34m,\u001b[0m \u001b[0mresults\u001b[0m\u001b[0;34m)\u001b[0m\u001b[0;34m\u001b[0m\u001b[0;34m\u001b[0m\u001b[0m\n\u001b[1;32m      9\u001b[0m     \u001b[0mprint\u001b[0m\u001b[0;34m(\u001b[0m\u001b[0mresult\u001b[0m\u001b[0;34m)\u001b[0m\u001b[0;34m\u001b[0m\u001b[0;34m\u001b[0m\u001b[0m\n",
      "\u001b[0;32m<ipython-input-4-6250c495baf3>\u001b[0m in \u001b[0;36mrun_vqe_all\u001b[0;34m(theta1, theta2, theta3, target, shots)\u001b[0m\n\u001b[1;32m     14\u001b[0m             \u001b[0mn_ops\u001b[0m \u001b[0;34m=\u001b[0m \u001b[0;34m[\u001b[0m\u001b[0;36m0\u001b[0m\u001b[0;34m]\u001b[0m \u001b[0;32mif\u001b[0m \u001b[0mterm_type\u001b[0m \u001b[0;34m!=\u001b[0m \u001b[0;36m3\u001b[0m \u001b[0;32melse\u001b[0m \u001b[0mrange\u001b[0m\u001b[0;34m(\u001b[0m\u001b[0;36m4\u001b[0m\u001b[0;34m)\u001b[0m\u001b[0;34m\u001b[0m\u001b[0;34m\u001b[0m\u001b[0m\n\u001b[1;32m     15\u001b[0m             \u001b[0;32mfor\u001b[0m \u001b[0mn_op\u001b[0m \u001b[0;32min\u001b[0m \u001b[0mn_ops\u001b[0m\u001b[0;34m:\u001b[0m\u001b[0;34m\u001b[0m\u001b[0;34m\u001b[0m\u001b[0m\n\u001b[0;32m---> 16\u001b[0;31m                 \u001b[0mresults\u001b[0m\u001b[0;34m.\u001b[0m\u001b[0mappend\u001b[0m\u001b[0;34m(\u001b[0m\u001b[0mrun_vqe\u001b[0m\u001b[0;34m(\u001b[0m\u001b[0mtheta1\u001b[0m\u001b[0;34m,\u001b[0m \u001b[0mtheta2\u001b[0m\u001b[0;34m,\u001b[0m \u001b[0mtheta3\u001b[0m\u001b[0;34m,\u001b[0m \u001b[0mterm_type\u001b[0m\u001b[0;34m,\u001b[0m \u001b[0mn_ham\u001b[0m\u001b[0;34m,\u001b[0m \u001b[0;36m0\u001b[0m\u001b[0;34m,\u001b[0m \u001b[0mshots\u001b[0m\u001b[0;34m,\u001b[0m \u001b[0mtarget\u001b[0m\u001b[0;34m)\u001b[0m\u001b[0;34m)\u001b[0m\u001b[0;34m\u001b[0m\u001b[0;34m\u001b[0m\u001b[0m\n\u001b[0m\u001b[1;32m     17\u001b[0m     \u001b[0;32mreturn\u001b[0m \u001b[0mresults\u001b[0m\u001b[0;34m\u001b[0m\u001b[0;34m\u001b[0m\u001b[0m\n",
      "\u001b[0;32m<ipython-input-2-c597d045b77d>\u001b[0m in \u001b[0;36mrun_vqe\u001b[0;34m(theta1, theta2, theta3, term_type, n_ham, n_op, shots, target)\u001b[0m\n\u001b[1;32m      4\u001b[0m \u001b[0;32mdef\u001b[0m \u001b[0mrun_vqe\u001b[0m\u001b[0;34m(\u001b[0m\u001b[0mtheta1\u001b[0m\u001b[0;34m,\u001b[0m \u001b[0mtheta2\u001b[0m\u001b[0;34m,\u001b[0m \u001b[0mtheta3\u001b[0m\u001b[0;34m,\u001b[0m \u001b[0mterm_type\u001b[0m\u001b[0;34m,\u001b[0m \u001b[0mn_ham\u001b[0m\u001b[0;34m,\u001b[0m \u001b[0mn_op\u001b[0m\u001b[0;34m,\u001b[0m \u001b[0mshots\u001b[0m\u001b[0;34m,\u001b[0m \u001b[0mtarget\u001b[0m\u001b[0;34m=\u001b[0m\u001b[0;34m\"ionq.simulator\"\u001b[0m\u001b[0;34m)\u001b[0m\u001b[0;34m:\u001b[0m\u001b[0;34m\u001b[0m\u001b[0;34m\u001b[0m\u001b[0m\n\u001b[1;32m      5\u001b[0m     \u001b[0mcmd\u001b[0m \u001b[0;34m=\u001b[0m \u001b[0;34mf\"az quantum execute --target-id {target} -- --theta1 {theta1} --theta2 {theta2} --theta3 {theta3} --term-type {term_type} --n-ham {n_ham} --n-op {n_op} --shots {shots}\"\u001b[0m\u001b[0;34m\u001b[0m\u001b[0;34m\u001b[0m\u001b[0m\n\u001b[0;32m----> 6\u001b[0;31m     \u001b[0mrun_cmd\u001b[0m \u001b[0;34m=\u001b[0m \u001b[0msubprocess\u001b[0m\u001b[0;34m.\u001b[0m\u001b[0mrun\u001b[0m\u001b[0;34m(\u001b[0m\u001b[0;34m[\u001b[0m\u001b[0mcmd\u001b[0m\u001b[0;34m]\u001b[0m\u001b[0;34m,\u001b[0m \u001b[0mcheck\u001b[0m\u001b[0;34m=\u001b[0m\u001b[0;32mTrue\u001b[0m\u001b[0;34m,\u001b[0m \u001b[0mshell\u001b[0m\u001b[0;34m=\u001b[0m\u001b[0;32mTrue\u001b[0m\u001b[0;34m,\u001b[0m \u001b[0mcapture_output\u001b[0m\u001b[0;34m=\u001b[0m\u001b[0;32mTrue\u001b[0m\u001b[0;34m)\u001b[0m\u001b[0;34m\u001b[0m\u001b[0;34m\u001b[0m\u001b[0m\n\u001b[0m\u001b[1;32m      7\u001b[0m     \u001b[0mresult\u001b[0m \u001b[0;34m=\u001b[0m \u001b[0mrun_cmd\u001b[0m\u001b[0;34m.\u001b[0m\u001b[0mstdout\u001b[0m\u001b[0;34m\u001b[0m\u001b[0;34m\u001b[0m\u001b[0m\n\u001b[1;32m      8\u001b[0m     \u001b[0mresult\u001b[0m \u001b[0;34m=\u001b[0m \u001b[0mjson\u001b[0m\u001b[0;34m.\u001b[0m\u001b[0mloads\u001b[0m\u001b[0;34m(\u001b[0m\u001b[0mrun_cmd\u001b[0m\u001b[0;34m.\u001b[0m\u001b[0mstdout\u001b[0m\u001b[0;34m.\u001b[0m\u001b[0mlstrip\u001b[0m\u001b[0;34m(\u001b[0m\u001b[0;34mb\".\"\u001b[0m\u001b[0;34m)\u001b[0m\u001b[0;34m)\u001b[0m\u001b[0;34m\u001b[0m\u001b[0;34m\u001b[0m\u001b[0m\n",
      "\u001b[0;32m~/miniconda3/envs/qdk/lib/python3.7/subprocess.py\u001b[0m in \u001b[0;36mrun\u001b[0;34m(input, capture_output, timeout, check, *popenargs, **kwargs)\u001b[0m\n\u001b[1;32m    510\u001b[0m         \u001b[0;32mif\u001b[0m \u001b[0mcheck\u001b[0m \u001b[0;32mand\u001b[0m \u001b[0mretcode\u001b[0m\u001b[0;34m:\u001b[0m\u001b[0;34m\u001b[0m\u001b[0;34m\u001b[0m\u001b[0m\n\u001b[1;32m    511\u001b[0m             raise CalledProcessError(retcode, process.args,\n\u001b[0;32m--> 512\u001b[0;31m                                      output=stdout, stderr=stderr)\n\u001b[0m\u001b[1;32m    513\u001b[0m     \u001b[0;32mreturn\u001b[0m \u001b[0mCompletedProcess\u001b[0m\u001b[0;34m(\u001b[0m\u001b[0mprocess\u001b[0m\u001b[0;34m.\u001b[0m\u001b[0margs\u001b[0m\u001b[0;34m,\u001b[0m \u001b[0mretcode\u001b[0m\u001b[0;34m,\u001b[0m \u001b[0mstdout\u001b[0m\u001b[0;34m,\u001b[0m \u001b[0mstderr\u001b[0m\u001b[0;34m)\u001b[0m\u001b[0;34m\u001b[0m\u001b[0;34m\u001b[0m\u001b[0m\n\u001b[1;32m    514\u001b[0m \u001b[0;34m\u001b[0m\u001b[0m\n",
      "\u001b[0;31mCalledProcessError\u001b[0m: Command '['az quantum execute --target-id ionq.simulator -- --theta1 -0.009027462038001206 --theta2 -0.010255770058909593 --theta3 -0.019947093490339837 --term-type 3 --n-ham 0 --n-op 0 --shots 100']' returned non-zero exit status 1."
     ]
    }
   ],
   "source": [
    "%%time\n",
    "VQE([0.001, -0.001, 0.001], 100)"
   ]
  },
  {
   "cell_type": "code",
   "execution_count": 14,
   "id": "sound-nightlife",
   "metadata": {},
   "outputs": [
    {
     "name": "stdout",
     "output_type": "stream",
     "text": [
      "\u001b[36mCommand group 'quantum' is in preview and under development. Reference and support levels: https://aka.ms/CLI_refstatus\u001b[39m\n",
      "....\n",
      "{\n",
      "  \"Histogram\": [\n",
      "    \"0\",\n",
      "    0.0001254914085888,\n",
      "    \"1\",\n",
      "    0.9998745085913923\n",
      "  ]\n",
      "}\n",
      "\u001b[0m"
     ]
    }
   ],
   "source": [
    "!az quantum execute --target-id ionq.simulator -- --theta1 -0.02 --theta2 -0.02 --theta3 -0.04 --term-type 0 --n-ham 0 --n-op 0 --shots 100"
   ]
  },
  {
   "cell_type": "code",
   "execution_count": 159,
   "id": "british-words",
   "metadata": {},
   "outputs": [
    {
     "ename": "TypeError",
     "evalue": "run_vqe() missing 2 required positional arguments: 'n_op' and 'shots'",
     "output_type": "error",
     "traceback": [
      "\u001b[0;31m---------------------------------------------------------------------------\u001b[0m",
      "\u001b[0;31mTypeError\u001b[0m                                 Traceback (most recent call last)",
      "\u001b[0;32m<ipython-input-159-8507c0ca3850>\u001b[0m in \u001b[0;36m<module>\u001b[0;34m\u001b[0m\n\u001b[1;32m     12\u001b[0m         \u001b[0mn_ops\u001b[0m \u001b[0;34m=\u001b[0m \u001b[0;34m[\u001b[0m\u001b[0;36m0\u001b[0m\u001b[0;34m]\u001b[0m \u001b[0;32mif\u001b[0m \u001b[0mterm_type\u001b[0m \u001b[0;34m!=\u001b[0m \u001b[0;36m3\u001b[0m \u001b[0;32melse\u001b[0m \u001b[0mrange\u001b[0m\u001b[0;34m(\u001b[0m\u001b[0;36m4\u001b[0m\u001b[0;34m)\u001b[0m\u001b[0;34m\u001b[0m\u001b[0;34m\u001b[0m\u001b[0m\n\u001b[1;32m     13\u001b[0m         \u001b[0;32mfor\u001b[0m \u001b[0mn_op\u001b[0m \u001b[0;32min\u001b[0m \u001b[0mn_ops\u001b[0m\u001b[0;34m:\u001b[0m\u001b[0;34m\u001b[0m\u001b[0;34m\u001b[0m\u001b[0m\n\u001b[0;32m---> 14\u001b[0;31m             \u001b[0mresults\u001b[0m\u001b[0;34m.\u001b[0m\u001b[0mappend\u001b[0m\u001b[0;34m(\u001b[0m\u001b[0mrun_vqe\u001b[0m\u001b[0;34m(\u001b[0m\u001b[0mterm_type\u001b[0m\u001b[0;34m,\u001b[0m \u001b[0mn_ham\u001b[0m\u001b[0;34m,\u001b[0m \u001b[0;36m0\u001b[0m\u001b[0;34m,\u001b[0m \u001b[0mshots\u001b[0m\u001b[0;34m,\u001b[0m \u001b[0mtarget\u001b[0m\u001b[0;34m)\u001b[0m\u001b[0;34m)\u001b[0m\u001b[0;34m\u001b[0m\u001b[0;34m\u001b[0m\u001b[0m\n\u001b[0m",
      "\u001b[0;31mTypeError\u001b[0m: run_vqe() missing 2 required positional arguments: 'n_op' and 'shots'"
     ]
    }
   ],
   "source": [
    "target = \"ionq.simulator\"\n",
    "results = []\n",
    "shots = 100\n",
    "for term_type in [0,1,3]:\n",
    "    if term_type == 0:\n",
    "        n_hams = range(4)\n",
    "    elif term_type == 1:\n",
    "        n_hams = range(6)\n",
    "    elif term_type == 3:\n",
    "        n_hams = [0]\n",
    "    for n_ham in n_hams:\n",
    "        n_ops = [0] if term_type != 3 else range(4)\n",
    "        for n_op in n_ops:\n",
    "            results.append(run_vqe(term_type, n_ham, 0, shots, target))"
   ]
  },
  {
   "cell_type": "code",
   "execution_count": 134,
   "id": "numerous-bhutan",
   "metadata": {},
   "outputs": [
    {
     "data": {
      "text/plain": [
       "-0.5356664127610464"
      ]
     },
     "execution_count": 134,
     "metadata": {},
     "output_type": "execute_result"
    }
   ],
   "source": [
    "estimate_energy(hamiltonian, results)"
   ]
  },
  {
   "cell_type": "code",
   "execution_count": 96,
   "id": "honest-constant",
   "metadata": {
    "scrolled": true
   },
   "outputs": [
    {
     "data": {
      "text/plain": [
       "-1.017848070739604"
      ]
     },
     "execution_count": 96,
     "metadata": {},
     "output_type": "execute_result"
    }
   ],
   "source": [
    "estimate_energy(hamiltonian, results)"
   ]
  },
  {
   "cell_type": "code",
   "execution_count": 60,
   "id": "anonymous-former",
   "metadata": {},
   "outputs": [
    {
     "data": {
      "text/plain": [
       "[{'Histogram': ['0', 2.4999997919999996e-07, '1', 0.9999997500000226]},\n",
       " {'Histogram': ['0', 2.2499968124999997e-06, '1', 0.9999977500031892]},\n",
       " {'Histogram': ['0', 0.9999997500000226, '1', 2.4999997919999996e-07]},\n",
       " {'Histogram': ['0', 0.9999977500031892, '1', 2.2499968124999997e-06]},\n",
       " {'Histogram': ['0', 0.9999975000043351, '1', 2.4999956667e-06]},\n",
       " {'Histogram': ['0', 4.999998333999999e-07, '1', 0.9999995000001684]},\n",
       " {'Histogram': ['0', 2.4999956667e-06, '1', 0.9999975000043351]},\n",
       " {'Histogram': ['0', 2.4999956667e-06, '1', 0.9999975000043351]},\n",
       " {'Histogram': ['0', 4.4999835e-06, '1', 0.9999955000165016]},\n",
       " {'Histogram': ['0', 0.9999975000043351, '1', 2.4999956667e-06]},\n",
       " {'Histogram': ['0', 1.0000000000000018]},\n",
       " {'Histogram': ['0', 1.0000000000000018]},\n",
       " {'Histogram': ['0', 1.0000000000000018]},\n",
       " {'Histogram': ['0', 1.0000000000000018]}]"
      ]
     },
     "execution_count": 60,
     "metadata": {},
     "output_type": "execute_result"
    }
   ],
   "source": [
    "[a for a, _ in results]"
   ]
  },
  {
   "cell_type": "code",
   "execution_count": null,
   "id": "unauthorized-silver",
   "metadata": {},
   "outputs": [],
   "source": [
    "(2. * termExpectation - 1.) * coeff"
   ]
  },
  {
   "cell_type": "code",
   "execution_count": 27,
   "id": "bizarre-mauritius",
   "metadata": {},
   "outputs": [],
   "source": [
    "import qsharp.azure"
   ]
  },
  {
   "cell_type": "code",
   "execution_count": 28,
   "id": "solar-ferry",
   "metadata": {},
   "outputs": [
    {
     "data": {
      "application/json": "{\"UserCode\":\"RLMVK4XTS\",\"DeviceCode\":\"RAQABAAEAAAD--DLA3VO7QrddgJg7WevrqDGr-24Iyr9_lnAuUV2fcLiE8WjxS6cQdakHo6nvesyq2lATVBlVz5-peFwlYZzGJ_CgeSHE8J_tVGf5sv1m0kv9KD4QKige9xaXkSTeyu0RQ-1nAD5BEdZ-RaycS4evPXoKB5eGauxREfLUXAkNNFHqg5Ptd-AbdCptJpLO7DogAA\",\"VerificationUrl\":\"https://microsoft.com/devicelogin\",\"ExpiresOn\":\"2021-03-02T03:15:27.625108+00:00\",\"Interval\":5,\"Message\":\"To sign in, use a web browser to open the page https://microsoft.com/devicelogin and enter the code RLMVK4XTS to authenticate.\",\"ClientId\":\"84ba0947-6c53-4dd2-9ca9-b3694761521b\",\"Scopes\":[\"https://quantum.microsoft.com/Jobs.ReadWrite\",\"offline_access\",\"profile\",\"openid\"]}",
      "text/html": [
       "To sign in, use a web browser to open the page <a href=\"https://microsoft.com/devicelogin\"><code>https://microsoft.com/devicelogin</code></a> and enter the code <span id=\"87302b02-eebd-4146-8234-b650ae3c0631\" style=\"background-color: #e0e0e0;\">\r\n",
       "                            <i class=\"fa fa-clipboard\" aria-hidden=\"true\"></i>\r\n",
       "                            <strong style=\"padding-right: 0.2em\">RLMVK4XTS</strong></span> to authenticate.\n",
       "<script>\r\n",
       "                    window.iqsharp.addCopyListener(\"87302b02-eebd-4146-8234-b650ae3c0631\", \"RLMVK4XTS\");\r\n",
       "                </script>"
      ],
      "text/plain": [
       "To sign in, use a web browser to open the page https://microsoft.com/devicelogin and enter the code RLMVK4XTS to authenticate."
      ]
     },
     "metadata": {},
     "output_type": "display_data"
    },
    {
     "name": "stdout",
     "output_type": "stream",
     "text": [
      "Connected to Azure Quantum workspace azure-quantum-01 in location westus.\n"
     ]
    },
    {
     "data": {
      "text/plain": [
       "[{'id': 'ionq.qpu', 'current_availability': 'Available', 'average_queue_time': 102},\n",
       " {'id': 'ionq.simulator', 'current_availability': 'Available', 'average_queue_time': 0},\n",
       " {'id': 'honeywell.hqs-lt-1.0', 'current_availability': 'Degraded', 'average_queue_time': 0},\n",
       " {'id': 'honeywell.hqs-lt-1.0-apival', 'current_availability': 'Available', 'average_queue_time': 0}]"
      ]
     },
     "execution_count": 28,
     "metadata": {},
     "output_type": "execute_result"
    }
   ],
   "source": [
    "resource_id = \"/subscriptions/9006b025-1a81-4f7c-9111-582e121509ac/resourcegroups/azure-quantum-guenp/providers/Microsoft.Quantum/Workspaces/azure-quantum-01\"\n",
    "qsharp.azure.connect(resourceId=resource_id)"
   ]
  },
  {
   "cell_type": "code",
   "execution_count": 29,
   "id": "coastal-danish",
   "metadata": {},
   "outputs": [
    {
     "data": {
      "application/json": "{\"UserCode\":\"RXNAYXYWA\",\"DeviceCode\":\"RAQABAAEAAAD--DLA3VO7QrddgJg7WevrRXw6dAIAFi-83V2sWBuNtsWskquHYzZZXWF8bzBAi3vqKtWPHfWqjFDn0M1seBVBWH_PBrSpe6K99s67cNZfQj8an5c_jAWpoH8woa0HoDZcac_Pt6q5WlYx19M-8or_FCnEkjC4IjY0W0TbhhEuwgSUSmDLllc7Cql5DTR2bfwgAA\",\"VerificationUrl\":\"https://microsoft.com/devicelogin\",\"ExpiresOn\":\"2021-03-02T03:16:03.772324+00:00\",\"Interval\":5,\"Message\":\"To sign in, use a web browser to open the page https://microsoft.com/devicelogin and enter the code RXNAYXYWA to authenticate.\",\"ClientId\":\"84ba0947-6c53-4dd2-9ca9-b3694761521b\",\"Scopes\":[\"https://quantum.microsoft.com/Jobs.ReadWrite\",\"offline_access\",\"profile\",\"openid\"]}",
      "text/html": [
       "To sign in, use a web browser to open the page <a href=\"https://microsoft.com/devicelogin\"><code>https://microsoft.com/devicelogin</code></a> and enter the code <span id=\"48aeda73-991b-460c-a29b-adc48869bdbf\" style=\"background-color: #e0e0e0;\">\r\n",
       "                            <i class=\"fa fa-clipboard\" aria-hidden=\"true\"></i>\r\n",
       "                            <strong style=\"padding-right: 0.2em\">RXNAYXYWA</strong></span> to authenticate.\n",
       "<script>\r\n",
       "                    window.iqsharp.addCopyListener(\"48aeda73-991b-460c-a29b-adc48869bdbf\", \"RXNAYXYWA\");\r\n",
       "                </script>"
      ],
      "text/plain": [
       "To sign in, use a web browser to open the page https://microsoft.com/devicelogin and enter the code RXNAYXYWA to authenticate."
      ]
     },
     "metadata": {},
     "output_type": "display_data"
    },
    {
     "name": "stdout",
     "output_type": "stream",
     "text": [
      "Loading package Microsoft.Quantum.Providers.IonQ and dependencies...\n",
      "Active target is now ionq.simulator\n"
     ]
    },
    {
     "data": {
      "text/plain": [
       "{'id': 'ionq.simulator', 'current_availability': 'Available', 'average_queue_time': 0}"
      ]
     },
     "execution_count": 29,
     "metadata": {},
     "output_type": "execute_result"
    }
   ],
   "source": [
    "qsharp.azure.target(\"ionq.simulator\")"
   ]
  },
  {
   "cell_type": "code",
   "execution_count": 12,
   "id": "necessary-paste",
   "metadata": {},
   "outputs": [
    {
     "data": {
      "application/json": "{\"UserCode\":\"RR6EFCWTY\",\"DeviceCode\":\"RAQABAAEAAAD--DLA3VO7QrddgJg7WevrdWn6hopSmimdzlFRmOVADArF9sfhAyN4y0WwXPeKvvsDaUSBSVaVWaiFfFiCf5gJK6cPkWChBqrYzQeQShKiyrgZvisZrIWfp97U2nKEKrMotegMc2CDLjAgyDTSqTiIQe6TRbHFAelSRgULpK726IgCxt-9Bz-be7jqCF-c3dMgAA\",\"VerificationUrl\":\"https://microsoft.com/devicelogin\",\"ExpiresOn\":\"2021-03-02T02:05:42.566276+00:00\",\"Interval\":5,\"Message\":\"To sign in, use a web browser to open the page https://microsoft.com/devicelogin and enter the code RR6EFCWTY to authenticate.\",\"ClientId\":\"84ba0947-6c53-4dd2-9ca9-b3694761521b\",\"Scopes\":[\"https://quantum.microsoft.com/Jobs.ReadWrite\",\"offline_access\",\"profile\",\"openid\"]}",
      "text/html": [
       "To sign in, use a web browser to open the page <a href=\"https://microsoft.com/devicelogin\"><code>https://microsoft.com/devicelogin</code></a> and enter the code <span id=\"b467a24c-10b4-469d-aa69-0619371bccc6\" style=\"background-color: #e0e0e0;\">\r\n",
       "                            <i class=\"fa fa-clipboard\" aria-hidden=\"true\"></i>\r\n",
       "                            <strong style=\"padding-right: 0.2em\">RR6EFCWTY</strong></span> to authenticate.\n",
       "<script>\r\n",
       "                    window.iqsharp.addCopyListener(\"b467a24c-10b4-469d-aa69-0619371bccc6\", \"RR6EFCWTY\");\r\n",
       "                </script>"
      ],
      "text/plain": [
       "To sign in, use a web browser to open the page https://microsoft.com/devicelogin and enter the code RR6EFCWTY to authenticate."
      ]
     },
     "metadata": {},
     "output_type": "display_data"
    },
    {
     "name": "stdout",
     "output_type": "stream",
     "text": [
      "Submitting Microsoft.Quantum.Samples.Chemistry.SimpleVQE.Test to target ionq.simulator...\n",
      "Job successfully submitted for 100 shots.\n",
      "   Job name: Simulate Hydrogen using VQE\n",
      "   Job ID: 50f3389d-38fa-4303-aa3b-0784ed5ff619\n",
      "Waiting up to 30 seconds for Azure Quantum job to complete...\n",
      "[5:51:08 PM] Current job status: Succeeded\n"
     ]
    },
    {
     "data": {
      "application/json": "{\"UserCode\":\"RCXY9GVFK\",\"DeviceCode\":\"RAQABAAEAAAD--DLA3VO7QrddgJg7WevrWymioE3khAIPY3jrYtBtdMlvDl989sRJ8XsWw_ykHyIzNgloojzaH7bIAts7BVAv3c_MmO3j1xV7RTfU2m_bZGFpheGD0j5nW4kXd0bM9ujwJCxO4YyURuZeOtHTWvz2wW9BgEomTArcOreeTj7AYDDPaT_Zvkg4IEJYWemg1JUgAA\",\"VerificationUrl\":\"https://microsoft.com/devicelogin\",\"ExpiresOn\":\"2021-03-02T02:06:09.666027+00:00\",\"Interval\":5,\"Message\":\"To sign in, use a web browser to open the page https://microsoft.com/devicelogin and enter the code RCXY9GVFK to authenticate.\",\"ClientId\":\"84ba0947-6c53-4dd2-9ca9-b3694761521b\",\"Scopes\":[\"https://quantum.microsoft.com/Jobs.ReadWrite\",\"offline_access\",\"profile\",\"openid\"]}",
      "text/html": [
       "To sign in, use a web browser to open the page <a href=\"https://microsoft.com/devicelogin\"><code>https://microsoft.com/devicelogin</code></a> and enter the code <span id=\"07bb9cf2-dcb3-4730-8e83-1418ddda3d3e\" style=\"background-color: #e0e0e0;\">\r\n",
       "                            <i class=\"fa fa-clipboard\" aria-hidden=\"true\"></i>\r\n",
       "                            <strong style=\"padding-right: 0.2em\">RCXY9GVFK</strong></span> to authenticate.\n",
       "<script>\r\n",
       "                    window.iqsharp.addCopyListener(\"07bb9cf2-dcb3-4730-8e83-1418ddda3d3e\", \"RCXY9GVFK\");\r\n",
       "                </script>"
      ],
      "text/plain": [
       "To sign in, use a web browser to open the page https://microsoft.com/devicelogin and enter the code RCXY9GVFK to authenticate."
      ]
     },
     "metadata": {},
     "output_type": "display_data"
    }
   ],
   "source": [
    "result1 = qsharp.azure.execute(\n",
    "    Test,\n",
    "    theta1=0.001,\n",
    "    theta2=-0.001,\n",
    "    theta3=0.001,\n",
    "    termType=0,\n",
    "    shots=100,\n",
    "    nHam=0,\n",
    "    nOp=0,\n",
    "    jobName=\"Simulate Hydrogen using VQE\"\n",
    ")"
   ]
  },
  {
   "cell_type": "code",
   "execution_count": 19,
   "id": "outside-strap",
   "metadata": {},
   "outputs": [
    {
     "name": "stdout",
     "output_type": "stream",
     "text": [
      "Total ham terms: 4\n",
      "Total measurement operations: 1\n",
      "0\n"
     ]
    },
    {
     "data": {
      "text/plain": [
       "1"
      ]
     },
     "execution_count": 19,
     "metadata": {},
     "output_type": "execute_result"
    }
   ],
   "source": [
    "Test.simulate(theta1=0.001, theta2=-0.001, theta3=0.001, termType=0, nHam=0, nOp=0)"
   ]
  },
  {
   "cell_type": "code",
   "execution_count": 30,
   "id": "revised-sword",
   "metadata": {},
   "outputs": [
    {
     "data": {
      "text/plain": [
       "0"
      ]
     },
     "execution_count": 30,
     "metadata": {},
     "output_type": "execute_result"
    }
   ],
   "source": [
    "Test.simulate(theta1=0.001, theta2=-0.001, theta3=0.001, termType=1, nHam=0, nOp=0)"
   ]
  },
  {
   "cell_type": "code",
   "execution_count": 32,
   "id": "deluxe-glucose",
   "metadata": {},
   "outputs": [
    {
     "data": {
      "text/plain": [
       "1"
      ]
     },
     "execution_count": 32,
     "metadata": {},
     "output_type": "execute_result"
    }
   ],
   "source": [
    "Test.simulate(theta1=0.001, theta2=-0.001, theta3=0.001, termType=3, nHam=0, nOp=0)"
   ]
  },
  {
   "cell_type": "code",
   "execution_count": 22,
   "id": "activated-scene",
   "metadata": {},
   "outputs": [
    {
     "data": {
      "application/json": "{\"UserCode\":\"R667Y5V5A\",\"DeviceCode\":\"RAQABAAEAAAD--DLA3VO7QrddgJg7WevrqCY6VWvC5ZdBBU7XP2hGLBgi4E-oVEDEsE7bc9h8pBt2PcGZzOHNLEp6aY25wvGVkWpKxjvpazx3Q30tWUT4wm9_dwgLbKumHPiR4tl_4N-Z8Pp38w9kL7OWf-B2VJPJmS1l7YwGAHX1FsuFzt52HU98QlmnT5HzhE1Lnt1COvIgAA\",\"VerificationUrl\":\"https://microsoft.com/devicelogin\",\"ExpiresOn\":\"2021-03-02T01:29:26.362038+00:00\",\"Interval\":5,\"Message\":\"To sign in, use a web browser to open the page https://microsoft.com/devicelogin and enter the code R667Y5V5A to authenticate.\",\"ClientId\":\"84ba0947-6c53-4dd2-9ca9-b3694761521b\",\"Scopes\":[\"https://quantum.microsoft.com/Jobs.ReadWrite\",\"offline_access\",\"profile\",\"openid\"]}",
      "text/html": [
       "To sign in, use a web browser to open the page <a href=\"https://microsoft.com/devicelogin\"><code>https://microsoft.com/devicelogin</code></a> and enter the code <span id=\"ce77ea0c-ba0f-4c93-91c6-1d879a7ace1c\" style=\"background-color: #e0e0e0;\">\r\n",
       "                            <i class=\"fa fa-clipboard\" aria-hidden=\"true\"></i>\r\n",
       "                            <strong style=\"padding-right: 0.2em\">R667Y5V5A</strong></span> to authenticate.\n",
       "<script>\r\n",
       "                    window.iqsharp.addCopyListener(\"ce77ea0c-ba0f-4c93-91c6-1d879a7ace1c\", \"R667Y5V5A\");\r\n",
       "                </script>"
      ],
      "text/plain": [
       "To sign in, use a web browser to open the page https://microsoft.com/devicelogin and enter the code R667Y5V5A to authenticate."
      ]
     },
     "metadata": {},
     "output_type": "display_data"
    },
    {
     "name": "stdout",
     "output_type": "stream",
     "text": [
      "Loading package Microsoft.Quantum.Providers.IonQ and dependencies...\n",
      "Active target is now ionq.qpu\n"
     ]
    },
    {
     "data": {
      "text/plain": [
       "{'id': 'ionq.qpu', 'current_availability': 'Available', 'average_queue_time': 33}"
      ]
     },
     "execution_count": 22,
     "metadata": {},
     "output_type": "execute_result"
    }
   ],
   "source": [
    "qsharp.azure.target(\"ionq.qpu\")"
   ]
  },
  {
   "cell_type": "code",
   "execution_count": 23,
   "id": "elder-superintendent",
   "metadata": {},
   "outputs": [
    {
     "data": {
      "application/json": "{\"UserCode\":\"R7RSJMRRA\",\"DeviceCode\":\"RAQABAAEAAAD--DLA3VO7QrddgJg7WevrDKi-ooHafkfP4cTo3Rmm2TwdetjhAbEKByeDza1Wvc6oLqTvwwkmHh_S2PFjuH9ue74wASsA_r4Rt0kjv_I8zRnZuBYCEnCC7q1M9k7vachrOudfEUMRJD_ABA4tsGB7NuNFA3PgT57Q7Fzt3C2w2PnGgneqDC9R0BqCXGZRFtggAA\",\"VerificationUrl\":\"https://microsoft.com/devicelogin\",\"ExpiresOn\":\"2021-03-02T01:29:53.374117+00:00\",\"Interval\":5,\"Message\":\"To sign in, use a web browser to open the page https://microsoft.com/devicelogin and enter the code R7RSJMRRA to authenticate.\",\"ClientId\":\"84ba0947-6c53-4dd2-9ca9-b3694761521b\",\"Scopes\":[\"https://quantum.microsoft.com/Jobs.ReadWrite\",\"offline_access\",\"profile\",\"openid\"]}",
      "text/html": [
       "To sign in, use a web browser to open the page <a href=\"https://microsoft.com/devicelogin\"><code>https://microsoft.com/devicelogin</code></a> and enter the code <span id=\"ee0dc789-f49d-439e-a627-3c1bf8c8c2a6\" style=\"background-color: #e0e0e0;\">\r\n",
       "                            <i class=\"fa fa-clipboard\" aria-hidden=\"true\"></i>\r\n",
       "                            <strong style=\"padding-right: 0.2em\">R7RSJMRRA</strong></span> to authenticate.\n",
       "<script>\r\n",
       "                    window.iqsharp.addCopyListener(\"ee0dc789-f49d-439e-a627-3c1bf8c8c2a6\", \"R7RSJMRRA\");\r\n",
       "                </script>"
      ],
      "text/plain": [
       "To sign in, use a web browser to open the page https://microsoft.com/devicelogin and enter the code R7RSJMRRA to authenticate."
      ]
     },
     "metadata": {},
     "output_type": "display_data"
    },
    {
     "name": "stdout",
     "output_type": "stream",
     "text": [
      "Submitting Test to target ionq.qpu...\n",
      "Job successfully submitted for 100 shots.\n",
      "   Job name: Simulate Hydrogen using VQE\n",
      "   Job ID: f4464075-3854-4b47-adaa-e95f06a8a474\n",
      "Waiting up to 30 seconds for Azure Quantum job to complete...\n",
      "[5:15:31 PM] Current job status: Waiting\n",
      "[5:15:37 PM] Current job status: Waiting\n",
      "[5:15:42 PM] Current job status: Waiting\n",
      "[5:15:47 PM] Current job status: Waiting\n",
      "[5:15:52 PM] Current job status: Waiting\n"
     ]
    },
    {
     "data": {
      "application/json": "{\"UserCode\":\"FG55TVW47\",\"DeviceCode\":\"FAQABAAEAAAD--DLA3VO7QrddgJg7Wevr6Kl1I_wtLqA_t9AHe2S2dxhpI7jx8pf3bLJkMd-t94-pRXsEwR3Q3gumV6gHjCES323u05fpsWfkfKTqQXfcUr-1U85mTCJSMWyHmda2kcoEgMexNW3hYiR_8qi38x00frQJq5X-DeLw7PVPZI5bMDKvxWHmtrsw0Ayz_-8Jm2ogAA\",\"VerificationUrl\":\"https://microsoft.com/devicelogin\",\"ExpiresOn\":\"2021-03-02T01:30:58.200133+00:00\",\"Interval\":5,\"Message\":\"To sign in, use a web browser to open the page https://microsoft.com/devicelogin and enter the code FG55TVW47 to authenticate.\",\"ClientId\":\"84ba0947-6c53-4dd2-9ca9-b3694761521b\",\"Scopes\":[\"https://quantum.microsoft.com/Jobs.ReadWrite\",\"offline_access\",\"profile\",\"openid\"]}",
      "text/html": [
       "To sign in, use a web browser to open the page <a href=\"https://microsoft.com/devicelogin\"><code>https://microsoft.com/devicelogin</code></a> and enter the code <span id=\"5f3e2172-0df7-484a-a8ff-8786c666cf0c\" style=\"background-color: #e0e0e0;\">\r\n",
       "                            <i class=\"fa fa-clipboard\" aria-hidden=\"true\"></i>\r\n",
       "                            <strong style=\"padding-right: 0.2em\">FG55TVW47</strong></span> to authenticate.\n",
       "<script>\r\n",
       "                    window.iqsharp.addCopyListener(\"5f3e2172-0df7-484a-a8ff-8786c666cf0c\", \"FG55TVW47\");\r\n",
       "                </script>"
      ],
      "text/plain": [
       "To sign in, use a web browser to open the page https://microsoft.com/devicelogin and enter the code FG55TVW47 to authenticate."
      ]
     },
     "metadata": {},
     "output_type": "display_data"
    }
   ],
   "source": [
    "result1 = qsharp.azure.execute(\n",
    "    Test,\n",
    "    theta1=0.001,\n",
    "    theta2=-0.001,\n",
    "    theta3=0.001,\n",
    "    termType=0,\n",
    "    shots=100,\n",
    "    nHam=0,\n",
    "    nOp=0,\n",
    "    jobName=\"Simulate Hydrogen using VQE\"\n",
    ")"
   ]
  },
  {
   "cell_type": "code",
   "execution_count": 11,
   "id": "raised-anatomy",
   "metadata": {},
   "outputs": [
    {
     "name": "stdout",
     "output_type": "stream",
     "text": [
      "Azure Quantum service execution result: {'0': 2.4999997919999996e-07, '1': 0.9999997500000226}\n"
     ]
    }
   ],
   "source": [
    "print(f'Azure Quantum service execution result: {result1}')"
   ]
  },
  {
   "cell_type": "code",
   "execution_count": 12,
   "id": "historical-construction",
   "metadata": {},
   "outputs": [
    {
     "data": {
      "application/json": "{\"UserCode\":\"RTQH6AYM9\",\"DeviceCode\":\"RAQABAAEAAAD--DLA3VO7QrddgJg7WevrEhKGyc7CwHkTe4ie57csPz7wt61b4IR8SyXm3CBjV1guvRyFcSpKVSdBKfeA6kcRJHl3AnuD6wcY27x5SLVbU0tRkexERr84xTvOoeoW10Iwgbfa8WNzs10Fz4gw-VWk7erpggLdzd6aywMzVuYf2s-kpzzDuCLiiTAsKjxltp0gAA\",\"VerificationUrl\":\"https://microsoft.com/devicelogin\",\"ExpiresOn\":\"2021-03-02T01:12:18.702468+00:00\",\"Interval\":5,\"Message\":\"To sign in, use a web browser to open the page https://microsoft.com/devicelogin and enter the code RTQH6AYM9 to authenticate.\",\"ClientId\":\"84ba0947-6c53-4dd2-9ca9-b3694761521b\",\"Scopes\":[\"https://quantum.microsoft.com/Jobs.ReadWrite\",\"offline_access\",\"profile\",\"openid\"]}",
      "text/html": [
       "To sign in, use a web browser to open the page <a href=\"https://microsoft.com/devicelogin\"><code>https://microsoft.com/devicelogin</code></a> and enter the code <span id=\"22becac7-72df-4a6a-bc7a-385c04f7aed8\" style=\"background-color: #e0e0e0;\">\r\n",
       "                            <i class=\"fa fa-clipboard\" aria-hidden=\"true\"></i>\r\n",
       "                            <strong style=\"padding-right: 0.2em\">RTQH6AYM9</strong></span> to authenticate.\n",
       "<script>\r\n",
       "                    window.iqsharp.addCopyListener(\"22becac7-72df-4a6a-bc7a-385c04f7aed8\", \"RTQH6AYM9\");\r\n",
       "                </script>"
      ],
      "text/plain": [
       "To sign in, use a web browser to open the page https://microsoft.com/devicelogin and enter the code RTQH6AYM9 to authenticate."
      ]
     },
     "metadata": {},
     "output_type": "display_data"
    },
    {
     "name": "stdout",
     "output_type": "stream",
     "text": [
      "Loading package Microsoft.Quantum.Providers.IonQ and dependencies...\n",
      "Active target is now ionq.qpu\n"
     ]
    },
    {
     "data": {
      "text/plain": [
       "{'id': 'ionq.qpu', 'current_availability': 'Available', 'average_queue_time': 50}"
      ]
     },
     "execution_count": 12,
     "metadata": {},
     "output_type": "execute_result"
    }
   ],
   "source": [
    "qsharp.azure.target(\"ionq.qpu\")"
   ]
  },
  {
   "cell_type": "code",
   "execution_count": 13,
   "id": "shared-correction",
   "metadata": {
    "scrolled": true
   },
   "outputs": [
    {
     "data": {
      "application/json": "{\"UserCode\":\"RGBHQD3KZ\",\"DeviceCode\":\"RAQABAAEAAAD--DLA3VO7QrddgJg7WevrYREdDL5h2H_ePTSLZ2uBL4EZ94RMjHjoDwNwKg2xNc44_ry5KVlPes6qo-dtUMJbBbL8DXAFp4GrG7p5pHlSqaO_tA9ovUnnR_FmX-ZjxD0fi6sdNQctd-cKnAKUjWCg7BqvgaV-3u870hFG-KP79QMwFcCJeJcr08eA0sv5tZMgAA\",\"VerificationUrl\":\"https://microsoft.com/devicelogin\",\"ExpiresOn\":\"2021-03-02T01:12:36.20642+00:00\",\"Interval\":5,\"Message\":\"To sign in, use a web browser to open the page https://microsoft.com/devicelogin and enter the code RGBHQD3KZ to authenticate.\",\"ClientId\":\"84ba0947-6c53-4dd2-9ca9-b3694761521b\",\"Scopes\":[\"https://quantum.microsoft.com/Jobs.ReadWrite\",\"offline_access\",\"profile\",\"openid\"]}",
      "text/html": [
       "To sign in, use a web browser to open the page <a href=\"https://microsoft.com/devicelogin\"><code>https://microsoft.com/devicelogin</code></a> and enter the code <span id=\"688bd129-13d5-441a-80ce-adc730fa598c\" style=\"background-color: #e0e0e0;\">\r\n",
       "                            <i class=\"fa fa-clipboard\" aria-hidden=\"true\"></i>\r\n",
       "                            <strong style=\"padding-right: 0.2em\">RGBHQD3KZ</strong></span> to authenticate.\n",
       "<script>\r\n",
       "                    window.iqsharp.addCopyListener(\"688bd129-13d5-441a-80ce-adc730fa598c\", \"RGBHQD3KZ\");\r\n",
       "                </script>"
      ],
      "text/plain": [
       "To sign in, use a web browser to open the page https://microsoft.com/devicelogin and enter the code RGBHQD3KZ to authenticate."
      ]
     },
     "metadata": {},
     "output_type": "display_data"
    },
    {
     "name": "stdout",
     "output_type": "stream",
     "text": [
      "Submitting Test to target ionq.qpu...\n",
      "Job successfully submitted for 100 shots.\n",
      "   Job name: Simulate Hydrogen using VQE\n",
      "   Job ID: cb123e27-7467-4844-a5bb-3fbbbe73a4e7\n",
      "Waiting up to 30 seconds for Azure Quantum job to complete...\n",
      "[4:58:14 PM] Current job status: Waiting\n",
      "[4:58:19 PM] Current job status: Waiting\n",
      "[4:58:24 PM] Current job status: Succeeded\n"
     ]
    },
    {
     "data": {
      "application/json": "{\"UserCode\":\"RR5PHG6QF\",\"DeviceCode\":\"RAQABAAEAAAD--DLA3VO7QrddgJg7WevrnNSQo-TSINFlSfSlCti5ara1INrjikTi0rAVMJr2cJBIVhf2b92npCxZmBcX8_faBEgcLHU0fIeI0Tg4Q_omFlTdfciNEaglNfJoj60lhNT66J4tFpJSb-OWdUtJ63p-K8X1sLAUprtKtKy6m2W0JOkWE-R0N6AZznjT6PohVYYgAA\",\"VerificationUrl\":\"https://microsoft.com/devicelogin\",\"ExpiresOn\":\"2021-03-02T01:13:25.245292+00:00\",\"Interval\":5,\"Message\":\"To sign in, use a web browser to open the page https://microsoft.com/devicelogin and enter the code RR5PHG6QF to authenticate.\",\"ClientId\":\"84ba0947-6c53-4dd2-9ca9-b3694761521b\",\"Scopes\":[\"https://quantum.microsoft.com/Jobs.ReadWrite\",\"offline_access\",\"profile\",\"openid\"]}",
      "text/html": [
       "To sign in, use a web browser to open the page <a href=\"https://microsoft.com/devicelogin\"><code>https://microsoft.com/devicelogin</code></a> and enter the code <span id=\"566b2252-ca06-4012-9f74-21026b3726d5\" style=\"background-color: #e0e0e0;\">\r\n",
       "                            <i class=\"fa fa-clipboard\" aria-hidden=\"true\"></i>\r\n",
       "                            <strong style=\"padding-right: 0.2em\">RR5PHG6QF</strong></span> to authenticate.\n",
       "<script>\r\n",
       "                    window.iqsharp.addCopyListener(\"566b2252-ca06-4012-9f74-21026b3726d5\", \"RR5PHG6QF\");\r\n",
       "                </script>"
      ],
      "text/plain": [
       "To sign in, use a web browser to open the page https://microsoft.com/devicelogin and enter the code RR5PHG6QF to authenticate."
      ]
     },
     "metadata": {},
     "output_type": "display_data"
    },
    {
     "name": "stdout",
     "output_type": "stream",
     "text": [
      "Azure Quantum service execution result: {'0': 0.01, '1': 0.99}\n"
     ]
    }
   ],
   "source": [
    "result2 = qsharp.azure.execute(\n",
    "    Test,\n",
    "    theta1=0.001,\n",
    "    theta2=-0.001,\n",
    "    theta3=0.001,\n",
    "    termType=0,\n",
    "    shots=100,\n",
    "    nHam=0,\n",
    "    nOp=0,\n",
    "    jobName=\"Simulate Hydrogen using VQE\"\n",
    ")\n",
    "print(f'Azure Quantum service execution result: {result2}')"
   ]
  },
  {
   "cell_type": "code",
   "execution_count": 13,
   "id": "intimate-fluid",
   "metadata": {},
   "outputs": [],
   "source": [
    "import subprocess"
   ]
  },
  {
   "cell_type": "code",
   "execution_count": null,
   "id": "checked-lesbian",
   "metadata": {},
   "outputs": [],
   "source": [
    "subprocess.run"
   ]
  },
  {
   "cell_type": "code",
   "execution_count": null,
   "id": "detected-hybrid",
   "metadata": {},
   "outputs": [],
   "source": []
  }
 ],
 "metadata": {
  "kernelspec": {
   "display_name": "Python 3",
   "language": "python",
   "name": "python3"
  },
  "language_info": {
   "codemirror_mode": {
    "name": "ipython",
    "version": 3
   },
   "file_extension": ".py",
   "mimetype": "text/x-python",
   "name": "python",
   "nbconvert_exporter": "python",
   "pygments_lexer": "ipython3",
   "version": "3.7.9"
  }
 },
 "nbformat": 4,
 "nbformat_minor": 5
}
